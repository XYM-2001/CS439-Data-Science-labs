{
 "cells": [
  {
   "cell_type": "markdown",
   "metadata": {
    "id": "6uBju7svapPs"
   },
   "source": [
    "<div class=\"alert alert-block alert-info\">\n",
    "<h3>Student(s) Information</h3> Please provide information about yourself.<br>\n",
    "<b>Name1</b>: Xinyu Meng<br>\n",
    "<b>Name2 (optional) </b>:<br>\n",
    "<b>NetID 1</b>: xm73<br>\n",
    "<b>NetID 2 (optional)</b>:<br>\n",
    "<b>Group Project Declaration</b> (please provide a brief description of your partners contribution to the project. Do not discuss with partner before writing this):<br>\n",
    "<br><br>\n",
    "<b>IMPORTANT</b>\n",
    "Your work will not be graded withour your initials below<br>\n",
    "I certify that this lab represents my own work and I have read the RU academic intergrity policies at<br>\n",
    "<a href=\"https://www.cs.rutgers.edu/academic-integrity/introduction\">https://www.cs.rutgers.edu/academic-integrity/introduction </a><br>\n",
    "<b>Initials</b>:      \n",
    "X.M\n",
    "\n",
    "<h3>Grader Notes</h3>\n",
    "<b>Your Grade<b>:<br>\n",
    "<b>Grader Initials</b>:<br>\n",
    "<b>Grader Comments</b> (optional):<br>\n",
    "</div>\n",
    "\n",
    "### CS 439 - Introduction to Data Science\n",
    "### Fall 2022\n",
    "\n",
    "# Midsemester Project : Twitter Data Analysis\n",
    "\n",
    "### Due Date : Wednesday November 23rd, 2022 by 11:59 PM \n",
    "\n",
    "\n",
    "### About this project\n",
    "This is your mid-semester project. You can work on this project in two ways.\n",
    "    \n",
    "#### You can work with a partner\n",
    "Only one partner (max two per group) is allowed. Each person in the group is expected to contribute equally to project. The team needs to do work equivalent to 2 individuals. We will be strict in grading criteria for groups. The team also needs to work hard to find good answers for Part 1 and Part 7. A post questionaire may be given to assess each person contribution. Each person in the team MUST submit a copy of the project. You MUST complete this survey by 11/10 to work as a team <a href=\"https://forms.gle/2qcog71UqQsgovCB8\">CLICK HERE TO FILL THE SURVEY </a>\n",
    "\n",
    "#### You can work by yourself\n",
    "If you work by yourself, you have two parts optional. Part 1 and Part 7. \n",
    "    \n",
    "### Project Purpose    \n",
    " \n",
    "The goal of this mid-semester project is to work with Twitter API to analyze tweets from a person, and in this case, Former President Donald Trump.  @RealDonaldTrump tweets provide a great opportunity to understand how online media can be used to communicate over the traditional media. In fact, social media post are so influential, now the traditional media spends considerable amount of time discussing social media posts. Tweets from people such as Donald Trump and Elon Musk have become so consequential, they can move the stock market on short term and get network TV to debate and discuss hours and hours about what Trump or Musk meant.\n",
    "\n",
    "We hope this project will be fun as we can analyze range of emotions, hope, controversy, vagueness that are part of Trump tweets. We are interested in seeing what conclusions you can draw from US Presidents tweets. \n",
    "* DISCLAIMER: This project is not designed with any bias in mind. Note that we could pick any person (Hillary Clinton or Donald Trump or Elon Musk) or anyone else to do the same analysis. We hope your analysis is objective, independent of any political bias you may have. As Data Scientists, it is our responsiblity to do independent analysis of the data we try to understand. You should follow data and interpret w/o any bias.\n"
   ]
  },
  {
   "cell_type": "markdown",
   "metadata": {
    "id": "nrwHuwfbapPw"
   },
   "source": [
    "## Set up\n",
    "Let us get all the libaries initialized as necessary"
   ]
  },
  {
   "cell_type": "code",
   "execution_count": 1,
   "metadata": {
    "id": "M_FL--h5apPw"
   },
   "outputs": [],
   "source": [
    "# Run this cell to set up your notebook\n",
    "import csv\n",
    "import numpy as np\n",
    "import pandas as pd\n",
    "import matplotlib.pyplot as plt\n",
    "import zipfile\n",
    "import json\n",
    "\n",
    "# Ensure that Pandas shows at least 280 characters in columns, so we can see full tweets\n",
    "pd.set_option('max_colwidth', 280)\n",
    "\n",
    "%matplotlib inline\n",
    "plt.style.use('fivethirtyeight')\n",
    "import seaborn as sns\n",
    "sns.set()\n",
    "sns.set_context(\"talk\")\n",
    "import re"
   ]
  },
  {
   "cell_type": "markdown",
   "metadata": {
    "id": "6ORGPFVgapPx"
   },
   "source": [
    "## Downloading Recent Tweets (group only)\n",
    "It is important to download the most recent tweets (especially if you are working as a group). Those who are working by themselves are allowed to use the downloaded files in data folder w/o setting up access to any twitter API (which can sometime be bit complicated). Twitter provides the API Tweepy (http://www.tweepy.org/) that makes it easy to access twitter content that is publicly available. We will also provide example code as needed."
   ]
  },
  {
   "cell_type": "code",
   "execution_count": 2,
   "metadata": {
    "id": "JOOqNiaJapPy"
   },
   "outputs": [],
   "source": [
    "## Make sure you have set up tweepy if you are working locally.\n",
    "# https://www.pythoncentral.io/introduction-to-tweepy-twitter-for-python/\n",
    "# After set up, the following should run:\n",
    "import tweepy"
   ]
  },
  {
   "cell_type": "markdown",
   "metadata": {
    "id": "pSnwuTGlapPy"
   },
   "source": [
    "## PART 1:  Accessing Twitter API  (optional for individuals)\n",
    "In order to access Twitter API, you need to get keys by signing up as a Twitter developer. We will walk you through this process. \n",
    "* if you are working by yourself on this project, you can skip PART 1, and complete the project using the data files provided in the data folder. PART 1 is optional for those working by themselves. However, we highly recommend that you do Part 1 (after completing the project with offline data) if you would like to \"learn\" how to use Twitter API that might be useful."
   ]
  },
  {
   "cell_type": "markdown",
   "metadata": {
    "id": "4ua3d1joapPz"
   },
   "source": [
    "### Task 1.1\n",
    "\n",
    "Follow the instructions below to get your Twitter API keys.  **Read the instructions completely before starting.**\n",
    "\n",
    "1. [Create a Twitter account](https://twitter.com/).  You can use an existing account if you have one; if you prefer to not do this assignment under your regular account, feel free to create a throw-away account.\n",
    "2. Under account settings, add your phone number to the account.\n",
    "3. [Create a Twitter developer account](https://developer.twitter.com/en) by clicking the 'Apply' button on the top right of the page. Attach it to your Twitter account. You'll have to fill out a form describing what you want to do with the developer account. Explain that you are doing this for a class at Rutgers University and that you don't know exactly what you're building yet and just need the account to get started. These applications are approved by some sort of AI system, so it doesn't matter exactly what you write. Just don't enter a bunch of alweiofalwiuhflawiuehflawuihflaiwhfe type stuff or you might get rejected.\n",
    "4. Once you're logged into your developer account, [create an application for this assignment](https://developer.twitter.com/en/docs/projects/overview).  You can call it whatever you want, and you can write any URL when it asks for a web site.  You don't need to provide a callback URL.\n",
    "5. On the page for that application, find your Consumer Key and Consumer Secret.\n",
    "6. On the same page, create an Access Token.  Record the resulting Access Token and Access Token Secret.\n",
    "7. Edit the file [keys.json](keys.json) and replace the placeholders with your keys."
   ]
  },
  {
   "cell_type": "markdown",
   "metadata": {
    "id": "1OgUJbFCapP0"
   },
   "source": [
    "## WARNING (Please Read) !!!!\n",
    "\n",
    "\n",
    "### Protect your Twitter Keys\n",
    "<span style=\"color:red\">\n",
    "If someone has your authentication keys, they can access your Twitter account and post as you!  So don't give them to anyone, and **don't write them down in this notebook**. \n",
    "</span>\n",
    "The usual way to store sensitive information like this is to put it in a separate file and read it programmatically.  That way, you can share the rest of your code without sharing your keys.  That's why we're asking you to put your keys in `keys.json` for this assignment.\n",
    "\n",
    "\n",
    "### Avoid making too many API calls.\n",
    "\n",
    "<span style=\"color:red\">\n",
    "Twitter limits developers to a certain rate of requests for data.  If you make too many requests in a short period of time, you'll have to wait awhile (around 15 minutes) before you can make more.  </span> \n",
    "So carefully follow the code examples you see and don't rerun cells without thinking.  Instead, always save the data you've collected to a file.  We've provided templates to help you do that.\n",
    "\n",
    "\n",
    "### Be careful about which functions you call!\n",
    "\n",
    "<span style=\"color:red\">\n",
    "This API can retweet tweets, follow and unfollow people, and modify your twitter settings.  Be careful which functions you invoke! </span> It is possible that you can accidentally re-tweet some tweets because you typed `retweet` instead of `retweet_count`. \n",
    "</span>\n"
   ]
  },
  {
   "cell_type": "code",
   "execution_count": 3,
   "metadata": {
    "colab": {
     "base_uri": "https://localhost:8080/",
     "height": 232
    },
    "id": "s3GABOPEapP0",
    "outputId": "22edcb96-5f48-4682-8d8c-ed669bca9294"
   },
   "outputs": [],
   "source": [
    "# import json\n",
    "# key_file = 'keys.json'\n",
    "# # Loading your keys from keys.json (which you should have filled\n",
    "# # in in question 1):\n",
    "# with open(key_file) as f:\n",
    "#     keys = json.load(f)\n",
    "# if you print or view the contents of keys be sure to delete the cell!"
   ]
  },
  {
   "cell_type": "markdown",
   "metadata": {
    "id": "woTVwrZWapP1"
   },
   "source": [
    "### Task 1.2 Testing Twitter Authentication\n",
    "This following code should run w/o erros or warnings and display Rutgers University's twitter username"
   ]
  },
  {
   "cell_type": "code",
   "execution_count": 4,
   "metadata": {
    "id": "jeF48lesapP1",
    "outputId": "7d96ba32-cb41-4356-b10d-b0f57480bb96"
   },
   "outputs": [],
   "source": [
    "# import tweepy\n",
    "# from tweepy import TweepyException\n",
    "# import logging\n",
    "\n",
    "# try:\n",
    "#     auth = tweepy.OAuthHandler(keys[\"consumer_key\"], keys[\"consumer_secret\"])\n",
    "#     redirect_url = auth.get_authorization_url()\n",
    "#     auth.set_access_token(keys[\"access_token\"], keys[\"access_token_secret\"])\n",
    "#     api = tweepy.API(auth)\n",
    "#     print(\"Rutgers username is:\", api.get_user(screen_name=\"RutgersU\").name)\n",
    "# except TweepyException as e:\n",
    "#     logging.warning(\"There was a Tweepy error. Double check your API keys and try again.\")\n",
    "#     logging.warning(e)"
   ]
  },
  {
   "cell_type": "markdown",
   "metadata": {},
   "source": [
    "### Task 1.3\n",
    "\n",
    "### What you need to do. \n",
    "\n",
    "Re-factor the above code fragment into reusable snippets below.  You should not need to make major modifications; this is mostly an exercise in understanding the above code block. "
   ]
  },
  {
   "cell_type": "code",
   "execution_count": 5,
   "metadata": {},
   "outputs": [],
   "source": [
    "# def load_keys(path):\n",
    "#     \"\"\"Loads your Twitter authentication keys from a file on disk.\n",
    "    \n",
    "#     Args:\n",
    "#         path (str): The path to your key file.  The file should\n",
    "#           be in JSON format and look like this (but filled in):\n",
    "#             {\n",
    "#                 \"consumer_key\": \"<your Consumer Key here>\",\n",
    "#                 \"consumer_secret\":  \"<your Consumer Secret here>\",\n",
    "#                 \"access_token\": \"<your Access Token here>\",\n",
    "#                 \"access_token_secret\": \"<your Access Token Secret here>\"\n",
    "#             }\n",
    "    \n",
    "#     Returns:\n",
    "#         dict: A dictionary mapping key names (like \"consumer_key\") to\n",
    "#           key values.\"\"\"\n",
    "    \n",
    "#     ### BEGIN ANSWER\n",
    "   \n",
    "#     # your solution here\n",
    "\n",
    "#     ### END ANSWER"
   ]
  },
  {
   "cell_type": "code",
   "execution_count": 6,
   "metadata": {},
   "outputs": [],
   "source": [
    "# def download_recent_tweets_by_user(user_account_name, keys):\n",
    "#     \"\"\"Downloads tweets by one Twitter user.\n",
    "\n",
    "#     Args:\n",
    "#         user_account_name (str): The name of the Twitter account\n",
    "#           whose tweets will be downloaded.\n",
    "#         keys (dict): A Python dictionary with Twitter authentication\n",
    "#           keys (strings), like this (but filled in):\n",
    "#             {\n",
    "#                 \"consumer_key\": \"<your Consumer Key here>\",\n",
    "#                 \"consumer_secret\":  \"<your Consumer Secret here>\",\n",
    "#                 \"access_token\": \"<your Access Token here>\",\n",
    "#                 \"access_token_secret\": \"<your Access Token Secret here>\"\n",
    "#             }\n",
    "\n",
    "#     Returns:\n",
    "#         list: A list of Dictonary objects, each representing one tweet.\"\"\"\n",
    "#     import tweepy\n",
    "    \n",
    "#    ### BEGIN ANSWER\n",
    "   \n",
    "#     # your solution here\n",
    "\n",
    "#     ### END ANSWER"
   ]
  },
  {
   "cell_type": "code",
   "execution_count": 7,
   "metadata": {},
   "outputs": [],
   "source": [
    "# def load_tweets(path):\n",
    "#     \"\"\"Loads tweets that have previously been saved.\n",
    "    \n",
    "#     Calling load_tweets(path) after save_tweets(tweets, path)\n",
    "#     will produce the same list of tweets.\n",
    "    \n",
    "#     Args:\n",
    "#         path (str): The place where the tweets were be saved.\n",
    "\n",
    "#     Returns:\n",
    "#         list: A list of Dictionary objects, each representing one tweet.\"\"\"\n",
    "    \n",
    "#     ### BEGIN ANSWER\n",
    "   \n",
    "#     # your solution here\n",
    "\n",
    "#     ### END ANSWER"
   ]
  },
  {
   "cell_type": "code",
   "execution_count": 8,
   "metadata": {},
   "outputs": [],
   "source": [
    "# def get_tweets_with_cache(user_account_name, keys_path):\n",
    "#     \"\"\"Get recent tweets from one user, loading from a disk cache if available.\n",
    "    \n",
    "#     The first time you call this function, it will download tweets by\n",
    "#     a user.  Subsequent calls will not re-download the tweets; instead\n",
    "#     they'll load the tweets from a save file in your local filesystem.\n",
    "#     All this is done using the functions you defined in the previous cell.\n",
    "#     This has benefits and drawbacks that often appear when you cache data:\n",
    "    \n",
    "#     +: Using this function will prevent extraneous usage of the Twitter API.\n",
    "#     +: You will get your data much faster after the first time it's called.\n",
    "#     -: If you really want to re-download the tweets (say, to get newer ones,\n",
    "#        or because you screwed up something in the previous cell and your\n",
    "#        tweets aren't what you wanted), you'll have to find the save file\n",
    "#        (which will look like <something>_recent_tweets.pkl) and delete it.\n",
    "    \n",
    "#     Args:\n",
    "#         user_account_name (str): The Twitter handle of a user, without the @.\n",
    "#         keys_path (str): The path to a JSON keys file in your filesystem.\n",
    "#     \"\"\"\n",
    "    \n",
    "#     ### BEGIN ANSWER\n",
    "   \n",
    "#     # your solution here\n",
    "\n",
    "#     ### END ANSWER"
   ]
  },
  {
   "cell_type": "markdown",
   "metadata": {},
   "source": [
    "### Task 1.4\n",
    "If everything was implemented correctly you should be able to obtain roughly the last 3000 tweets by @RutgersU. (This may take a few minutes)"
   ]
  },
  {
   "cell_type": "code",
   "execution_count": 9,
   "metadata": {},
   "outputs": [],
   "source": [
    "# # When you are done, run this cell to load @RutgersU 's tweets.\n",
    "# # Note the function get_tweets_with_cache.  You may find it useful\n",
    "# # later.\n",
    "# rutgers_tweets = get_tweets_with_cache(\"RutgersU\", key_file)\n",
    "# print(\"Number of tweets downloaded:\", len(rutgers_tweets))"
   ]
  },
  {
   "cell_type": "markdown",
   "metadata": {
    "id": "usVPef0dapP2"
   },
   "source": [
    "## PART 2 - Working with Twitter Data (group and individual)\n",
    "The json file in data folder contains (to be downloaded by you) some loaded tweets from @RutgersU. Run it and read the code. You can also try other json files in the data folder to try this. "
   ]
  },
  {
   "cell_type": "code",
   "execution_count": 10,
   "metadata": {
    "id": "LtJWj1sVapP2"
   },
   "outputs": [],
   "source": [
    "from pathlib import Path\n",
    "import json\n",
    "\n",
    "ds_tweets_save_path = \"data/RutgersU_recent_tweets.json\"   # need to get this file\n",
    "\n",
    "# Guarding against attempts to download the data multiple\n",
    "# times:\n",
    "if not Path(ds_tweets_save_path).is_file():\n",
    "    # Getting as many recent tweets by @RutgersU as Twitter will let us have.\n",
    "    # We use tweet_mode='extended' so that Twitter gives us full 280 character tweets.\n",
    "    # This was a change introduced in September 2017.\n",
    "    \n",
    "    # The tweepy Cursor API actually returns \"sophisticated\" Status objects but we \n",
    "    # will use the basic Python dictionaries stored in the _json field. \n",
    "    example_tweets = [t._json for t in tweepy.Cursor(api.user_timeline, screen_name=\"RutgersU\", \n",
    "                                             tweet_mode='extended').items()]\n",
    "    \n",
    "    # Saving the tweets to a json file on disk for future analysis\n",
    "    with open(ds_tweets_save_path, \"w\") as f:        \n",
    "        json.dump(example_tweets, f)\n",
    "\n",
    "# Re-loading the json file:\n",
    "with open(ds_tweets_save_path, \"r\") as f:\n",
    "    example_tweets = json.load(f)"
   ]
  },
  {
   "cell_type": "markdown",
   "metadata": {
    "id": "hPx2hgTcapP3"
   },
   "source": [
    "If things ran as expected, you should be able to look at the first tweet by running the code below. It probabably does not make sense to view all tweets in a notebook, as size of the tweets can freeze your browser (always a good idea to press ctrl-S to save the latest, in case you have to restart Jupyter)"
   ]
  },
  {
   "cell_type": "code",
   "execution_count": 11,
   "metadata": {
    "id": "V6YxFwAKapP3",
    "outputId": "9c8bb2ee-4f49-4f05-cc2b-546fd168dd25"
   },
   "outputs": [
    {
     "name": "stdout",
     "output_type": "stream",
     "text": [
      "{'contributors': None,\n",
      " 'coordinates': None,\n",
      " 'created_at': 'Sat Nov 02 23:02:49 +0000 2019',\n",
      " 'display_text_range': [0, 140],\n",
      " 'entities': {'hashtags': [{'indices': [22, 31], 'text': 'internet'}],\n",
      "              'symbols': [],\n",
      "              'urls': [],\n",
      "              'user_mentions': [{'id': 955836661702774784,\n",
      "                                 'id_str': '955836661702774784',\n",
      "                                 'indices': [3, 13],\n",
      "                                 'name': 'Rutgers University–New Brunswick',\n",
      "                                 'screen_name': 'RutgersNB'},\n",
      "                                {'id': 52517689,\n",
      "                                 'id_str': '52517689',\n",
      "                                 'indices': [42, 58],\n",
      "                                 'name': 'Rutgers School of Communication and '\n",
      "                                         'Information',\n",
      "                                 'screen_name': 'RutgersCommInfo'},\n",
      "                                {'id': 392737670,\n",
      "                                 'id_str': '392737670',\n",
      "                                 'indices': [61, 72],\n",
      "                                 'name': 'Mary Chayko',\n",
      "                                 'screen_name': 'MaryChayko'}]},\n",
      " 'favorite_count': 0,\n",
      " 'favorited': False,\n",
      " 'full_text': \"RT @RutgersNB: As the #internet turns 50, @RutgersCommInfo's \"\n",
      "              '@MaryChayko focuses on how we have used the innovation and what '\n",
      "              'it has meant f…',\n",
      " 'geo': None,\n",
      " 'id': 1190766238110236673,\n",
      " 'id_str': '1190766238110236673',\n",
      " 'in_reply_to_screen_name': None,\n",
      " 'in_reply_to_status_id': None,\n",
      " 'in_reply_to_status_id_str': None,\n",
      " 'in_reply_to_user_id': None,\n",
      " 'in_reply_to_user_id_str': None,\n",
      " 'is_quote_status': False,\n",
      " 'lang': 'en',\n",
      " 'place': None,\n",
      " 'retweet_count': 3,\n",
      " 'retweeted': False,\n",
      " 'retweeted_status': {'contributors': None,\n",
      "                      'coordinates': None,\n",
      "                      'created_at': 'Sat Nov 02 18:26:39 +0000 2019',\n",
      "                      'display_text_range': [0, 191],\n",
      "                      'entities': {'hashtags': [{'indices': [7, 16],\n",
      "                                                 'text': 'internet'}],\n",
      "                                   'symbols': [],\n",
      "                                   'urls': [{'display_url': 'nbcnews.com/think/opinion/…',\n",
      "                                             'expanded_url': 'https://www.nbcnews.com/think/opinion/what-50-years-spent-internet-worth-humanity-ncna1073656',\n",
      "                                             'indices': [168, 191],\n",
      "                                             'url': 'https://t.co/dmxjKYGmvU'}],\n",
      "                                   'user_mentions': [{'id': 52517689,\n",
      "                                                      'id_str': '52517689',\n",
      "                                                      'indices': [27, 43],\n",
      "                                                      'name': 'Rutgers School '\n",
      "                                                              'of '\n",
      "                                                              'Communication '\n",
      "                                                              'and Information',\n",
      "                                                      'screen_name': 'RutgersCommInfo'},\n",
      "                                                     {'id': 392737670,\n",
      "                                                      'id_str': '392737670',\n",
      "                                                      'indices': [46, 57],\n",
      "                                                      'name': 'Mary Chayko',\n",
      "                                                      'screen_name': 'MaryChayko'}]},\n",
      "                      'favorite_count': 6,\n",
      "                      'favorited': False,\n",
      "                      'full_text': 'As the #internet turns 50, '\n",
      "                                   \"@RutgersCommInfo's @MaryChayko focuses on \"\n",
      "                                   'how we have used the innovation and what '\n",
      "                                   'it has meant for the way we communicate '\n",
      "                                   'with each other.\\n'\n",
      "                                   '\\n'\n",
      "                                   'https://t.co/dmxjKYGmvU',\n",
      "                      'geo': None,\n",
      "                      'id': 1190696737868001280,\n",
      "                      'id_str': '1190696737868001280',\n",
      "                      'in_reply_to_screen_name': None,\n",
      "                      'in_reply_to_status_id': None,\n",
      "                      'in_reply_to_status_id_str': None,\n",
      "                      'in_reply_to_user_id': None,\n",
      "                      'in_reply_to_user_id_str': None,\n",
      "                      'is_quote_status': False,\n",
      "                      'lang': 'en',\n",
      "                      'place': None,\n",
      "                      'possibly_sensitive': False,\n",
      "                      'retweet_count': 3,\n",
      "                      'retweeted': False,\n",
      "                      'source': '<a href=\"https://sproutsocial.com\" '\n",
      "                                'rel=\"nofollow\">Sprout Social</a>',\n",
      "                      'truncated': False,\n",
      "                      'user': {'can_media_tag': True,\n",
      "                               'contributors_enabled': False,\n",
      "                               'created_at': 'Tue Jan 23 16:16:33 +0000 2018',\n",
      "                               'default_profile': False,\n",
      "                               'default_profile_image': False,\n",
      "                               'description': 'The official Twitter account of '\n",
      "                                              'Rutgers University–New '\n",
      "                                              'Brunswick, the flagship home of '\n",
      "                                              'Rutgers, The State University '\n",
      "                                              'of New Jersey.',\n",
      "                               'entities': {'description': {'urls': []},\n",
      "                                            'url': {'urls': [{'display_url': 'newbrunswick.rutgers.edu',\n",
      "                                                              'expanded_url': 'https://newbrunswick.rutgers.edu/',\n",
      "                                                              'indices': [0,\n",
      "                                                                          23],\n",
      "                                                              'url': 'https://t.co/Pll3p27ECO'}]}},\n",
      "                               'favourites_count': 1274,\n",
      "                               'follow_request_sent': False,\n",
      "                               'followed_by': False,\n",
      "                               'followers_count': 2094,\n",
      "                               'following': False,\n",
      "                               'friends_count': 178,\n",
      "                               'geo_enabled': True,\n",
      "                               'has_extended_profile': False,\n",
      "                               'id': 955836661702774784,\n",
      "                               'id_str': '955836661702774784',\n",
      "                               'is_translation_enabled': False,\n",
      "                               'is_translator': False,\n",
      "                               'lang': None,\n",
      "                               'listed_count': 18,\n",
      "                               'location': 'New Brunswick, NJ',\n",
      "                               'name': 'Rutgers University–New Brunswick',\n",
      "                               'notifications': False,\n",
      "                               'profile_background_color': '000000',\n",
      "                               'profile_background_image_url': 'http://abs.twimg.com/images/themes/theme1/bg.png',\n",
      "                               'profile_background_image_url_https': 'https://abs.twimg.com/images/themes/theme1/bg.png',\n",
      "                               'profile_background_tile': False,\n",
      "                               'profile_banner_url': 'https://pbs.twimg.com/profile_banners/955836661702774784/1564589696',\n",
      "                               'profile_image_url': 'http://pbs.twimg.com/profile_images/1111272066609827848/9zSX0WEt_normal.png',\n",
      "                               'profile_image_url_https': 'https://pbs.twimg.com/profile_images/1111272066609827848/9zSX0WEt_normal.png',\n",
      "                               'profile_link_color': 'E81C4F',\n",
      "                               'profile_sidebar_border_color': '000000',\n",
      "                               'profile_sidebar_fill_color': '000000',\n",
      "                               'profile_text_color': '000000',\n",
      "                               'profile_use_background_image': False,\n",
      "                               'protected': False,\n",
      "                               'screen_name': 'RutgersNB',\n",
      "                               'statuses_count': 1679,\n",
      "                               'time_zone': None,\n",
      "                               'translator_type': 'none',\n",
      "                               'url': 'https://t.co/Pll3p27ECO',\n",
      "                               'utc_offset': None,\n",
      "                               'verified': False}},\n",
      " 'source': '<a href=\"http://twitter.com/download/iphone\" '\n",
      "           'rel=\"nofollow\">Twitter for iPhone</a>',\n",
      " 'truncated': False,\n",
      " 'user': {'can_media_tag': True,\n",
      "          'contributors_enabled': False,\n",
      "          'created_at': 'Wed Jan 21 02:57:47 +0000 2009',\n",
      "          'default_profile': False,\n",
      "          'default_profile_image': False,\n",
      "          'description': 'Rutgers, The State University of New Jersey, is a '\n",
      "                         'leading public research university. Follow us for '\n",
      "                         'all things Rutgers.',\n",
      "          'entities': {'description': {'urls': []},\n",
      "                       'url': {'urls': [{'display_url': 'rutgers.edu',\n",
      "                                         'expanded_url': 'http://www.rutgers.edu',\n",
      "                                         'indices': [0, 22],\n",
      "                                         'url': 'http://t.co/stAPJIzh8b'}]}},\n",
      "          'favourites_count': 4590,\n",
      "          'follow_request_sent': False,\n",
      "          'followed_by': False,\n",
      "          'followers_count': 132798,\n",
      "          'following': False,\n",
      "          'friends_count': 595,\n",
      "          'geo_enabled': True,\n",
      "          'has_extended_profile': False,\n",
      "          'id': 19272796,\n",
      "          'id_str': '19272796',\n",
      "          'is_translation_enabled': False,\n",
      "          'is_translator': False,\n",
      "          'lang': None,\n",
      "          'listed_count': 838,\n",
      "          'location': 'New Jersey',\n",
      "          'name': 'Rutgers University',\n",
      "          'notifications': False,\n",
      "          'profile_background_color': 'C7141C',\n",
      "          'profile_background_image_url': 'http://abs.twimg.com/images/themes/theme15/bg.png',\n",
      "          'profile_background_image_url_https': 'https://abs.twimg.com/images/themes/theme15/bg.png',\n",
      "          'profile_background_tile': False,\n",
      "          'profile_banner_url': 'https://pbs.twimg.com/profile_banners/19272796/1494779773',\n",
      "          'profile_image_url': 'http://pbs.twimg.com/profile_images/809450270375772160/rWmyBIig_normal.jpg',\n",
      "          'profile_image_url_https': 'https://pbs.twimg.com/profile_images/809450270375772160/rWmyBIig_normal.jpg',\n",
      "          'profile_link_color': '0084B4',\n",
      "          'profile_sidebar_border_color': '000205',\n",
      "          'profile_sidebar_fill_color': 'C0DFEC',\n",
      "          'profile_text_color': '333333',\n",
      "          'profile_use_background_image': False,\n",
      "          'protected': False,\n",
      "          'screen_name': 'RutgersU',\n",
      "          'statuses_count': 16165,\n",
      "          'time_zone': None,\n",
      "          'translator_type': 'none',\n",
      "          'url': 'http://t.co/stAPJIzh8b',\n",
      "          'utc_offset': None,\n",
      "          'verified': True}}\n"
     ]
    }
   ],
   "source": [
    "# Looking at one tweet object, which has type Status: \n",
    "from pprint import pprint # ...to get a more easily-readable view.\n",
    "pprint(example_tweets[0])"
   ]
  },
  {
   "cell_type": "markdown",
   "metadata": {
    "id": "6vhrwHw5apP5"
   },
   "source": [
    "### Task 2.2\n",
    "To be consistent we are going to use the same dataset no matter what you get from your twitter api. So from this point on, if you are working as a group or individually, be sure to use the data sets provided to you in the zip file. There should be two json files inside your data folder. One is '2017-2018.json', the other one is '2016-2017.json'. We will load the '2017-2018.json' first."
   ]
  },
  {
   "cell_type": "code",
   "execution_count": 12,
   "metadata": {
    "id": "kLq9NDhAapP5"
   },
   "outputs": [],
   "source": [
    "def load_tweets(path):\n",
    "    \"\"\"Loads tweets that have previously been saved.\n",
    "    \n",
    "    Calling load_tweets(path) after save_tweets(tweets, path)\n",
    "    will produce the same list of tweets.\n",
    "    \n",
    "    Args:\n",
    "        path (str): The place where the tweets will be saved.\n",
    "\n",
    "    Returns:\n",
    "        list: A list of Dictionary objects, each representing one tweet.\"\"\"\n",
    "    \n",
    "    with open(path, \"rb\") as f:\n",
    "        import json\n",
    "        return json.load(f)"
   ]
  },
  {
   "cell_type": "code",
   "execution_count": 13,
   "metadata": {
    "id": "xW1xN_3XapP6"
   },
   "outputs": [],
   "source": [
    "dest_path = \"data/2017-2018.json\"\n",
    "trump_tweets = load_tweets(dest_path)"
   ]
  },
  {
   "cell_type": "markdown",
   "metadata": {
    "id": "_i_aHCjSapP6"
   },
   "source": [
    "If everything is working correctly correctly this should load roughly the last 3000 tweets by `realdonaldtrump`."
   ]
  },
  {
   "cell_type": "code",
   "execution_count": 14,
   "metadata": {
    "id": "xr55obB8apP6"
   },
   "outputs": [],
   "source": [
    "assert 2000 <= len(trump_tweets) <= 4000"
   ]
  },
  {
   "cell_type": "markdown",
   "metadata": {
    "id": "WjYXBPCpapP6"
   },
   "source": [
    "If the assert statement above works, then continue on to task 2.3.\n",
    "\n",
    "### Task 2.3\n",
    "\n",
    "Find the number of the month of the oldest tweet."
   ]
  },
  {
   "cell_type": "code",
   "execution_count": 15,
   "metadata": {
    "id": "lYPMcwPdapP6"
   },
   "outputs": [
    {
     "name": "stdout",
     "output_type": "stream",
     "text": [
      "3213   2017-10-19 11:56:15+00:00\n",
      "Name: created_at, dtype: datetime64[ns, UTC]\n"
     ]
    }
   ],
   "source": [
    "# Enter the number of the month of the oldest tweet (e.g. 1 for January)\n",
    "from datetime import datetime\n",
    "oldest_month = 10\n",
    "trump_tweets = pd.DataFrame(trump_tweets)\n",
    "\n",
    "### BEGIN ANSWER\n",
    "# temp = trump_tweets['created_at'].copy()\n",
    "# temp = temp.apply(lambda x: datetime.strptime(x,'%a %b %d %H:%M:%S +0000 %Y').month)\n",
    "# count = temp.value_counts().loc[4]\n",
    "# count\n",
    "temp = pd.to_datetime(trump_tweets['created_at'])\n",
    "print(temp.iloc[-1:])\n",
    "### END ANSWER"
   ]
  },
  {
   "cell_type": "markdown",
   "metadata": {
    "id": "cNdIIfM4apP6"
   },
   "source": [
    "## PART 3  Twitter Source Analysis (group and individual)\n",
    "\n"
   ]
  },
  {
   "cell_type": "markdown",
   "metadata": {
    "id": "bnZTwTGRapP6"
   },
   "source": [
    "### Task 3.1\n",
    "\n",
    "Create a new data frame from `2016-2017.json` and merge with `trump_tweets` \n",
    "\n",
    "**Important:** There may/will be some overlap so be sure to __eliminate duplicate tweets__. If you do not eliminate the duplicates properly, your results might not be compatible with the test solution. \n",
    "**Hint:** the `id` of a tweet is always unique."
   ]
  },
  {
   "cell_type": "code",
   "execution_count": 16,
   "metadata": {
    "id": "UKw0vaWTapP6"
   },
   "outputs": [],
   "source": [
    "# if you do not have new tweets, then all_tweets is the same as  old_trump_tweets\n",
    "\n",
    "### BEGIN ANSWER\n",
    "dest_path = \"data/2016-2017.json\"\n",
    "temp = load_tweets(dest_path)\n",
    "temp = pd.DataFrame(temp)\n",
    "trump_tweets['id'] = trump_tweets['id'].astype(str)\n",
    "all_tweets = pd.concat([trump_tweets,temp])\n",
    "all_tweets.drop_duplicates(subset=['id'], inplace=True)\n",
    "### END ANSWER\n",
    "\n",
    "assert(all_tweets.size == 312774) \n"
   ]
  },
  {
   "cell_type": "markdown",
   "metadata": {
    "id": "w2f3pX1TapP6"
   },
   "source": [
    "### Task 3.2\n",
    "Construct a DataFrame called `df_trump` containing all the tweets stored in `all_tweets`. The index of the dataframe should be the ID of each tweet (looks something like `907698529606541312`). It should have these columns:\n",
    "\n",
    "- `time`: The time the tweet was created encoded as a datetime object. (Use `pd.to_datetime` to encode the timestamp.)\n",
    "- `source`: The source device of the tweet.\n",
    "- `text`: The text of the tweet.\n",
    "- `retweet_count`: The retweet count of the tweet. \n",
    "\n",
    "Finally, **the resulting dataframe should be sorted by the index.**\n",
    "\n",
    "**Warning:** *Some tweets will store the text in the `text` field and other will use the `full_text` field.*\n",
    "\n",
    "**Warning:** *Don't forget to check the type of index*"
   ]
  },
  {
   "cell_type": "code",
   "execution_count": 56,
   "metadata": {
    "id": "BaBrQPLNapP6"
   },
   "outputs": [
    {
     "data": {
      "text/html": [
       "<div>\n",
       "<style scoped>\n",
       "    .dataframe tbody tr th:only-of-type {\n",
       "        vertical-align: middle;\n",
       "    }\n",
       "\n",
       "    .dataframe tbody tr th {\n",
       "        vertical-align: top;\n",
       "    }\n",
       "\n",
       "    .dataframe thead th {\n",
       "        text-align: right;\n",
       "    }\n",
       "</style>\n",
       "<table border=\"1\" class=\"dataframe\">\n",
       "  <thead>\n",
       "    <tr style=\"text-align: right;\">\n",
       "      <th></th>\n",
       "      <th>time</th>\n",
       "      <th>source</th>\n",
       "      <th>text</th>\n",
       "      <th>retweet_count</th>\n",
       "    </tr>\n",
       "    <tr>\n",
       "      <th>id</th>\n",
       "      <th></th>\n",
       "      <th></th>\n",
       "      <th></th>\n",
       "      <th></th>\n",
       "    </tr>\n",
       "  </thead>\n",
       "  <tbody>\n",
       "    <tr>\n",
       "      <th>1000061992042975232</th>\n",
       "      <td>2018-05-25 17:12:13+00:00</td>\n",
       "      <td>&lt;a href=\"http://twitter.com/download/iphone\" rel=\"nofollow\"&gt;Twitter for iPhone&lt;/a&gt;</td>\n",
       "      <td>Today, it was my great honor to deliver the 2018 Commencement Address at the United States @NavalAcademy in Annapolis, Maryland. Congratulations!\\n\\nGood luck. Godspeed. And ANCHORS AWEIGH! https://t.co/aoLBK7y16a</td>\n",
       "      <td>10562</td>\n",
       "    </tr>\n",
       "    <tr>\n",
       "      <th>1000064605903876096</th>\n",
       "      <td>2018-05-25 17:22:37+00:00</td>\n",
       "      <td>&lt;a href=\"http://twitter.com/download/iphone\" rel=\"nofollow\"&gt;Twitter for iPhone&lt;/a&gt;</td>\n",
       "      <td>On behalf of the American People, CONGRATULATIONS! We love you! https://t.co/YRlj0vRXwk</td>\n",
       "      <td>17866</td>\n",
       "    </tr>\n",
       "    <tr>\n",
       "      <th>1000114139136606209</th>\n",
       "      <td>2018-05-25 20:39:26+00:00</td>\n",
       "      <td>&lt;a href=\"https://studio.twitter.com\" rel=\"nofollow\"&gt;Media Studio&lt;/a&gt;</td>\n",
       "      <td>To the @NavalAcademy Class of 2018, I say: We know you are up to the task. We know you will make us proud. We know that glory will be yours. Because you are WINNERS, you are WARRIORS, you are FIGHTERS, you are CHAMPIONS, and YOU will lead us to VICTORY! God Bless the U.S.A.! ...</td>\n",
       "      <td>16909</td>\n",
       "    </tr>\n",
       "    <tr>\n",
       "      <th>1000138164923781121</th>\n",
       "      <td>2018-05-25 22:14:54+00:00</td>\n",
       "      <td>&lt;a href=\"http://twitter.com/download/iphone\" rel=\"nofollow\"&gt;Twitter for iPhone&lt;/a&gt;</td>\n",
       "      <td>Chicago Police have every right to legally protest against the mayor and an administration that just won’t let them do their job. The killings are at a record pace and tough police work, which Chicago will not allow, would bring things back to order fast...the killings must s...</td>\n",
       "      <td>24635</td>\n",
       "    </tr>\n",
       "    <tr>\n",
       "      <th>1000145873274359809</th>\n",
       "      <td>2018-05-25 22:45:32+00:00</td>\n",
       "      <td>&lt;a href=\"http://twitter.com/download/iphone\" rel=\"nofollow\"&gt;Twitter for iPhone&lt;/a&gt;</td>\n",
       "      <td>Funny to watch the Democrats criticize Trade Deals being negotiated by me when they don’t even know what the deals are and when for 8 years the Obama Administration did NOTHING on trade except let other countries rip off the United States. Lost almost $800 Billion/year under “O”</td>\n",
       "      <td>30848</td>\n",
       "    </tr>\n",
       "  </tbody>\n",
       "</table>\n",
       "</div>"
      ],
      "text/plain": [
       "                                         time  \\\n",
       "id                                              \n",
       "1000061992042975232 2018-05-25 17:12:13+00:00   \n",
       "1000064605903876096 2018-05-25 17:22:37+00:00   \n",
       "1000114139136606209 2018-05-25 20:39:26+00:00   \n",
       "1000138164923781121 2018-05-25 22:14:54+00:00   \n",
       "1000145873274359809 2018-05-25 22:45:32+00:00   \n",
       "\n",
       "                                                                                                 source  \\\n",
       "id                                                                                                        \n",
       "1000061992042975232  <a href=\"http://twitter.com/download/iphone\" rel=\"nofollow\">Twitter for iPhone</a>   \n",
       "1000064605903876096  <a href=\"http://twitter.com/download/iphone\" rel=\"nofollow\">Twitter for iPhone</a>   \n",
       "1000114139136606209                <a href=\"https://studio.twitter.com\" rel=\"nofollow\">Media Studio</a>   \n",
       "1000138164923781121  <a href=\"http://twitter.com/download/iphone\" rel=\"nofollow\">Twitter for iPhone</a>   \n",
       "1000145873274359809  <a href=\"http://twitter.com/download/iphone\" rel=\"nofollow\">Twitter for iPhone</a>   \n",
       "\n",
       "                                                                                                                                                                                                                                                                                                        text  \\\n",
       "id                                                                                                                                                                                                                                                                                                             \n",
       "1000061992042975232                                                                    Today, it was my great honor to deliver the 2018 Commencement Address at the United States @NavalAcademy in Annapolis, Maryland. Congratulations!\\n\\nGood luck. Godspeed. And ANCHORS AWEIGH! https://t.co/aoLBK7y16a   \n",
       "1000064605903876096                                                                                                                                                                                                  On behalf of the American People, CONGRATULATIONS! We love you! https://t.co/YRlj0vRXwk   \n",
       "1000114139136606209  To the @NavalAcademy Class of 2018, I say: We know you are up to the task. We know you will make us proud. We know that glory will be yours. Because you are WINNERS, you are WARRIORS, you are FIGHTERS, you are CHAMPIONS, and YOU will lead us to VICTORY! God Bless the U.S.A.! ...   \n",
       "1000138164923781121  Chicago Police have every right to legally protest against the mayor and an administration that just won’t let them do their job. The killings are at a record pace and tough police work, which Chicago will not allow, would bring things back to order fast...the killings must s...   \n",
       "1000145873274359809  Funny to watch the Democrats criticize Trade Deals being negotiated by me when they don’t even know what the deals are and when for 8 years the Obama Administration did NOTHING on trade except let other countries rip off the United States. Lost almost $800 Billion/year under “O”   \n",
       "\n",
       "                     retweet_count  \n",
       "id                                  \n",
       "1000061992042975232          10562  \n",
       "1000064605903876096          17866  \n",
       "1000114139136606209          16909  \n",
       "1000138164923781121          24635  \n",
       "1000145873274359809          30848  "
      ]
     },
     "execution_count": 56,
     "metadata": {},
     "output_type": "execute_result"
    }
   ],
   "source": [
    "### BEGIN ANSWER\n",
    "text_column = all_tweets['full_text'].fillna(all_tweets['text'])\n",
    "df_trump = pd.DataFrame({'time': pd.to_datetime(all_tweets['created_at']), \n",
    "                     'source': all_tweets['source'], \n",
    "                    'text': text_column,\n",
    "                    'retweet_count': all_tweets['retweet_count'], 'id': all_tweets['id'].astype(int)})\n",
    "df_trump.set_index('id', inplace=True)\n",
    "df_trump.index = df_trump.index.astype(str)\n",
    "df_trump = df_trump.sort_index(ascending=True)\n",
    "df_trump.head()\n",
    "### END ANSWER"
   ]
  },
  {
   "cell_type": "markdown",
   "metadata": {
    "id": "w8WbUgNBapP7"
   },
   "source": [
    "In the following questions, we are going to find out the charateristics of Trump tweets and the devices used for the tweets.\n",
    "\n",
    "First let's examine the source field:"
   ]
  },
  {
   "cell_type": "code",
   "execution_count": 18,
   "metadata": {
    "id": "NiXXHDmpapP7"
   },
   "outputs": [
    {
     "data": {
      "text/plain": [
       "array(['<a href=\"http://twitter.com/download/iphone\" rel=\"nofollow\">Twitter for iPhone</a>',\n",
       "       '<a href=\"https://studio.twitter.com\" rel=\"nofollow\">Media Studio</a>',\n",
       "       '<a href=\"http://twitter.com/#!/download/ipad\" rel=\"nofollow\">Twitter for iPad</a>',\n",
       "       '<a href=\"http://twitter.com\" rel=\"nofollow\">Twitter Web Client</a>',\n",
       "       'Twitter for iPhone', 'Twitter Web Client', 'Media Studio',\n",
       "       'Twitter Ads', 'Twitter for Android', 'Periscope',\n",
       "       'Twitter for iPad', 'TweetDeck', 'Instagram', 'Mobile Web (M5)'],\n",
       "      dtype=object)"
      ]
     },
     "execution_count": 18,
     "metadata": {},
     "output_type": "execute_result"
    }
   ],
   "source": [
    "df_trump['source'].unique()"
   ]
  },
  {
   "cell_type": "markdown",
   "metadata": {
    "id": "pR-pQJ-FapP7"
   },
   "source": [
    "## Task 3.3\n",
    "\n",
    "Remove the HTML tags from the source field. \n",
    "\n",
    "**Hint:** Use `df_trump['source'].str.replace` and your favorite regular expression."
   ]
  },
  {
   "cell_type": "code",
   "execution_count": 19,
   "metadata": {
    "id": "uys4JaIuapP7"
   },
   "outputs": [
    {
     "data": {
      "text/plain": [
       "id\n",
       "999986971660423170     Twitter for iPhone\n",
       "999984507574018049     Twitter for iPhone\n",
       "999984503123857408     Twitter for iPhone\n",
       "999984495179726848     Twitter for iPhone\n",
       "999984492197613568     Twitter for iPhone\n",
       "                              ...        \n",
       "1000145873274359809    Twitter for iPhone\n",
       "1000138164923781121    Twitter for iPhone\n",
       "1000114139136606209          Media Studio\n",
       "1000064605903876096    Twitter for iPhone\n",
       "1000061992042975232    Twitter for iPhone\n",
       "Name: source, Length: 9478, dtype: object"
      ]
     },
     "execution_count": 19,
     "metadata": {},
     "output_type": "execute_result"
    }
   ],
   "source": [
    "import re\n",
    "### BEGIN ANSWER\n",
    "df_trump['source'] = df_trump['source'].str.replace('\\<(.*?)\\>', '', regex=True)\n",
    "df_trump['source']\n",
    "### END ANSWER"
   ]
  },
  {
   "cell_type": "markdown",
   "metadata": {
    "id": "PZo4QU7MapP7"
   },
   "source": [
    "### Make a plot to find out the most common device types used in accessing twitter\n",
    "\n",
    "Sort the plot in decreasing order of the most common device type"
   ]
  },
  {
   "cell_type": "code",
   "execution_count": 20,
   "metadata": {
    "id": "WOdz32WZapP7"
   },
   "outputs": [
    {
     "data": {
      "text/plain": [
       "Text(0.5, 0, 'Number of Tweets')"
      ]
     },
     "execution_count": 20,
     "metadata": {},
     "output_type": "execute_result"
    },
    {
     "data": {
      "image/png": "[encoded data removed]",
      "text/plain": [
       "<Figure size 432x288 with 1 Axes>"
      ]
     },
     "metadata": {},
     "output_type": "display_data"
    }
   ],
   "source": [
    "### BEGIN ANSWER\n",
    "df_trump['source'].value_counts(ascending=True).plot.barh()\n",
    "plt.xlabel('Number of Tweets')\n",
    "### END ANSWER"
   ]
  },
  {
   "cell_type": "markdown",
   "metadata": {
    "id": "ZatUeX2capP7"
   },
   "source": [
    "### Task 3.4\n",
    "Is there a difference between his Tweet behavior across these devices? We will attempt to answer this question in our subsequent analysis.\n",
    "\n",
    "First, we'll take a look at whether Trump's tweets from an Android come at different times than his tweets from an iPhone. Note that Twitter gives us his tweets in the [UTC timezone](https://www.wikiwand.com/en/List_of_UTC_time_offsets) (notice the `+0000` in the first few tweets)\n",
    "\n",
    "**Note** - If your `time` column is not in datetime format, the following code will not work."
   ]
  },
  {
   "cell_type": "code",
   "execution_count": 21,
   "metadata": {
    "id": "VhBLwCxcapP7"
   },
   "outputs": [
    {
     "data": {
      "text/plain": [
       "id\n",
       "999986971660423170   2018-05-25 12:14:07+00:00\n",
       "999984507574018049   2018-05-25 12:04:20+00:00\n",
       "999984503123857408   2018-05-25 12:04:19+00:00\n",
       "Name: time, dtype: datetime64[ns, UTC]"
      ]
     },
     "execution_count": 21,
     "metadata": {},
     "output_type": "execute_result"
    }
   ],
   "source": [
    "df_trump['time'].iloc[0:3]"
   ]
  },
  {
   "cell_type": "markdown",
   "metadata": {
    "id": "CN0KG6ktapP7"
   },
   "source": [
    "We'll convert the tweet times to US Eastern Time, the timezone of New York and Washington D.C., since those are the places we would expect the most tweet activity from Trump."
   ]
  },
  {
   "cell_type": "code",
   "execution_count": 22,
   "metadata": {
    "id": "0uB-3WK4apP7"
   },
   "outputs": [
    {
     "data": {
      "text/html": [
       "<div>\n",
       "<style scoped>\n",
       "    .dataframe tbody tr th:only-of-type {\n",
       "        vertical-align: middle;\n",
       "    }\n",
       "\n",
       "    .dataframe tbody tr th {\n",
       "        vertical-align: top;\n",
       "    }\n",
       "\n",
       "    .dataframe thead th {\n",
       "        text-align: right;\n",
       "    }\n",
       "</style>\n",
       "<table border=\"1\" class=\"dataframe\">\n",
       "  <thead>\n",
       "    <tr style=\"text-align: right;\">\n",
       "      <th></th>\n",
       "      <th>time</th>\n",
       "      <th>source</th>\n",
       "      <th>text</th>\n",
       "      <th>retweet_count</th>\n",
       "      <th>est_time</th>\n",
       "    </tr>\n",
       "    <tr>\n",
       "      <th>id</th>\n",
       "      <th></th>\n",
       "      <th></th>\n",
       "      <th></th>\n",
       "      <th></th>\n",
       "      <th></th>\n",
       "    </tr>\n",
       "  </thead>\n",
       "  <tbody>\n",
       "    <tr>\n",
       "      <th>999986971660423170</th>\n",
       "      <td>2018-05-25 12:14:07+00:00</td>\n",
       "      <td>Twitter for iPhone</td>\n",
       "      <td>Very good news to receive the warm and productive statement from North Korea. We will soon see where it will lead, hopefully to long and enduring prosperity and peace. Only time (and talent) will tell!</td>\n",
       "      <td>22984</td>\n",
       "      <td>2018-05-25 07:14:07-05:00</td>\n",
       "    </tr>\n",
       "    <tr>\n",
       "      <th>999984507574018049</th>\n",
       "      <td>2018-05-25 12:04:20+00:00</td>\n",
       "      <td>Twitter for iPhone</td>\n",
       "      <td>Democrats are so obviously rooting against us in our negotiations with North Korea. Just like they are coming to the defense of MS 13 thugs, saying that they are individuals &amp;amp; must be nurtured, or asking to end your big Tax Cuts &amp;amp; raise your taxes instead. Dems have l...</td>\n",
       "      <td>25673</td>\n",
       "      <td>2018-05-25 07:04:20-05:00</td>\n",
       "    </tr>\n",
       "    <tr>\n",
       "      <th>999984503123857408</th>\n",
       "      <td>2018-05-25 12:04:19+00:00</td>\n",
       "      <td>Twitter for iPhone</td>\n",
       "      <td>“Everyone knows there was a Spy, and in fact the people who were involved in the Spying are admitting that there was a Spy...Widespread Spying involving multiple people.” Mollie Hemingway, The Federalist Senior Editor  But the corrupt Mainstream Media hates this monster story!</td>\n",
       "      <td>20810</td>\n",
       "      <td>2018-05-25 07:04:19-05:00</td>\n",
       "    </tr>\n",
       "    <tr>\n",
       "      <th>999984495179726848</th>\n",
       "      <td>2018-05-25 12:04:17+00:00</td>\n",
       "      <td>Twitter for iPhone</td>\n",
       "      <td>Can anyone even imagine having Spies placed in a competing campaign, by the people and party in absolute power, for the sole purpose of political advantage and gain? And to think that the party in question, even with the expenditure of far more money, LOST!</td>\n",
       "      <td>22494</td>\n",
       "      <td>2018-05-25 07:04:17-05:00</td>\n",
       "    </tr>\n",
       "    <tr>\n",
       "      <th>999984492197613568</th>\n",
       "      <td>2018-05-25 12:04:16+00:00</td>\n",
       "      <td>Twitter for iPhone</td>\n",
       "      <td>The Democrats are now alluding to the the concept that having an Informant placed in an opposing party’s campaign is different than having a Spy, as illegal as that may be. But what about an “Informant” who is paid a fortune and who “sets up” way earlier than the Russian Hoax?</td>\n",
       "      <td>17785</td>\n",
       "      <td>2018-05-25 07:04:16-05:00</td>\n",
       "    </tr>\n",
       "  </tbody>\n",
       "</table>\n",
       "</div>"
      ],
      "text/plain": [
       "                                        time              source  \\\n",
       "id                                                                 \n",
       "999986971660423170 2018-05-25 12:14:07+00:00  Twitter for iPhone   \n",
       "999984507574018049 2018-05-25 12:04:20+00:00  Twitter for iPhone   \n",
       "999984503123857408 2018-05-25 12:04:19+00:00  Twitter for iPhone   \n",
       "999984495179726848 2018-05-25 12:04:17+00:00  Twitter for iPhone   \n",
       "999984492197613568 2018-05-25 12:04:16+00:00  Twitter for iPhone   \n",
       "\n",
       "                                                                                                                                                                                                                                                                                                       text  \\\n",
       "id                                                                                                                                                                                                                                                                                                            \n",
       "999986971660423170                                                                                Very good news to receive the warm and productive statement from North Korea. We will soon see where it will lead, hopefully to long and enduring prosperity and peace. Only time (and talent) will tell!   \n",
       "999984507574018049  Democrats are so obviously rooting against us in our negotiations with North Korea. Just like they are coming to the defense of MS 13 thugs, saying that they are individuals &amp; must be nurtured, or asking to end your big Tax Cuts &amp; raise your taxes instead. Dems have l...   \n",
       "999984503123857408    “Everyone knows there was a Spy, and in fact the people who were involved in the Spying are admitting that there was a Spy...Widespread Spying involving multiple people.” Mollie Hemingway, The Federalist Senior Editor  But the corrupt Mainstream Media hates this monster story!   \n",
       "999984495179726848                        Can anyone even imagine having Spies placed in a competing campaign, by the people and party in absolute power, for the sole purpose of political advantage and gain? And to think that the party in question, even with the expenditure of far more money, LOST!   \n",
       "999984492197613568    The Democrats are now alluding to the the concept that having an Informant placed in an opposing party’s campaign is different than having a Spy, as illegal as that may be. But what about an “Informant” who is paid a fortune and who “sets up” way earlier than the Russian Hoax?   \n",
       "\n",
       "                    retweet_count                  est_time  \n",
       "id                                                           \n",
       "999986971660423170          22984 2018-05-25 07:14:07-05:00  \n",
       "999984507574018049          25673 2018-05-25 07:04:20-05:00  \n",
       "999984503123857408          20810 2018-05-25 07:04:19-05:00  \n",
       "999984495179726848          22494 2018-05-25 07:04:17-05:00  \n",
       "999984492197613568          17785 2018-05-25 07:04:16-05:00  "
      ]
     },
     "execution_count": 22,
     "metadata": {},
     "output_type": "execute_result"
    }
   ],
   "source": [
    "df_trump['est_time'] = (\n",
    "    df_trump['time'] # Set initial timezone to UTC\n",
    "                 .dt.tz_convert(\"EST\") # Convert to Eastern Time\n",
    ")\n",
    "df_trump.head()"
   ]
  },
  {
   "cell_type": "markdown",
   "metadata": {
    "id": "pTusdoO5apP7"
   },
   "source": [
    "**What you need to do:**\n",
    "\n",
    "Add a column called `hour` to the `df_trump` table which contains the hour of the day as floating point number computed by:\n",
    "\n",
    "$$\n",
    "\\text{hour} + \\frac{\\text{minute}}{60} + \\frac{\\text{second}}{60^2}\n",
    "$$"
   ]
  },
  {
   "cell_type": "code",
   "execution_count": 23,
   "metadata": {
    "id": "UhkJKBxeapP8"
   },
   "outputs": [],
   "source": [
    "df_trump['hour'] = df_trump['est_time'].apply(lambda x: x.hour+(x.minute/60)+(x.second/3600))\n",
    "df_trump['roundhour']=round(df_trump['hour'])\n",
    "df_trump['roundhour'].replace(24,0,inplace=True)"
   ]
  },
  {
   "cell_type": "code",
   "execution_count": 24,
   "metadata": {
    "id": "EkFBxTQOapP8"
   },
   "outputs": [],
   "source": [
    "assert np.isclose(df_trump.loc[\"690171032150237184\"]['hour'], 8.93639)\n"
   ]
  },
  {
   "cell_type": "markdown",
   "metadata": {
    "id": "Ib6CTpMTapP8"
   },
   "source": [
    "Use the `roundhour` column and plot the number of tweets at every hour of the day.\n",
    "Order the plot using the hour of the day (1 to 24). Use seaborn `countplot`"
   ]
  },
  {
   "cell_type": "code",
   "execution_count": 25,
   "metadata": {
    "id": "MQkwODiAapP8"
   },
   "outputs": [
    {
     "data": {
      "text/plain": [
       "[Text(0.5, 0, 'Hour of Day'),\n",
       " Text(0.5, 1.0, 'The hour of the day that Trump uses Twitter')]"
      ]
     },
     "execution_count": 25,
     "metadata": {},
     "output_type": "execute_result"
    },
    {
     "data": {
      "image/png": "[encoded data removed]",
      "text/plain": [
       "<Figure size 864x576 with 1 Axes>"
      ]
     },
     "metadata": {},
     "output_type": "display_data"
    }
   ],
   "source": [
    "# make a bar plot here\n",
    "### BEGIN ANSWER\n",
    "plt.rcParams['figure.figsize'] = (12, 8)\n",
    "ax = sns.countplot(data=df_trump, x='roundhour')\n",
    "ax.set(xlabel = 'Hour of Day', title = 'The hour of the day that Trump uses Twitter')\n",
    "### END ANSWER"
   ]
  },
  {
   "cell_type": "markdown",
   "metadata": {
    "id": "mGD_SCtAapP8"
   },
   "source": [
    "Now, use this data along with the seaborn `distplot` function to examine the distribution over hours of the day in eastern time that trump tweets on each device for the 2 most commonly used devices.  Your plot should look somewhat similar to the following.\n",
    "<img src=\"images/device_hour2.png\" align=\"left\" alt=\"Drawing\" style=\"width: 400px;\"/>\n"
   ]
  },
  {
   "cell_type": "code",
   "execution_count": 26,
   "metadata": {
    "id": "_lXwAyKFapP8"
   },
   "outputs": [
    {
     "name": "stderr",
     "output_type": "stream",
     "text": [
      "/koko/system/anaconda/envs/python39/lib/python3.9/site-packages/seaborn/distributions.py:2619: FutureWarning: `distplot` is a deprecated function and will be removed in a future version. Please adapt your code to use either `displot` (a figure-level function with similar flexibility) or `kdeplot` (an axes-level function for kernel density plots).\n",
      "  warnings.warn(msg, FutureWarning)\n",
      "/koko/system/anaconda/envs/python39/lib/python3.9/site-packages/seaborn/distributions.py:2619: FutureWarning: `distplot` is a deprecated function and will be removed in a future version. Please adapt your code to use either `displot` (a figure-level function with similar flexibility) or `kdeplot` (an axes-level function for kernel density plots).\n",
      "  warnings.warn(msg, FutureWarning)\n"
     ]
    },
    {
     "data": {
      "image/png": "[encoded data removed]",
      "text/plain": [
       "<Figure size 864x576 with 1 Axes>"
      ]
     },
     "metadata": {},
     "output_type": "display_data"
    }
   ],
   "source": [
    "### BEGIN ANSWER\n",
    "iphone = df_trump[(df_trump['source']=='Twitter for iPhone')]['hour']\n",
    "android = df_trump[(df_trump['source']=='Twitter for Android')]['hour']\n",
    "ax = sns.distplot(iphone, hist=False, kde=True, color='blue')\n",
    "ax = sns.distplot(android, hist=False, kde=True, color='red')\n",
    "ax.set(xlabel='hour', ylabel='Fraction')\n",
    "plt.legend(labels=['iPhone', 'Android'])\n",
    "plt.show()\n",
    "### END ANSWER"
   ]
  },
  {
   "cell_type": "markdown",
   "metadata": {
    "id": "L1jbqJBqapP8"
   },
   "source": [
    "### Task 3.5\n",
    "\n",
    "According to [this Verge article](https://www.theverge.com/2017/3/29/15103504/donald-trump-iphone-using-switched-android), Donald Trump switched from an Android to an iPhone sometime in March 2017.\n",
    "\n",
    "Create a figure identical to your figure from 3.4, except that you should show the results only from 2016. If you get stuck consider looking at the `year_fraction` function from the next problem.\n",
    "\n",
    "Use this data along with the seaborn `distplot` function to examine the distribution over hours of the day in eastern time that trump tweets on each device for the 2 most commonly used devices.  Your plot should look somewhat similar to the following. \n",
    "\n",
    "During the campaign, it was theorized that Donald Trump's tweets from Android were written by him personally, and the tweets from iPhone were from his staff. Does your figure give support the theory?\n",
    "\n",
    "Response: In 2016, the time allocation for the usage of the iphone centered in the afternoon, while his tweets from 2015 to present shows that he mostly tweets in the morning. It seems that the tweets from iphone in 2016 were from his staff, not himself."
   ]
  },
  {
   "cell_type": "markdown",
   "metadata": {
    "id": "BKGr1_ULapP8"
   },
   "source": [
    "\\\\\n",
    "<img src=\"images/device_hour2.png\" align=\"left\" alt=\"Drawing\" style=\"width: 600px;\"/>\n"
   ]
  },
  {
   "cell_type": "code",
   "execution_count": 53,
   "metadata": {
    "id": "QHtptHMCapP8"
   },
   "outputs": [
    {
     "name": "stderr",
     "output_type": "stream",
     "text": [
      "/koko/system/anaconda/envs/python39/lib/python3.9/site-packages/seaborn/distributions.py:2619: FutureWarning: `distplot` is a deprecated function and will be removed in a future version. Please adapt your code to use either `displot` (a figure-level function with similar flexibility) or `kdeplot` (an axes-level function for kernel density plots).\n",
      "  warnings.warn(msg, FutureWarning)\n",
      "/koko/system/anaconda/envs/python39/lib/python3.9/site-packages/seaborn/distributions.py:2619: FutureWarning: `distplot` is a deprecated function and will be removed in a future version. Please adapt your code to use either `displot` (a figure-level function with similar flexibility) or `kdeplot` (an axes-level function for kernel density plots).\n",
      "  warnings.warn(msg, FutureWarning)\n"
     ]
    },
    {
     "data": {
      "image/png": "[encoded data removed]",
      "text/plain": [
       "<Figure size 432x288 with 1 Axes>"
      ]
     },
     "metadata": {},
     "output_type": "display_data"
    }
   ],
   "source": [
    "### BEGIN ANSWER\n",
    "plt.rcParams['figure.figsize'] = (6, 4)\n",
    "limit = pd.to_datetime('2017/01/01', utc='EST')\n",
    "iphone = df_trump[(df_trump['source']=='Twitter for iPhone') & \n",
    "                  (df_trump['est_time']<limit)]['hour']\n",
    "android = df_trump[(df_trump['source']=='Twitter for Android') &\n",
    "                  (df_trump['est_time']<limit)]['hour']\n",
    "ax = sns.distplot(iphone, hist=False, kde=True, color='blue')\n",
    "ax = sns.distplot(android, hist=False, kde=True, color='red')\n",
    "ax.set(xlabel='hour', ylabel='Fraction')\n",
    "plt.legend(labels=['iPhone', 'Android'])\n",
    "plt.show()\n",
    "### END ANSWER"
   ]
  },
  {
   "cell_type": "markdown",
   "metadata": {
    "id": "1XFRyB9FapP8"
   },
   "source": [
    "### Task 3.6\n",
    "Edit this cell to answer the following questions.\n",
    "* What time of the day the Android tweets were made by Trump himself? (eg: morning, late night etc)\n",
    "\n",
    "Morning and night\n",
    "* What time of the day the Android tweets were made by paid staff?\n",
    "\n",
    "Afternoon and night\n",
    "\n",
    "Note that these are speculations based on what you observe in the data set."
   ]
  },
  {
   "cell_type": "markdown",
   "metadata": {
    "id": "P0zbpLZUapP9"
   },
   "source": [
    "### Task 3.7 Device Analysis\n",
    "Let's now look at which device he has used over the entire time period of this dataset.\n",
    "\n",
    "To examine the distribution of dates we will convert the date to a fractional year that can be plotted as a distribution.\n",
    "\n",
    "(Code borrowed from https://stackoverflow.com/questions/6451655/python-how-to-convert-datetime-dates-to-decimal-years)"
   ]
  },
  {
   "cell_type": "code",
   "execution_count": 54,
   "metadata": {
    "id": "4OEbR4afapP9"
   },
   "outputs": [],
   "source": [
    "import datetime\n",
    "def year_fraction(date):\n",
    "    start = datetime.date(date.year, 1, 1).toordinal()\n",
    "    year_length = datetime.date(date.year+1, 1, 1).toordinal() - start\n",
    "    return date.year + float(date.toordinal() - start) / year_length\n",
    "\n",
    "\n",
    "df_trump['year'] = df_trump['time'].apply(year_fraction) #should be df_trump"
   ]
  },
  {
   "cell_type": "markdown",
   "metadata": {
    "id": "7j4xEBAOapP9"
   },
   "source": [
    "Use the `sns.distplot` to overlay the distributions of the 2 most frequently used web technologies over the years.  Your final plot should be similar to:\n",
    "\n",
    "![title](images/source_years.png)"
   ]
  },
  {
   "cell_type": "code",
   "execution_count": 55,
   "metadata": {
    "id": "oRdFIObiapP9"
   },
   "outputs": [
    {
     "name": "stderr",
     "output_type": "stream",
     "text": [
      "/koko/system/anaconda/envs/python39/lib/python3.9/site-packages/seaborn/distributions.py:2619: FutureWarning: `distplot` is a deprecated function and will be removed in a future version. Please adapt your code to use either `displot` (a figure-level function with similar flexibility) or `histplot` (an axes-level function for histograms).\n",
      "  warnings.warn(msg, FutureWarning)\n",
      "/koko/system/anaconda/envs/python39/lib/python3.9/site-packages/seaborn/distributions.py:2619: FutureWarning: `distplot` is a deprecated function and will be removed in a future version. Please adapt your code to use either `displot` (a figure-level function with similar flexibility) or `histplot` (an axes-level function for histograms).\n",
      "  warnings.warn(msg, FutureWarning)\n"
     ]
    },
    {
     "data": {
      "image/png": "[encoded data removed]",
      "text/plain": [
       "<Figure size 1080x1080 with 1 Axes>"
      ]
     },
     "metadata": {},
     "output_type": "display_data"
    }
   ],
   "source": [
    "plt.figure(figsize=(15,15))\n",
    "### BEGIN ANSWER\n",
    "iphone = df_trump[df_trump['source']=='Twitter for iPhone']['year']\n",
    "android = df_trump[df_trump['source']=='Twitter for Android']['year']\n",
    "ax = sns.distplot(iphone, hist=True, kde=True)\n",
    "ax = sns.distplot(android, hist=True, kde=True)\n",
    "ax.set(xlabel='year')\n",
    "plt.legend(labels=['iPhone', 'Android'])\n",
    "plt.show()\n",
    "### END ANSWER"
   ]
  },
  {
   "cell_type": "markdown",
   "metadata": {
    "id": "Nn0opKxWapP9"
   },
   "source": [
    "## PART 4 - Sentiment Analysis  (group and individual)\n",
    "\n",
    "It turns out that we can use the words in Trump's tweets to calculate a measure of the sentiment of the tweet. For example, the sentence \"I love America!\" has positive sentiment, whereas the sentence \"I hate taxes!\" has a negative sentiment. In addition, some words have stronger positive / negative sentiment than others: \"I love America.\" is more positive than \"I like America.\"\n",
    "\n",
    "We will use the [VADER (Valence Aware Dictionary and sEntiment Reasoner)](https://github.com/cjhutto/vaderSentiment) lexicon to analyze the sentiment of Trump's tweets. VADER is a lexicon and rule-based sentiment analysis tool that is specifically attuned to sentiments expressed in social media which is great for our usage.\n",
    "\n",
    "The VADER lexicon gives the sentiment of individual words. Run the following cell to show the first few rows of the lexicon:"
   ]
  },
  {
   "cell_type": "code",
   "execution_count": 30,
   "metadata": {
    "id": "NICSCaj_apP9",
    "outputId": "f2ddb09d-b75a-41c9-a12b-89eec667c346"
   },
   "outputs": [
    {
     "name": "stdout",
     "output_type": "stream",
     "text": [
      "$:\t-1.5\t0.80623\t[-1, -1, -1, -1, -3, -1, -3, -1, -2, -1]\n",
      "%)\t-0.4\t1.0198\t[-1, 0, -1, 0, 0, -2, -1, 2, -1, 0]\n",
      "%-)\t-1.5\t1.43178\t[-2, 0, -2, -2, -1, 2, -2, -3, -2, -3]\n",
      "&-:\t-0.4\t1.42829\t[-3, -1, 0, 0, -1, -1, -1, 2, -1, 2]\n",
      "&:\t-0.7\t0.64031\t[0, -1, -1, -1, 1, -1, -1, -1, -1, -1]\n",
      "( '}{' )\t1.6\t0.66332\t[1, 2, 2, 1, 1, 2, 2, 1, 3, 1]\n",
      "(%\t-0.9\t0.9434\t[0, 0, 1, -1, -1, -1, -2, -2, -1, -2]\n",
      "('-:\t2.2\t1.16619\t[4, 1, 4, 3, 1, 2, 3, 1, 2, 1]\n",
      "(':\t2.3\t0.9\t[1, 3, 3, 2, 2, 4, 2, 3, 1, 2]\n",
      "((-:\t2.1\t0.53852\t[2, 2, 2, 1, 2, 3, 2, 2, 3, 2]\n",
      "\n"
     ]
    }
   ],
   "source": [
    "print(''.join(open(\"data/vader_lexicon.txt\").readlines()[:10]))"
   ]
  },
  {
   "cell_type": "markdown",
   "metadata": {
    "id": "Cqr5pItGapP9"
   },
   "source": [
    "### Task 4.1\n",
    "\n",
    "As you can see, the lexicon contains emojis too! The first column of the lexicon is the *token*, or the word itself. The second column is the *polarity* of the word, or how positive / negative it is.\n",
    "\n",
    "(How did they decide the polarities of these words? What are the other two columns in the lexicon? See the link above.)\n",
    "\n",
    " Read in the lexicon into a DataFrame called `df_sent`. The index of the DF should be the tokens in the lexicon. `df_sent` should have one column: `polarity`: The polarity of each token."
   ]
  },
  {
   "cell_type": "code",
   "execution_count": 31,
   "metadata": {
    "id": "TR_upovHapP9"
   },
   "outputs": [
    {
     "data": {
      "text/html": [
       "<div>\n",
       "<style scoped>\n",
       "    .dataframe tbody tr th:only-of-type {\n",
       "        vertical-align: middle;\n",
       "    }\n",
       "\n",
       "    .dataframe tbody tr th {\n",
       "        vertical-align: top;\n",
       "    }\n",
       "\n",
       "    .dataframe thead th {\n",
       "        text-align: right;\n",
       "    }\n",
       "</style>\n",
       "<table border=\"1\" class=\"dataframe\">\n",
       "  <thead>\n",
       "    <tr style=\"text-align: right;\">\n",
       "      <th></th>\n",
       "      <th>polarity</th>\n",
       "    </tr>\n",
       "    <tr>\n",
       "      <th>token</th>\n",
       "      <th></th>\n",
       "    </tr>\n",
       "  </thead>\n",
       "  <tbody>\n",
       "    <tr>\n",
       "      <th>$:</th>\n",
       "      <td>-1.5</td>\n",
       "    </tr>\n",
       "    <tr>\n",
       "      <th>%)</th>\n",
       "      <td>-0.4</td>\n",
       "    </tr>\n",
       "    <tr>\n",
       "      <th>%-)</th>\n",
       "      <td>-1.5</td>\n",
       "    </tr>\n",
       "    <tr>\n",
       "      <th>&amp;-:</th>\n",
       "      <td>-0.4</td>\n",
       "    </tr>\n",
       "    <tr>\n",
       "      <th>&amp;:</th>\n",
       "      <td>-0.7</td>\n",
       "    </tr>\n",
       "    <tr>\n",
       "      <th>...</th>\n",
       "      <td>...</td>\n",
       "    </tr>\n",
       "    <tr>\n",
       "      <th>}:</th>\n",
       "      <td>-2.1</td>\n",
       "    </tr>\n",
       "    <tr>\n",
       "      <th>}:(</th>\n",
       "      <td>-2.0</td>\n",
       "    </tr>\n",
       "    <tr>\n",
       "      <th>}:)</th>\n",
       "      <td>0.4</td>\n",
       "    </tr>\n",
       "    <tr>\n",
       "      <th>}:-(</th>\n",
       "      <td>-2.1</td>\n",
       "    </tr>\n",
       "    <tr>\n",
       "      <th>}:-)</th>\n",
       "      <td>0.3</td>\n",
       "    </tr>\n",
       "  </tbody>\n",
       "</table>\n",
       "<p>7520 rows × 1 columns</p>\n",
       "</div>"
      ],
      "text/plain": [
       "       polarity\n",
       "token          \n",
       "$:         -1.5\n",
       "%)         -0.4\n",
       "%-)        -1.5\n",
       "&-:        -0.4\n",
       "&:         -0.7\n",
       "...         ...\n",
       "}:         -2.1\n",
       "}:(        -2.0\n",
       "}:)         0.4\n",
       "}:-(       -2.1\n",
       "}:-)        0.3\n",
       "\n",
       "[7520 rows x 1 columns]"
      ]
     },
     "execution_count": 31,
     "metadata": {},
     "output_type": "execute_result"
    }
   ],
   "source": [
    "### BEGIN ANSWER\n",
    "df_sent = pd.read_table(\"data/vader_lexicon.txt\", sep ='\\t', usecols=[0,1], names=['token','polarity'])\n",
    "df_sent.set_index('token', inplace=True)\n",
    "df_sent\n",
    "### END ANSWER"
   ]
  },
  {
   "cell_type": "markdown",
   "metadata": {
    "id": "rP0VMBSFapP9"
   },
   "source": [
    "### Task 4.2\n",
    "\n",
    "Now, let's use this lexicon to calculate the overall sentiment for each of Trump's tweets. Here's the basic idea:\n",
    "\n",
    "1. For each tweet, find the sentiment of each word.\n",
    "2. Calculate the sentiment of each tweet by taking the sum of the sentiments of its words.\n",
    "\n",
    "First, let's lowercase the text in the tweets since the lexicon is also lowercase. Set the `text` column of the `df_trump` DF to be the lowercased text of each tweet."
   ]
  },
  {
   "cell_type": "code",
   "execution_count": 32,
   "metadata": {
    "id": "s5sBadfbapP9"
   },
   "outputs": [
    {
     "data": {
      "text/html": [
       "<div>\n",
       "<style scoped>\n",
       "    .dataframe tbody tr th:only-of-type {\n",
       "        vertical-align: middle;\n",
       "    }\n",
       "\n",
       "    .dataframe tbody tr th {\n",
       "        vertical-align: top;\n",
       "    }\n",
       "\n",
       "    .dataframe thead th {\n",
       "        text-align: right;\n",
       "    }\n",
       "</style>\n",
       "<table border=\"1\" class=\"dataframe\">\n",
       "  <thead>\n",
       "    <tr style=\"text-align: right;\">\n",
       "      <th></th>\n",
       "      <th>time</th>\n",
       "      <th>source</th>\n",
       "      <th>text</th>\n",
       "      <th>retweet_count</th>\n",
       "      <th>est_time</th>\n",
       "      <th>hour</th>\n",
       "      <th>roundhour</th>\n",
       "      <th>year</th>\n",
       "    </tr>\n",
       "    <tr>\n",
       "      <th>id</th>\n",
       "      <th></th>\n",
       "      <th></th>\n",
       "      <th></th>\n",
       "      <th></th>\n",
       "      <th></th>\n",
       "      <th></th>\n",
       "      <th></th>\n",
       "      <th></th>\n",
       "    </tr>\n",
       "  </thead>\n",
       "  <tbody>\n",
       "    <tr>\n",
       "      <th>999986971660423170</th>\n",
       "      <td>2018-05-25 12:14:07+00:00</td>\n",
       "      <td>Twitter for iPhone</td>\n",
       "      <td>very good news to receive the warm and productive statement from north korea. we will soon see where it will lead, hopefully to long and enduring prosperity and peace. only time (and talent) will tell!</td>\n",
       "      <td>22984</td>\n",
       "      <td>2018-05-25 07:14:07-05:00</td>\n",
       "      <td>7.235278</td>\n",
       "      <td>7.0</td>\n",
       "      <td>2018.394521</td>\n",
       "    </tr>\n",
       "    <tr>\n",
       "      <th>999984507574018049</th>\n",
       "      <td>2018-05-25 12:04:20+00:00</td>\n",
       "      <td>Twitter for iPhone</td>\n",
       "      <td>democrats are so obviously rooting against us in our negotiations with north korea. just like they are coming to the defense of ms 13 thugs, saying that they are individuals &amp;amp; must be nurtured, or asking to end your big tax cuts &amp;amp; raise your taxes instead. dems have l...</td>\n",
       "      <td>25673</td>\n",
       "      <td>2018-05-25 07:04:20-05:00</td>\n",
       "      <td>7.072222</td>\n",
       "      <td>7.0</td>\n",
       "      <td>2018.394521</td>\n",
       "    </tr>\n",
       "    <tr>\n",
       "      <th>999984503123857408</th>\n",
       "      <td>2018-05-25 12:04:19+00:00</td>\n",
       "      <td>Twitter for iPhone</td>\n",
       "      <td>“everyone knows there was a spy, and in fact the people who were involved in the spying are admitting that there was a spy...widespread spying involving multiple people.” mollie hemingway, the federalist senior editor  but the corrupt mainstream media hates this monster story!</td>\n",
       "      <td>20810</td>\n",
       "      <td>2018-05-25 07:04:19-05:00</td>\n",
       "      <td>7.071944</td>\n",
       "      <td>7.0</td>\n",
       "      <td>2018.394521</td>\n",
       "    </tr>\n",
       "    <tr>\n",
       "      <th>999984495179726848</th>\n",
       "      <td>2018-05-25 12:04:17+00:00</td>\n",
       "      <td>Twitter for iPhone</td>\n",
       "      <td>can anyone even imagine having spies placed in a competing campaign, by the people and party in absolute power, for the sole purpose of political advantage and gain? and to think that the party in question, even with the expenditure of far more money, lost!</td>\n",
       "      <td>22494</td>\n",
       "      <td>2018-05-25 07:04:17-05:00</td>\n",
       "      <td>7.071389</td>\n",
       "      <td>7.0</td>\n",
       "      <td>2018.394521</td>\n",
       "    </tr>\n",
       "    <tr>\n",
       "      <th>999984492197613568</th>\n",
       "      <td>2018-05-25 12:04:16+00:00</td>\n",
       "      <td>Twitter for iPhone</td>\n",
       "      <td>the democrats are now alluding to the the concept that having an informant placed in an opposing party’s campaign is different than having a spy, as illegal as that may be. but what about an “informant” who is paid a fortune and who “sets up” way earlier than the russian hoax?</td>\n",
       "      <td>17785</td>\n",
       "      <td>2018-05-25 07:04:16-05:00</td>\n",
       "      <td>7.071111</td>\n",
       "      <td>7.0</td>\n",
       "      <td>2018.394521</td>\n",
       "    </tr>\n",
       "    <tr>\n",
       "      <th>...</th>\n",
       "      <td>...</td>\n",
       "      <td>...</td>\n",
       "      <td>...</td>\n",
       "      <td>...</td>\n",
       "      <td>...</td>\n",
       "      <td>...</td>\n",
       "      <td>...</td>\n",
       "      <td>...</td>\n",
       "    </tr>\n",
       "    <tr>\n",
       "      <th>1000145873274359809</th>\n",
       "      <td>2018-05-25 22:45:32+00:00</td>\n",
       "      <td>Twitter for iPhone</td>\n",
       "      <td>funny to watch the democrats criticize trade deals being negotiated by me when they don’t even know what the deals are and when for 8 years the obama administration did nothing on trade except let other countries rip off the united states. lost almost $800 billion/year under “o”</td>\n",
       "      <td>30848</td>\n",
       "      <td>2018-05-25 17:45:32-05:00</td>\n",
       "      <td>17.758889</td>\n",
       "      <td>18.0</td>\n",
       "      <td>2018.394521</td>\n",
       "    </tr>\n",
       "    <tr>\n",
       "      <th>1000138164923781121</th>\n",
       "      <td>2018-05-25 22:14:54+00:00</td>\n",
       "      <td>Twitter for iPhone</td>\n",
       "      <td>chicago police have every right to legally protest against the mayor and an administration that just won’t let them do their job. the killings are at a record pace and tough police work, which chicago will not allow, would bring things back to order fast...the killings must s...</td>\n",
       "      <td>24635</td>\n",
       "      <td>2018-05-25 17:14:54-05:00</td>\n",
       "      <td>17.248333</td>\n",
       "      <td>17.0</td>\n",
       "      <td>2018.394521</td>\n",
       "    </tr>\n",
       "    <tr>\n",
       "      <th>1000114139136606209</th>\n",
       "      <td>2018-05-25 20:39:26+00:00</td>\n",
       "      <td>Media Studio</td>\n",
       "      <td>to the @navalacademy class of 2018, i say: we know you are up to the task. we know you will make us proud. we know that glory will be yours. because you are winners, you are warriors, you are fighters, you are champions, and you will lead us to victory! god bless the u.s.a.! ...</td>\n",
       "      <td>16909</td>\n",
       "      <td>2018-05-25 15:39:26-05:00</td>\n",
       "      <td>15.657222</td>\n",
       "      <td>16.0</td>\n",
       "      <td>2018.394521</td>\n",
       "    </tr>\n",
       "    <tr>\n",
       "      <th>1000064605903876096</th>\n",
       "      <td>2018-05-25 17:22:37+00:00</td>\n",
       "      <td>Twitter for iPhone</td>\n",
       "      <td>on behalf of the american people, congratulations! we love you! https://t.co/yrlj0vrxwk</td>\n",
       "      <td>17866</td>\n",
       "      <td>2018-05-25 12:22:37-05:00</td>\n",
       "      <td>12.376944</td>\n",
       "      <td>12.0</td>\n",
       "      <td>2018.394521</td>\n",
       "    </tr>\n",
       "    <tr>\n",
       "      <th>1000061992042975232</th>\n",
       "      <td>2018-05-25 17:12:13+00:00</td>\n",
       "      <td>Twitter for iPhone</td>\n",
       "      <td>today, it was my great honor to deliver the 2018 commencement address at the united states @navalacademy in annapolis, maryland. congratulations!\\n\\ngood luck. godspeed. and anchors aweigh! https://t.co/aolbk7y16a</td>\n",
       "      <td>10562</td>\n",
       "      <td>2018-05-25 12:12:13-05:00</td>\n",
       "      <td>12.203611</td>\n",
       "      <td>12.0</td>\n",
       "      <td>2018.394521</td>\n",
       "    </tr>\n",
       "  </tbody>\n",
       "</table>\n",
       "<p>9478 rows × 8 columns</p>\n",
       "</div>"
      ],
      "text/plain": [
       "                                         time              source  \\\n",
       "id                                                                  \n",
       "999986971660423170  2018-05-25 12:14:07+00:00  Twitter for iPhone   \n",
       "999984507574018049  2018-05-25 12:04:20+00:00  Twitter for iPhone   \n",
       "999984503123857408  2018-05-25 12:04:19+00:00  Twitter for iPhone   \n",
       "999984495179726848  2018-05-25 12:04:17+00:00  Twitter for iPhone   \n",
       "999984492197613568  2018-05-25 12:04:16+00:00  Twitter for iPhone   \n",
       "...                                       ...                 ...   \n",
       "1000145873274359809 2018-05-25 22:45:32+00:00  Twitter for iPhone   \n",
       "1000138164923781121 2018-05-25 22:14:54+00:00  Twitter for iPhone   \n",
       "1000114139136606209 2018-05-25 20:39:26+00:00        Media Studio   \n",
       "1000064605903876096 2018-05-25 17:22:37+00:00  Twitter for iPhone   \n",
       "1000061992042975232 2018-05-25 17:12:13+00:00  Twitter for iPhone   \n",
       "\n",
       "                                                                                                                                                                                                                                                                                                        text  \\\n",
       "id                                                                                                                                                                                                                                                                                                             \n",
       "999986971660423170                                                                                 very good news to receive the warm and productive statement from north korea. we will soon see where it will lead, hopefully to long and enduring prosperity and peace. only time (and talent) will tell!   \n",
       "999984507574018049   democrats are so obviously rooting against us in our negotiations with north korea. just like they are coming to the defense of ms 13 thugs, saying that they are individuals &amp; must be nurtured, or asking to end your big tax cuts &amp; raise your taxes instead. dems have l...   \n",
       "999984503123857408     “everyone knows there was a spy, and in fact the people who were involved in the spying are admitting that there was a spy...widespread spying involving multiple people.” mollie hemingway, the federalist senior editor  but the corrupt mainstream media hates this monster story!   \n",
       "999984495179726848                         can anyone even imagine having spies placed in a competing campaign, by the people and party in absolute power, for the sole purpose of political advantage and gain? and to think that the party in question, even with the expenditure of far more money, lost!   \n",
       "999984492197613568     the democrats are now alluding to the the concept that having an informant placed in an opposing party’s campaign is different than having a spy, as illegal as that may be. but what about an “informant” who is paid a fortune and who “sets up” way earlier than the russian hoax?   \n",
       "...                                                                                                                                                                                                                                                                                                      ...   \n",
       "1000145873274359809  funny to watch the democrats criticize trade deals being negotiated by me when they don’t even know what the deals are and when for 8 years the obama administration did nothing on trade except let other countries rip off the united states. lost almost $800 billion/year under “o”   \n",
       "1000138164923781121  chicago police have every right to legally protest against the mayor and an administration that just won’t let them do their job. the killings are at a record pace and tough police work, which chicago will not allow, would bring things back to order fast...the killings must s...   \n",
       "1000114139136606209  to the @navalacademy class of 2018, i say: we know you are up to the task. we know you will make us proud. we know that glory will be yours. because you are winners, you are warriors, you are fighters, you are champions, and you will lead us to victory! god bless the u.s.a.! ...   \n",
       "1000064605903876096                                                                                                                                                                                                  on behalf of the american people, congratulations! we love you! https://t.co/yrlj0vrxwk   \n",
       "1000061992042975232                                                                    today, it was my great honor to deliver the 2018 commencement address at the united states @navalacademy in annapolis, maryland. congratulations!\\n\\ngood luck. godspeed. and anchors aweigh! https://t.co/aolbk7y16a   \n",
       "\n",
       "                     retweet_count                  est_time       hour  \\\n",
       "id                                                                        \n",
       "999986971660423170           22984 2018-05-25 07:14:07-05:00   7.235278   \n",
       "999984507574018049           25673 2018-05-25 07:04:20-05:00   7.072222   \n",
       "999984503123857408           20810 2018-05-25 07:04:19-05:00   7.071944   \n",
       "999984495179726848           22494 2018-05-25 07:04:17-05:00   7.071389   \n",
       "999984492197613568           17785 2018-05-25 07:04:16-05:00   7.071111   \n",
       "...                            ...                       ...        ...   \n",
       "1000145873274359809          30848 2018-05-25 17:45:32-05:00  17.758889   \n",
       "1000138164923781121          24635 2018-05-25 17:14:54-05:00  17.248333   \n",
       "1000114139136606209          16909 2018-05-25 15:39:26-05:00  15.657222   \n",
       "1000064605903876096          17866 2018-05-25 12:22:37-05:00  12.376944   \n",
       "1000061992042975232          10562 2018-05-25 12:12:13-05:00  12.203611   \n",
       "\n",
       "                     roundhour         year  \n",
       "id                                           \n",
       "999986971660423170         7.0  2018.394521  \n",
       "999984507574018049         7.0  2018.394521  \n",
       "999984503123857408         7.0  2018.394521  \n",
       "999984495179726848         7.0  2018.394521  \n",
       "999984492197613568         7.0  2018.394521  \n",
       "...                        ...          ...  \n",
       "1000145873274359809       18.0  2018.394521  \n",
       "1000138164923781121       17.0  2018.394521  \n",
       "1000114139136606209       16.0  2018.394521  \n",
       "1000064605903876096       12.0  2018.394521  \n",
       "1000061992042975232       12.0  2018.394521  \n",
       "\n",
       "[9478 rows x 8 columns]"
      ]
     },
     "execution_count": 32,
     "metadata": {},
     "output_type": "execute_result"
    }
   ],
   "source": [
    "### BEGIN ANSWER\n",
    "df_trump['text'] = df_trump['text'].str.lower()\n",
    "df_trump\n",
    "### END ANSWER"
   ]
  },
  {
   "cell_type": "markdown",
   "metadata": {
    "id": "cqK4HQNVapP-"
   },
   "source": [
    "### Task 4.3\n",
    "\n",
    "Now, let's get rid of punctuation since it'll cause us to fail to match words. Create a new column called `no_punc` in the `df_trump` to be the lowercased text of each tweet with all punctuation replaced by a single space. We consider punctuation characters to be any character that isn't a Unicode word character or a whitespace character. You may want to consult the Python documentation on regexes for this problem.\n",
    "\n",
    "(Why don't we simply remove punctuation instead of replacing with a space? See if you can figure this out by looking at the tweet data.)"
   ]
  },
  {
   "cell_type": "code",
   "execution_count": 33,
   "metadata": {
    "id": "QNAvW1axapP-"
   },
   "outputs": [],
   "source": [
    "# Save your regex in punct_re\n",
    "punct_re = r'[^\\w\\s\\\\n]'\n",
    "\n",
    "\n",
    "### BEGIN ANSWER\n",
    "df_trump['no_punc']=df_trump['text'].str.replace(punct_re, ' ', regex=True)\n",
    "### END ANSWER"
   ]
  },
  {
   "cell_type": "code",
   "execution_count": 34,
   "metadata": {
    "id": "fmaOn2D7apP-"
   },
   "outputs": [],
   "source": [
    "assert isinstance(punct_re, str)\n",
    "assert re.search(punct_re, 'this') is None\n",
    "assert re.search(punct_re, 'this is ok') is None\n",
    "assert re.search(punct_re, 'this is\\nok') is None\n",
    "assert re.search(punct_re, 'this is not ok.') is not None\n",
    "assert re.search(punct_re, 'this#is#ok') is not None\n",
    "assert re.search(punct_re, 'this^is ok') is not None\n",
    "assert df_trump['no_punc'].loc[\"800329364986626048\"] == 'i watched parts of  nbcsnl saturday night live last night  it is a totally one sided  biased show   nothing funny at all  equal time for us '\n",
    "assert df_trump['text'].loc[\"884740553040175104\"] == 'working hard to get the olympics for the united states (l.a.). stay tuned!'\n"
   ]
  },
  {
   "cell_type": "markdown",
   "metadata": {
    "id": "2KsT--c-apP-"
   },
   "source": [
    "### Task 4.4\n",
    "\n",
    "\n",
    "Now, let's convert the tweets into what's called a [*tidy format*](https://cran.r-project.org/web/packages/tidyr/vignettes/tidy-data.html) to make the sentiments easier to calculate. Use the `no_punc` column of `df_trump` to create a table called `tidy_format`. The index of the table should be the IDs of the tweets, repeated once for every word in the tweet. It has two columns:\n",
    "\n",
    "1. `num`: The location of the word in the tweet. For example, if the tweet was \"i love america\", then the location of the word \"i\" is 0, \"love\" is 1, and \"america\" is 2.\n",
    "2. `word`: The individual words of each tweet.\n",
    "\n",
    "The first few rows of our `tidy_format` table look like:\n",
    "\n",
    "<table border=\"1\" class=\"dataframe\">\n",
    "  <thead>\n",
    "    <tr style=\"text-align: right;\">\n",
    "      <th></th>\n",
    "      <th>num</th>\n",
    "      <th>word</th>\n",
    "    </tr>\n",
    "  </thead>\n",
    "  <tbody>\n",
    "    <tr>\n",
    "      <th>894661651760377856</th>\n",
    "      <td>0</td>\n",
    "      <td>i</td>\n",
    "    </tr>\n",
    "    <tr>\n",
    "      <th>894661651760377856</th>\n",
    "      <td>1</td>\n",
    "      <td>think</td>\n",
    "    </tr>\n",
    "    <tr>\n",
    "      <th>894661651760377856</th>\n",
    "      <td>2</td>\n",
    "      <td>senator</td>\n",
    "    </tr>\n",
    "    <tr>\n",
    "      <th>894661651760377856</th>\n",
    "      <td>3</td>\n",
    "      <td>blumenthal</td>\n",
    "    </tr>\n",
    "    <tr>\n",
    "      <th>894661651760377856</th>\n",
    "      <td>4</td>\n",
    "      <td>should</td>\n",
    "    </tr>\n",
    "  </tbody>\n",
    "</table>\n",
    "\n",
    "You can double check that your tweet with ID `894661651760377856` has the same rows as ours. Our tests don't check whether your table looks exactly like ours.\n",
    "\n",
    "As usual, try to avoid using any for loops. Our solution uses a chain of 5 methods on the 'trump' DF, albeit using some rather advanced Pandas hacking.\n",
    "\n",
    "* **Hint 1:** Try looking at the `expand` argument to pandas' `str.split`.\n",
    "\n",
    "* **Hint 2:** Try looking at the `stack()` method.\n",
    "\n",
    "* **Hint 3:** Try looking at the `level` parameter of the `reset_index` method."
   ]
  },
  {
   "cell_type": "code",
   "execution_count": 35,
   "metadata": {
    "id": "BqaENYt3apP-"
   },
   "outputs": [
    {
     "name": "stdout",
     "output_type": "stream",
     "text": [
      "                     num           0\n",
      "id                                  \n",
      "999986971660423170     0        very\n",
      "999986971660423170     1        good\n",
      "999986971660423170     2        news\n",
      "999986971660423170     3          to\n",
      "999986971660423170     4     receive\n",
      "...                  ...         ...\n",
      "1000061992042975232   26      aweigh\n",
      "1000061992042975232   27       https\n",
      "1000061992042975232   28           t\n",
      "1000061992042975232   29          co\n",
      "1000061992042975232   30  aolbk7y16a\n",
      "\n",
      "[225001 rows x 2 columns]\n"
     ]
    },
    {
     "data": {
      "text/html": [
       "<div>\n",
       "<style scoped>\n",
       "    .dataframe tbody tr th:only-of-type {\n",
       "        vertical-align: middle;\n",
       "    }\n",
       "\n",
       "    .dataframe tbody tr th {\n",
       "        vertical-align: top;\n",
       "    }\n",
       "\n",
       "    .dataframe thead th {\n",
       "        text-align: right;\n",
       "    }\n",
       "</style>\n",
       "<table border=\"1\" class=\"dataframe\">\n",
       "  <thead>\n",
       "    <tr style=\"text-align: right;\">\n",
       "      <th></th>\n",
       "      <th>num</th>\n",
       "      <th>word</th>\n",
       "    </tr>\n",
       "    <tr>\n",
       "      <th>id</th>\n",
       "      <th></th>\n",
       "      <th></th>\n",
       "    </tr>\n",
       "  </thead>\n",
       "  <tbody>\n",
       "    <tr>\n",
       "      <th>999986971660423170</th>\n",
       "      <td>0</td>\n",
       "      <td>very</td>\n",
       "    </tr>\n",
       "    <tr>\n",
       "      <th>999986971660423170</th>\n",
       "      <td>1</td>\n",
       "      <td>good</td>\n",
       "    </tr>\n",
       "    <tr>\n",
       "      <th>999986971660423170</th>\n",
       "      <td>2</td>\n",
       "      <td>news</td>\n",
       "    </tr>\n",
       "    <tr>\n",
       "      <th>999986971660423170</th>\n",
       "      <td>3</td>\n",
       "      <td>to</td>\n",
       "    </tr>\n",
       "    <tr>\n",
       "      <th>999986971660423170</th>\n",
       "      <td>4</td>\n",
       "      <td>receive</td>\n",
       "    </tr>\n",
       "    <tr>\n",
       "      <th>...</th>\n",
       "      <td>...</td>\n",
       "      <td>...</td>\n",
       "    </tr>\n",
       "    <tr>\n",
       "      <th>1000061992042975232</th>\n",
       "      <td>26</td>\n",
       "      <td>aweigh</td>\n",
       "    </tr>\n",
       "    <tr>\n",
       "      <th>1000061992042975232</th>\n",
       "      <td>27</td>\n",
       "      <td>https</td>\n",
       "    </tr>\n",
       "    <tr>\n",
       "      <th>1000061992042975232</th>\n",
       "      <td>28</td>\n",
       "      <td>t</td>\n",
       "    </tr>\n",
       "    <tr>\n",
       "      <th>1000061992042975232</th>\n",
       "      <td>29</td>\n",
       "      <td>co</td>\n",
       "    </tr>\n",
       "    <tr>\n",
       "      <th>1000061992042975232</th>\n",
       "      <td>30</td>\n",
       "      <td>aolbk7y16a</td>\n",
       "    </tr>\n",
       "  </tbody>\n",
       "</table>\n",
       "<p>225001 rows × 2 columns</p>\n",
       "</div>"
      ],
      "text/plain": [
       "                     num        word\n",
       "id                                  \n",
       "999986971660423170     0        very\n",
       "999986971660423170     1        good\n",
       "999986971660423170     2        news\n",
       "999986971660423170     3          to\n",
       "999986971660423170     4     receive\n",
       "...                  ...         ...\n",
       "1000061992042975232   26      aweigh\n",
       "1000061992042975232   27       https\n",
       "1000061992042975232   28           t\n",
       "1000061992042975232   29          co\n",
       "1000061992042975232   30  aolbk7y16a\n",
       "\n",
       "[225001 rows x 2 columns]"
      ]
     },
     "execution_count": 35,
     "metadata": {},
     "output_type": "execute_result"
    }
   ],
   "source": [
    "\n",
    "### BEGIN ANSWER\n",
    "temp = df_trump['no_punc'].str.split(expand=True)\n",
    "temp = temp.stack()\n",
    "temp.index.names=['id','num']\n",
    "tidy_format = temp.reset_index('num')\n",
    "print(tidy_format)\n",
    "tidy_format.rename(columns={0:'word'},inplace=True)\n",
    "tidy_format\n",
    "### END ANSWER"
   ]
  },
  {
   "cell_type": "code",
   "execution_count": 36,
   "metadata": {
    "id": "WPHMJKK1apP-"
   },
   "outputs": [],
   "source": [
    "assert tidy_format.loc[\"894661651760377856\"].shape == (27, 2)\n",
    "assert ' '.join(list(tidy_format.loc[\"894661651760377856\"]['word'])) == 'i think senator blumenthal should take a nice long vacation in vietnam where he lied about his service so he can at least say he was there'"
   ]
  },
  {
   "cell_type": "markdown",
   "metadata": {
    "id": "LCkJmueyapP-"
   },
   "source": [
    "### Task 4.5\n",
    "\n",
    "Now that we have this table in the tidy format, it becomes much easier to find the sentiment of each tweet: we can join the table with the lexicon table. \n",
    "\n",
    "Add a `polarity` column to the `df_trump` table.  The `polarity` column should contain the sum of the sentiment polarity of each word in the text of the tweet.\n",
    "\n",
    "**Hint** you will need to merge the `tidy_format` and `df_sent` tables and group the final answer.\n"
   ]
  },
  {
   "cell_type": "code",
   "execution_count": 37,
   "metadata": {
    "id": "Aem_gXlMapP-"
   },
   "outputs": [
    {
     "data": {
      "text/html": [
       "<div>\n",
       "<style scoped>\n",
       "    .dataframe tbody tr th:only-of-type {\n",
       "        vertical-align: middle;\n",
       "    }\n",
       "\n",
       "    .dataframe tbody tr th {\n",
       "        vertical-align: top;\n",
       "    }\n",
       "\n",
       "    .dataframe thead th {\n",
       "        text-align: right;\n",
       "    }\n",
       "</style>\n",
       "<table border=\"1\" class=\"dataframe\">\n",
       "  <thead>\n",
       "    <tr style=\"text-align: right;\">\n",
       "      <th></th>\n",
       "      <th>time</th>\n",
       "      <th>source</th>\n",
       "      <th>text</th>\n",
       "      <th>retweet_count</th>\n",
       "      <th>est_time</th>\n",
       "      <th>hour</th>\n",
       "      <th>roundhour</th>\n",
       "      <th>year</th>\n",
       "      <th>no_punc</th>\n",
       "      <th>polarity</th>\n",
       "    </tr>\n",
       "    <tr>\n",
       "      <th>id</th>\n",
       "      <th></th>\n",
       "      <th></th>\n",
       "      <th></th>\n",
       "      <th></th>\n",
       "      <th></th>\n",
       "      <th></th>\n",
       "      <th></th>\n",
       "      <th></th>\n",
       "      <th></th>\n",
       "      <th></th>\n",
       "    </tr>\n",
       "  </thead>\n",
       "  <tbody>\n",
       "    <tr>\n",
       "      <th>999986971660423170</th>\n",
       "      <td>2018-05-25 12:14:07+00:00</td>\n",
       "      <td>Twitter for iPhone</td>\n",
       "      <td>very good news to receive the warm and productive statement from north korea. we will soon see where it will lead, hopefully to long and enduring prosperity and peace. only time (and talent) will tell!</td>\n",
       "      <td>22984</td>\n",
       "      <td>2018-05-25 07:14:07-05:00</td>\n",
       "      <td>7.235278</td>\n",
       "      <td>7.0</td>\n",
       "      <td>2018.394521</td>\n",
       "      <td>very good news to receive the warm and productive statement from north korea  we will soon see where it will lead  hopefully to long and enduring prosperity and peace  only time  and talent  will tell</td>\n",
       "      <td>8.8</td>\n",
       "    </tr>\n",
       "    <tr>\n",
       "      <th>999984507574018049</th>\n",
       "      <td>2018-05-25 12:04:20+00:00</td>\n",
       "      <td>Twitter for iPhone</td>\n",
       "      <td>democrats are so obviously rooting against us in our negotiations with north korea. just like they are coming to the defense of ms 13 thugs, saying that they are individuals &amp;amp; must be nurtured, or asking to end your big tax cuts &amp;amp; raise your taxes instead. dems have l...</td>\n",
       "      <td>25673</td>\n",
       "      <td>2018-05-25 07:04:20-05:00</td>\n",
       "      <td>7.072222</td>\n",
       "      <td>7.0</td>\n",
       "      <td>2018.394521</td>\n",
       "      <td>democrats are so obviously rooting against us in our negotiations with north korea  just like they are coming to the defense of ms 13 thugs  saying that they are individuals  amp  must be nurtured  or asking to end your big tax cuts  amp  raise your taxes instead  dems have l...</td>\n",
       "      <td>1.4</td>\n",
       "    </tr>\n",
       "    <tr>\n",
       "      <th>999984503123857408</th>\n",
       "      <td>2018-05-25 12:04:19+00:00</td>\n",
       "      <td>Twitter for iPhone</td>\n",
       "      <td>“everyone knows there was a spy, and in fact the people who were involved in the spying are admitting that there was a spy...widespread spying involving multiple people.” mollie hemingway, the federalist senior editor  but the corrupt mainstream media hates this monster story!</td>\n",
       "      <td>20810</td>\n",
       "      <td>2018-05-25 07:04:19-05:00</td>\n",
       "      <td>7.071944</td>\n",
       "      <td>7.0</td>\n",
       "      <td>2018.394521</td>\n",
       "      <td>everyone knows there was a spy  and in fact the people who were involved in the spying are admitting that there was a spy   widespread spying involving multiple people   mollie hemingway  the federalist senior editor  but the corrupt mainstream media hates this monster story</td>\n",
       "      <td>-1.9</td>\n",
       "    </tr>\n",
       "    <tr>\n",
       "      <th>999984495179726848</th>\n",
       "      <td>2018-05-25 12:04:17+00:00</td>\n",
       "      <td>Twitter for iPhone</td>\n",
       "      <td>can anyone even imagine having spies placed in a competing campaign, by the people and party in absolute power, for the sole purpose of political advantage and gain? and to think that the party in question, even with the expenditure of far more money, lost!</td>\n",
       "      <td>22494</td>\n",
       "      <td>2018-05-25 07:04:17-05:00</td>\n",
       "      <td>7.071389</td>\n",
       "      <td>7.0</td>\n",
       "      <td>2018.394521</td>\n",
       "      <td>can anyone even imagine having spies placed in a competing campaign  by the people and party in absolute power  for the sole purpose of political advantage and gain  and to think that the party in question  even with the expenditure of far more money  lost</td>\n",
       "      <td>5.5</td>\n",
       "    </tr>\n",
       "    <tr>\n",
       "      <th>999984492197613568</th>\n",
       "      <td>2018-05-25 12:04:16+00:00</td>\n",
       "      <td>Twitter for iPhone</td>\n",
       "      <td>the democrats are now alluding to the the concept that having an informant placed in an opposing party’s campaign is different than having a spy, as illegal as that may be. but what about an “informant” who is paid a fortune and who “sets up” way earlier than the russian hoax?</td>\n",
       "      <td>17785</td>\n",
       "      <td>2018-05-25 07:04:16-05:00</td>\n",
       "      <td>7.071111</td>\n",
       "      <td>7.0</td>\n",
       "      <td>2018.394521</td>\n",
       "      <td>the democrats are now alluding to the the concept that having an informant placed in an opposing party s campaign is different than having a spy  as illegal as that may be  but what about an  informant  who is paid a fortune and who  sets up  way earlier than the russian hoax</td>\n",
       "      <td>-2.0</td>\n",
       "    </tr>\n",
       "    <tr>\n",
       "      <th>...</th>\n",
       "      <td>...</td>\n",
       "      <td>...</td>\n",
       "      <td>...</td>\n",
       "      <td>...</td>\n",
       "      <td>...</td>\n",
       "      <td>...</td>\n",
       "      <td>...</td>\n",
       "      <td>...</td>\n",
       "      <td>...</td>\n",
       "      <td>...</td>\n",
       "    </tr>\n",
       "    <tr>\n",
       "      <th>1000145873274359809</th>\n",
       "      <td>2018-05-25 22:45:32+00:00</td>\n",
       "      <td>Twitter for iPhone</td>\n",
       "      <td>funny to watch the democrats criticize trade deals being negotiated by me when they don’t even know what the deals are and when for 8 years the obama administration did nothing on trade except let other countries rip off the united states. lost almost $800 billion/year under “o”</td>\n",
       "      <td>30848</td>\n",
       "      <td>2018-05-25 17:45:32-05:00</td>\n",
       "      <td>17.758889</td>\n",
       "      <td>18.0</td>\n",
       "      <td>2018.394521</td>\n",
       "      <td>funny to watch the democrats criticize trade deals being negotiated by me when they don t even know what the deals are and when for 8 years the obama administration did nothing on trade except let other countries rip off the united states  lost almost  800 billion year under  o</td>\n",
       "      <td>0.8</td>\n",
       "    </tr>\n",
       "    <tr>\n",
       "      <th>1000138164923781121</th>\n",
       "      <td>2018-05-25 22:14:54+00:00</td>\n",
       "      <td>Twitter for iPhone</td>\n",
       "      <td>chicago police have every right to legally protest against the mayor and an administration that just won’t let them do their job. the killings are at a record pace and tough police work, which chicago will not allow, would bring things back to order fast...the killings must s...</td>\n",
       "      <td>24635</td>\n",
       "      <td>2018-05-25 17:14:54-05:00</td>\n",
       "      <td>17.248333</td>\n",
       "      <td>17.0</td>\n",
       "      <td>2018.394521</td>\n",
       "      <td>chicago police have every right to legally protest against the mayor and an administration that just won t let them do their job  the killings are at a record pace and tough police work  which chicago will not allow  would bring things back to order fast   the killings must s...</td>\n",
       "      <td>-5.7</td>\n",
       "    </tr>\n",
       "    <tr>\n",
       "      <th>1000114139136606209</th>\n",
       "      <td>2018-05-25 20:39:26+00:00</td>\n",
       "      <td>Media Studio</td>\n",
       "      <td>to the @navalacademy class of 2018, i say: we know you are up to the task. we know you will make us proud. we know that glory will be yours. because you are winners, you are warriors, you are fighters, you are champions, and you will lead us to victory! god bless the u.s.a.! ...</td>\n",
       "      <td>16909</td>\n",
       "      <td>2018-05-25 15:39:26-05:00</td>\n",
       "      <td>15.657222</td>\n",
       "      <td>16.0</td>\n",
       "      <td>2018.394521</td>\n",
       "      <td>to the  navalacademy class of 2018  i say  we know you are up to the task  we know you will make us proud  we know that glory will be yours  because you are winners  you are warriors  you are fighters  you are champions  and you will lead us to victory  god bless the u s a   ...</td>\n",
       "      <td>11.8</td>\n",
       "    </tr>\n",
       "    <tr>\n",
       "      <th>1000064605903876096</th>\n",
       "      <td>2018-05-25 17:22:37+00:00</td>\n",
       "      <td>Twitter for iPhone</td>\n",
       "      <td>on behalf of the american people, congratulations! we love you! https://t.co/yrlj0vrxwk</td>\n",
       "      <td>17866</td>\n",
       "      <td>2018-05-25 12:22:37-05:00</td>\n",
       "      <td>12.376944</td>\n",
       "      <td>12.0</td>\n",
       "      <td>2018.394521</td>\n",
       "      <td>on behalf of the american people  congratulations  we love you  https   t co yrlj0vrxwk</td>\n",
       "      <td>6.1</td>\n",
       "    </tr>\n",
       "    <tr>\n",
       "      <th>1000061992042975232</th>\n",
       "      <td>2018-05-25 17:12:13+00:00</td>\n",
       "      <td>Twitter for iPhone</td>\n",
       "      <td>today, it was my great honor to deliver the 2018 commencement address at the united states @navalacademy in annapolis, maryland. congratulations!\\n\\ngood luck. godspeed. and anchors aweigh! https://t.co/aolbk7y16a</td>\n",
       "      <td>10562</td>\n",
       "      <td>2018-05-25 12:12:13-05:00</td>\n",
       "      <td>12.203611</td>\n",
       "      <td>12.0</td>\n",
       "      <td>2018.394521</td>\n",
       "      <td>today  it was my great honor to deliver the 2018 commencement address at the united states  navalacademy in annapolis  maryland  congratulations \\n\\ngood luck  godspeed  and anchors aweigh  https   t co aolbk7y16a</td>\n",
       "      <td>13.9</td>\n",
       "    </tr>\n",
       "  </tbody>\n",
       "</table>\n",
       "<p>9478 rows × 10 columns</p>\n",
       "</div>"
      ],
      "text/plain": [
       "                                         time              source  \\\n",
       "id                                                                  \n",
       "999986971660423170  2018-05-25 12:14:07+00:00  Twitter for iPhone   \n",
       "999984507574018049  2018-05-25 12:04:20+00:00  Twitter for iPhone   \n",
       "999984503123857408  2018-05-25 12:04:19+00:00  Twitter for iPhone   \n",
       "999984495179726848  2018-05-25 12:04:17+00:00  Twitter for iPhone   \n",
       "999984492197613568  2018-05-25 12:04:16+00:00  Twitter for iPhone   \n",
       "...                                       ...                 ...   \n",
       "1000145873274359809 2018-05-25 22:45:32+00:00  Twitter for iPhone   \n",
       "1000138164923781121 2018-05-25 22:14:54+00:00  Twitter for iPhone   \n",
       "1000114139136606209 2018-05-25 20:39:26+00:00        Media Studio   \n",
       "1000064605903876096 2018-05-25 17:22:37+00:00  Twitter for iPhone   \n",
       "1000061992042975232 2018-05-25 17:12:13+00:00  Twitter for iPhone   \n",
       "\n",
       "                                                                                                                                                                                                                                                                                                        text  \\\n",
       "id                                                                                                                                                                                                                                                                                                             \n",
       "999986971660423170                                                                                 very good news to receive the warm and productive statement from north korea. we will soon see where it will lead, hopefully to long and enduring prosperity and peace. only time (and talent) will tell!   \n",
       "999984507574018049   democrats are so obviously rooting against us in our negotiations with north korea. just like they are coming to the defense of ms 13 thugs, saying that they are individuals &amp; must be nurtured, or asking to end your big tax cuts &amp; raise your taxes instead. dems have l...   \n",
       "999984503123857408     “everyone knows there was a spy, and in fact the people who were involved in the spying are admitting that there was a spy...widespread spying involving multiple people.” mollie hemingway, the federalist senior editor  but the corrupt mainstream media hates this monster story!   \n",
       "999984495179726848                         can anyone even imagine having spies placed in a competing campaign, by the people and party in absolute power, for the sole purpose of political advantage and gain? and to think that the party in question, even with the expenditure of far more money, lost!   \n",
       "999984492197613568     the democrats are now alluding to the the concept that having an informant placed in an opposing party’s campaign is different than having a spy, as illegal as that may be. but what about an “informant” who is paid a fortune and who “sets up” way earlier than the russian hoax?   \n",
       "...                                                                                                                                                                                                                                                                                                      ...   \n",
       "1000145873274359809  funny to watch the democrats criticize trade deals being negotiated by me when they don’t even know what the deals are and when for 8 years the obama administration did nothing on trade except let other countries rip off the united states. lost almost $800 billion/year under “o”   \n",
       "1000138164923781121  chicago police have every right to legally protest against the mayor and an administration that just won’t let them do their job. the killings are at a record pace and tough police work, which chicago will not allow, would bring things back to order fast...the killings must s...   \n",
       "1000114139136606209  to the @navalacademy class of 2018, i say: we know you are up to the task. we know you will make us proud. we know that glory will be yours. because you are winners, you are warriors, you are fighters, you are champions, and you will lead us to victory! god bless the u.s.a.! ...   \n",
       "1000064605903876096                                                                                                                                                                                                  on behalf of the american people, congratulations! we love you! https://t.co/yrlj0vrxwk   \n",
       "1000061992042975232                                                                    today, it was my great honor to deliver the 2018 commencement address at the united states @navalacademy in annapolis, maryland. congratulations!\\n\\ngood luck. godspeed. and anchors aweigh! https://t.co/aolbk7y16a   \n",
       "\n",
       "                     retweet_count                  est_time       hour  \\\n",
       "id                                                                        \n",
       "999986971660423170           22984 2018-05-25 07:14:07-05:00   7.235278   \n",
       "999984507574018049           25673 2018-05-25 07:04:20-05:00   7.072222   \n",
       "999984503123857408           20810 2018-05-25 07:04:19-05:00   7.071944   \n",
       "999984495179726848           22494 2018-05-25 07:04:17-05:00   7.071389   \n",
       "999984492197613568           17785 2018-05-25 07:04:16-05:00   7.071111   \n",
       "...                            ...                       ...        ...   \n",
       "1000145873274359809          30848 2018-05-25 17:45:32-05:00  17.758889   \n",
       "1000138164923781121          24635 2018-05-25 17:14:54-05:00  17.248333   \n",
       "1000114139136606209          16909 2018-05-25 15:39:26-05:00  15.657222   \n",
       "1000064605903876096          17866 2018-05-25 12:22:37-05:00  12.376944   \n",
       "1000061992042975232          10562 2018-05-25 12:12:13-05:00  12.203611   \n",
       "\n",
       "                     roundhour         year  \\\n",
       "id                                            \n",
       "999986971660423170         7.0  2018.394521   \n",
       "999984507574018049         7.0  2018.394521   \n",
       "999984503123857408         7.0  2018.394521   \n",
       "999984495179726848         7.0  2018.394521   \n",
       "999984492197613568         7.0  2018.394521   \n",
       "...                        ...          ...   \n",
       "1000145873274359809       18.0  2018.394521   \n",
       "1000138164923781121       17.0  2018.394521   \n",
       "1000114139136606209       16.0  2018.394521   \n",
       "1000064605903876096       12.0  2018.394521   \n",
       "1000061992042975232       12.0  2018.394521   \n",
       "\n",
       "                                                                                                                                                                                                                                                                                                     no_punc  \\\n",
       "id                                                                                                                                                                                                                                                                                                             \n",
       "999986971660423170                                                                                 very good news to receive the warm and productive statement from north korea  we will soon see where it will lead  hopefully to long and enduring prosperity and peace  only time  and talent  will tell    \n",
       "999984507574018049   democrats are so obviously rooting against us in our negotiations with north korea  just like they are coming to the defense of ms 13 thugs  saying that they are individuals  amp  must be nurtured  or asking to end your big tax cuts  amp  raise your taxes instead  dems have l...   \n",
       "999984503123857408      everyone knows there was a spy  and in fact the people who were involved in the spying are admitting that there was a spy   widespread spying involving multiple people   mollie hemingway  the federalist senior editor  but the corrupt mainstream media hates this monster story    \n",
       "999984495179726848                         can anyone even imagine having spies placed in a competing campaign  by the people and party in absolute power  for the sole purpose of political advantage and gain  and to think that the party in question  even with the expenditure of far more money  lost    \n",
       "999984492197613568     the democrats are now alluding to the the concept that having an informant placed in an opposing party s campaign is different than having a spy  as illegal as that may be  but what about an  informant  who is paid a fortune and who  sets up  way earlier than the russian hoax    \n",
       "...                                                                                                                                                                                                                                                                                                      ...   \n",
       "1000145873274359809  funny to watch the democrats criticize trade deals being negotiated by me when they don t even know what the deals are and when for 8 years the obama administration did nothing on trade except let other countries rip off the united states  lost almost  800 billion year under  o    \n",
       "1000138164923781121  chicago police have every right to legally protest against the mayor and an administration that just won t let them do their job  the killings are at a record pace and tough police work  which chicago will not allow  would bring things back to order fast   the killings must s...   \n",
       "1000114139136606209  to the  navalacademy class of 2018  i say  we know you are up to the task  we know you will make us proud  we know that glory will be yours  because you are winners  you are warriors  you are fighters  you are champions  and you will lead us to victory  god bless the u s a   ...   \n",
       "1000064605903876096                                                                                                                                                                                                  on behalf of the american people  congratulations  we love you  https   t co yrlj0vrxwk   \n",
       "1000061992042975232                                                                    today  it was my great honor to deliver the 2018 commencement address at the united states  navalacademy in annapolis  maryland  congratulations \\n\\ngood luck  godspeed  and anchors aweigh  https   t co aolbk7y16a   \n",
       "\n",
       "                     polarity  \n",
       "id                             \n",
       "999986971660423170        8.8  \n",
       "999984507574018049        1.4  \n",
       "999984503123857408       -1.9  \n",
       "999984495179726848        5.5  \n",
       "999984492197613568       -2.0  \n",
       "...                       ...  \n",
       "1000145873274359809       0.8  \n",
       "1000138164923781121      -5.7  \n",
       "1000114139136606209      11.8  \n",
       "1000064605903876096       6.1  \n",
       "1000061992042975232      13.9  \n",
       "\n",
       "[9478 rows x 10 columns]"
      ]
     },
     "execution_count": 37,
     "metadata": {},
     "output_type": "execute_result"
    }
   ],
   "source": [
    "\n",
    "\n",
    "### BEGIN ANSWER\n",
    "temp = tidy_format.merge(right=df_sent,left_on='word',right_index=True)\n",
    "temp = temp.groupby('id').sum()\n",
    "df_trump['polarity'] = temp['polarity']\n",
    "df_trump['polarity'] = df_trump['polarity'].fillna(0)\n",
    "### END ANSWER\n",
    "df_trump"
   ]
  },
  {
   "cell_type": "code",
   "execution_count": 38,
   "metadata": {
    "id": "mhgNONHiapP-"
   },
   "outputs": [],
   "source": [
    "assert np.allclose(df_trump.loc[\"744701872456536064\", 'polarity'], 8.4)\n",
    "assert np.allclose(df_trump.loc[\"745304731346702336\", 'polarity'], 2.5)\n",
    "assert np.allclose(df_trump.loc[\"744519497764184064\", 'polarity'], 1.7)\n",
    "assert np.allclose(df_trump.loc[\"894661651760377856\", 'polarity'], 0.2)\n",
    "assert np.allclose(df_trump.loc[\"894620077634592769\", 'polarity'], 5.4)\n",
    "# If you fail this test, you dropped tweets with 0 polarity\n",
    "#assert np.allclose(df_trump.loc[744355251365511169, 'polarity'], 0.0)\n"
   ]
  },
  {
   "cell_type": "markdown",
   "metadata": {
    "id": "7iNmWEDNapP-"
   },
   "source": [
    "### Task 4.6\n",
    "Now we have a measure of the sentiment of each of his tweets! You can read over the VADER readme to understand a more robust sentiment analysis.\n",
    "Now, write the code to see the most positive and most negative tweets from Trump in your dataset:\n",
    "Find the most negative and most positive tweets made by Trump"
   ]
  },
  {
   "cell_type": "code",
   "execution_count": 39,
   "metadata": {
    "id": "MFanLgGlapP-"
   },
   "outputs": [
    {
     "name": "stdout",
     "output_type": "stream",
     "text": [
      "Most negative tweets:\n",
      "it is outrageous that poisonous synthetic heroin fentanyl comes pouring into the u.s. postal system from china. we can, and must, end this now! the senate should pass the stop act – and firmly stop this poison from killing our children and destroying our country. no more delay!\n",
      "\n",
      "the rigged russian witch hunt goes on and on as the “originators and founders” of this scam continue to be fired and demoted for their corrupt and illegal activity. all credibility is gone from this terrible hoax, and much more will be lost as it proceeds. no collusion!\n",
      "\n",
      "james comey is a proven leaker &amp; liar. virtually everyone in washington thought he should be fired for the terrible job he did-until he was, in fact, fired. he leaked classified information, for which he should be prosecuted. he lied to congress under oath. he is a weak and.....\n",
      "\n",
      "this is an illegally brought rigged witch hunt run by people who are totally corrupt and/or conflicted. it was started and paid for by crooked hillary and the democrats. phony dossier, fisa disgrace and so many lying and dishonest people already fired. 17 angry dems? stay tuned!\n",
      "\n",
      "where’s the collusion? they made up a phony crime called collusion, and when there was no collusion they say there was obstruction (of a phony crime that never existed). if you fight back or say anything bad about the rigged witch hunt, they scream obstruction!\n",
      "\n"
     ]
    }
   ],
   "source": [
    "print('Most negative tweets:')\n",
    "\n",
    "### BEGIN ANSWER\n",
    "for index,row in df_trump.sort_values(by='polarity', ascending=True).head().iterrows():\n",
    "    print(row['text'])\n",
    "    print()\n",
    "### END ANSWER"
   ]
  },
  {
   "cell_type": "code",
   "execution_count": 40,
   "metadata": {
    "id": "b66zMSi6apP_"
   },
   "outputs": [
    {
     "name": "stdout",
     "output_type": "stream",
     "text": [
      "Most positive tweets:\n",
      "congratulations to patrick reed on his great and courageous masters win! when patrick had his amazing win at doral 5 years ago, people saw his great talent, and a bright future ahead. now he is the masters champion!\n",
      "\n",
      "my supporters are the smartest, strongest, most hard working and most loyal that we have seen in our countries history. it is a beautiful thing to watch as we win elections and gather support from all over the country. as we get stronger, so does our country. best numbers ever!\n",
      "\n",
      "thank you to all of my great supporters, really big progress being made. other countries wanting to fix crazy trade deals. economy is roaring. supreme court pick getting great reviews. new poll says trump, at over 90%, is the most popular republican in history of the party. wow!\n",
      "\n",
      "it was my great honor to deliver a message at the marine corps air station miramar to our great u.s. military, straight from the heart of the american people: we support you, we thank you, we love you - and we will always have your back! https://t.co/oct1nh3don\n",
      "\n",
      "thank you, @wvgovernor jim justice, for that warm introduction. tonight, it was my great honor to attend the “greenbrier classic – salute to service dinner” in west virginia! god bless our veterans. god bless america - and happy independence day to all! https://t.co/v35qvcn8m6\n",
      "\n"
     ]
    }
   ],
   "source": [
    "print('Most positive tweets:')\n",
    "\n",
    "### BEGIN ANSWER\n",
    "for index,row in df_trump.sort_values(by='polarity', ascending=False).head().iterrows():\n",
    "    print(row['text'])\n",
    "    print()\n",
    "### END ANSWER"
   ]
  },
  {
   "cell_type": "markdown",
   "metadata": {
    "id": "rBTcV47lapP_"
   },
   "source": [
    "### Task 4.7\n",
    "Plot the distribution of tweet sentiments broken down by whether the text of the tweet contains `nyt` or `fox`.  Then in the box below comment on what we observe?\n",
    "\n",
    "![title](images/nyt_vs_fox.png)"
   ]
  },
  {
   "cell_type": "code",
   "execution_count": 41,
   "metadata": {
    "id": "0ktQdImsapP_"
   },
   "outputs": [
    {
     "name": "stderr",
     "output_type": "stream",
     "text": [
      "/koko/system/anaconda/envs/python39/lib/python3.9/site-packages/seaborn/distributions.py:2619: FutureWarning: `distplot` is a deprecated function and will be removed in a future version. Please adapt your code to use either `displot` (a figure-level function with similar flexibility) or `histplot` (an axes-level function for histograms).\n",
      "  warnings.warn(msg, FutureWarning)\n",
      "/koko/system/anaconda/envs/python39/lib/python3.9/site-packages/seaborn/distributions.py:2619: FutureWarning: `distplot` is a deprecated function and will be removed in a future version. Please adapt your code to use either `displot` (a figure-level function with similar flexibility) or `histplot` (an axes-level function for histograms).\n",
      "  warnings.warn(msg, FutureWarning)\n"
     ]
    },
    {
     "data": {
      "image/png": "[encoded data removed]",
      "text/plain": [
       "<Figure size 432x432 with 1 Axes>"
      ]
     },
     "metadata": {},
     "output_type": "display_data"
    }
   ],
   "source": [
    "### BEGIN ANSWER\n",
    "nyt = df_trump[df_trump['no_punc'].str.contains('nyt')]['polarity']\n",
    "fox = df_trump[df_trump['no_punc'].str.contains('fox')]['polarity']\n",
    "ax = sns.distplot(nyt, hist=True, kde=True)\n",
    "ax = sns.distplot(fox, hist=True, kde=True)\n",
    "plt.legend(labels=['nyt', 'fox'])\n",
    "plt.show()\n",
    "### END ANSWER"
   ]
  },
  {
   "cell_type": "markdown",
   "metadata": {
    "id": "-Z4exTkuapP_"
   },
   "source": [
    "##### Comment on what you observe:\n",
    "\n",
    "#### BEGIN ANSWER\n",
    "The tweets on fox is slightly more positive on polarity than nyt. Trump might have a more positive altitude towards fox than nyt.\n",
    "Tweets on nyt is more negative and tweets on fox is more possitive. Trump like fox but dislike nyt.\n",
    "\n",
    "#### END ANSWER"
   ]
  },
  {
   "cell_type": "markdown",
   "metadata": {
    "id": "RnpgkUcpapP_"
   },
   "source": [
    "## PART 5 - Principal Component Analysis (PCA) and Twitter  (group and individual)\n",
    "A look at the top words used and the sentiments expressed in Trump tweets indicates that, some words are used with others almost all the time. A notable example is the slogan like Make America Great Again. As such, it may be beneficial to look at groups of words rather than individual words. For that, we will look at an approach applying a Principal Component Analysis. \n",
    "\n",
    "### The PCA\n",
    "The Principal Component Analysis, or PCA, is a tool generally used to identify patterns and to reduce the number of variables you have to consider in your analysis. For example, if you have data with 200 columns, it may be that a significant amount of the variance in your data can be explained by just 100 principal components. In the PCA, the first component is chosen in such a way that has the largest variance, subsequent components are orthogonal and continue covering as much variance as possible. In this way, the PCA samples as much of the variability in the data set with the first few components. Mathematically, each component is a linear combination of all the input parameters times coefficients specific for that component. These coefficients, or loading factors, are constrained such that the sum of the squares of them are equal to 1. As such, the loading factors serve as weights describing how strongly certain parameters contribute to the specific principal component. Parameters with large values of positive or negative loading factors are correlated with each other, which can serve to identify trends in your data."
   ]
  },
  {
   "cell_type": "markdown",
   "metadata": {
    "id": "o9zY4IQFapP_"
   },
   "source": [
    "### Task 5.1 Cleaning up the Data\n",
    "Using NLTK (Natural Language Toolkit) package for language processing and other python libraries, parse the json file to deal with inflected words, such as plurals, and removed stop words like common English words (the, and, it, etc) and certain political terms (the candidates names, for example). You can start with the top 50 words, but full analysis may require large number of words.\n",
    "Create a document-frequecy (df) matrix with 5000 rows and 50 columns where each column is a particular word (feature) and each row is a tweet (observation). The values of the matrix is how often the word appears. Apply the techniques we learned to reduce the weight of most common words (if necessary). Since this is a sparse matrix, you can use the sparse martix libraries to make things a bit more efficient (we can also use a regular numpy arrays to store these things since the dimensions are not too large). Lecture 6.1 captures some sparse matrix routines you can use.\n",
    "Print the first 10 rows of the df to show the matrix you created\n",
    "\n",
    "Start with the `tidy_format` dataframe"
   ]
  },
  {
   "cell_type": "code",
   "execution_count": 42,
   "metadata": {
    "id": "oiWydwJJapP_"
   },
   "outputs": [
    {
     "name": "stderr",
     "output_type": "stream",
     "text": [
      "[nltk_data] Downloading package stopwords to\n",
      "[nltk_data]     /common/home/xm73/nltk_data...\n",
      "[nltk_data]   Package stopwords is already up-to-date!\n",
      "[nltk_data] Downloading package wordnet to\n",
      "[nltk_data]     /common/home/xm73/nltk_data...\n",
      "[nltk_data]   Package wordnet is already up-to-date!\n"
     ]
    },
    {
     "name": "stdout",
     "output_type": "stream",
     "text": [
      "[[1. 0. 0. 0. 0. 0. 0. 0. 0. 0. 0. 1. 0. 0. 1. 0. 0. 0. 0. 0. 0. 0. 0. 0.\n",
      "  0. 0. 0. 0. 0. 0. 0. 1. 0. 1. 0. 0. 0. 0. 0. 0. 0. 0. 0. 0. 0. 0. 0. 0.\n",
      "  0. 0.]\n",
      " [0. 0. 1. 1. 0. 0. 0. 0. 0. 0. 0. 0. 0. 0. 0. 0. 0. 1. 0. 0. 0. 0. 0. 0.\n",
      "  0. 0. 0. 0. 0. 0. 0. 0. 0. 0. 0. 0. 0. 0. 0. 0. 0. 0. 0. 0. 0. 1. 0. 0.\n",
      "  0. 0.]\n",
      " [0. 0. 0. 0. 0. 0. 0. 0. 0. 1. 0. 0. 0. 0. 0. 0. 0. 0. 0. 0. 0. 0. 0. 0.\n",
      "  0. 0. 0. 0. 0. 0. 0. 0. 0. 0. 0. 0. 0. 1. 0. 0. 0. 0. 0. 0. 0. 0. 0. 0.\n",
      "  0. 0.]\n",
      " [0. 0. 0. 0. 0. 0. 1. 0. 0. 0. 0. 0. 0. 0. 0. 0. 0. 0. 0. 0. 1. 0. 0. 0.\n",
      "  0. 0. 0. 0. 0. 0. 0. 0. 0. 0. 1. 0. 1. 0. 0. 0. 0. 0. 0. 0. 0. 0. 0. 0.\n",
      "  0. 0.]\n",
      " [0. 0. 0. 0. 0. 0. 0. 0. 0. 0. 0. 0. 0. 0. 1. 0. 1. 0. 0. 1. 0. 0. 0. 0.\n",
      "  0. 0. 0. 0. 0. 0. 0. 0. 0. 0. 0. 0. 0. 0. 0. 0. 0. 1. 1. 1. 0. 0. 1. 0.\n",
      "  0. 0.]\n",
      " [0. 0. 0. 0. 0. 0. 0. 0. 0. 0. 0. 0. 0. 0. 0. 0. 0. 0. 0. 0. 0. 0. 0. 0.\n",
      "  0. 0. 0. 0. 1. 0. 0. 0. 0. 0. 0. 0. 1. 0. 0. 0. 0. 1. 0. 0. 0. 0. 0. 0.\n",
      "  0. 0.]\n",
      " [0. 0. 0. 0. 0. 0. 0. 0. 0. 0. 0. 0. 0. 0. 0. 0. 0. 0. 0. 0. 0. 0. 0. 0.\n",
      "  0. 0. 0. 0. 0. 0. 0. 0. 0. 0. 0. 0. 0. 0. 0. 1. 0. 0. 1. 0. 0. 0. 1. 0.\n",
      "  0. 0.]\n",
      " [1. 0. 1. 1. 0. 0. 0. 0. 0. 0. 0. 0. 1. 1. 0. 0. 0. 1. 0. 0. 0. 0. 0. 0.\n",
      "  0. 0. 0. 0. 0. 0. 0. 1. 0. 0. 0. 0. 0. 0. 0. 0. 0. 0. 0. 1. 0. 0. 0. 0.\n",
      "  0. 0.]\n",
      " [0. 0. 0. 0. 0. 0. 0. 0. 0. 0. 0. 0. 0. 0. 0. 0. 0. 0. 0. 1. 0. 0. 0. 0.\n",
      "  0. 0. 0. 0. 0. 0. 1. 0. 0. 0. 0. 0. 1. 0. 0. 0. 0. 0. 0. 0. 0. 0. 0. 0.\n",
      "  0. 0.]\n",
      " [1. 0. 1. 0. 0. 0. 0. 0. 0. 0. 0. 0. 0. 0. 0. 0. 0. 0. 0. 0. 0. 0. 0. 0.\n",
      "  0. 0. 0. 0. 0. 0. 0. 0. 0. 0. 0. 0. 0. 0. 0. 0. 0. 0. 0. 1. 0. 0. 0. 0.\n",
      "  0. 0.]]\n"
     ]
    },
    {
     "data": {
      "text/html": [
       "<div>\n",
       "<style scoped>\n",
       "    .dataframe tbody tr th:only-of-type {\n",
       "        vertical-align: middle;\n",
       "    }\n",
       "\n",
       "    .dataframe tbody tr th {\n",
       "        vertical-align: top;\n",
       "    }\n",
       "\n",
       "    .dataframe thead th {\n",
       "        text-align: right;\n",
       "    }\n",
       "</style>\n",
       "<table border=\"1\" class=\"dataframe\">\n",
       "  <thead>\n",
       "    <tr style=\"text-align: right;\">\n",
       "      <th></th>\n",
       "      <th>index</th>\n",
       "      <th>word</th>\n",
       "    </tr>\n",
       "  </thead>\n",
       "  <tbody>\n",
       "    <tr>\n",
       "      <th>0</th>\n",
       "      <td>great</td>\n",
       "      <td>1742</td>\n",
       "    </tr>\n",
       "    <tr>\n",
       "      <th>1</th>\n",
       "      <td>thank</td>\n",
       "      <td>1014</td>\n",
       "    </tr>\n",
       "    <tr>\n",
       "      <th>2</th>\n",
       "      <td>people</td>\n",
       "      <td>821</td>\n",
       "    </tr>\n",
       "    <tr>\n",
       "      <th>3</th>\n",
       "      <td>america</td>\n",
       "      <td>638</td>\n",
       "    </tr>\n",
       "    <tr>\n",
       "      <th>4</th>\n",
       "      <td>president</td>\n",
       "      <td>595</td>\n",
       "    </tr>\n",
       "    <tr>\n",
       "      <th>5</th>\n",
       "      <td>country</td>\n",
       "      <td>577</td>\n",
       "    </tr>\n",
       "    <tr>\n",
       "      <th>6</th>\n",
       "      <td>job</td>\n",
       "      <td>573</td>\n",
       "    </tr>\n",
       "    <tr>\n",
       "      <th>7</th>\n",
       "      <td>big</td>\n",
       "      <td>538</td>\n",
       "    </tr>\n",
       "    <tr>\n",
       "      <th>8</th>\n",
       "      <td>time</td>\n",
       "      <td>515</td>\n",
       "    </tr>\n",
       "    <tr>\n",
       "      <th>9</th>\n",
       "      <td>make</td>\n",
       "      <td>500</td>\n",
       "    </tr>\n",
       "    <tr>\n",
       "      <th>10</th>\n",
       "      <td>get</td>\n",
       "      <td>499</td>\n",
       "    </tr>\n",
       "    <tr>\n",
       "      <th>11</th>\n",
       "      <td>today</td>\n",
       "      <td>499</td>\n",
       "    </tr>\n",
       "    <tr>\n",
       "      <th>12</th>\n",
       "      <td>new</td>\n",
       "      <td>492</td>\n",
       "    </tr>\n",
       "    <tr>\n",
       "      <th>13</th>\n",
       "      <td>news</td>\n",
       "      <td>470</td>\n",
       "    </tr>\n",
       "    <tr>\n",
       "      <th>14</th>\n",
       "      <td>state</td>\n",
       "      <td>461</td>\n",
       "    </tr>\n",
       "    <tr>\n",
       "      <th>15</th>\n",
       "      <td>many</td>\n",
       "      <td>453</td>\n",
       "    </tr>\n",
       "    <tr>\n",
       "      <th>16</th>\n",
       "      <td>year</td>\n",
       "      <td>447</td>\n",
       "    </tr>\n",
       "    <tr>\n",
       "      <th>17</th>\n",
       "      <td>american</td>\n",
       "      <td>446</td>\n",
       "    </tr>\n",
       "    <tr>\n",
       "      <th>18</th>\n",
       "      <td>vote</td>\n",
       "      <td>422</td>\n",
       "    </tr>\n",
       "    <tr>\n",
       "      <th>19</th>\n",
       "      <td>democrat</td>\n",
       "      <td>394</td>\n",
       "    </tr>\n",
       "    <tr>\n",
       "      <th>20</th>\n",
       "      <td>would</td>\n",
       "      <td>390</td>\n",
       "    </tr>\n",
       "    <tr>\n",
       "      <th>21</th>\n",
       "      <td>want</td>\n",
       "      <td>384</td>\n",
       "    </tr>\n",
       "    <tr>\n",
       "      <th>22</th>\n",
       "      <td>fake</td>\n",
       "      <td>375</td>\n",
       "    </tr>\n",
       "    <tr>\n",
       "      <th>23</th>\n",
       "      <td>tax</td>\n",
       "      <td>363</td>\n",
       "    </tr>\n",
       "    <tr>\n",
       "      <th>24</th>\n",
       "      <td>much</td>\n",
       "      <td>344</td>\n",
       "    </tr>\n",
       "    <tr>\n",
       "      <th>25</th>\n",
       "      <td>never</td>\n",
       "      <td>344</td>\n",
       "    </tr>\n",
       "    <tr>\n",
       "      <th>26</th>\n",
       "      <td>republican</td>\n",
       "      <td>344</td>\n",
       "    </tr>\n",
       "    <tr>\n",
       "      <th>27</th>\n",
       "      <td>medium</td>\n",
       "      <td>340</td>\n",
       "    </tr>\n",
       "    <tr>\n",
       "      <th>28</th>\n",
       "      <td>one</td>\n",
       "      <td>334</td>\n",
       "    </tr>\n",
       "    <tr>\n",
       "      <th>29</th>\n",
       "      <td>crooked</td>\n",
       "      <td>331</td>\n",
       "    </tr>\n",
       "    <tr>\n",
       "      <th>30</th>\n",
       "      <td>border</td>\n",
       "      <td>329</td>\n",
       "    </tr>\n",
       "    <tr>\n",
       "      <th>31</th>\n",
       "      <td>good</td>\n",
       "      <td>325</td>\n",
       "    </tr>\n",
       "    <tr>\n",
       "      <th>32</th>\n",
       "      <td>going</td>\n",
       "      <td>319</td>\n",
       "    </tr>\n",
       "    <tr>\n",
       "      <th>33</th>\n",
       "      <td>day</td>\n",
       "      <td>310</td>\n",
       "    </tr>\n",
       "    <tr>\n",
       "      <th>34</th>\n",
       "      <td>back</td>\n",
       "      <td>309</td>\n",
       "    </tr>\n",
       "    <tr>\n",
       "      <th>35</th>\n",
       "      <td>like</td>\n",
       "      <td>302</td>\n",
       "    </tr>\n",
       "    <tr>\n",
       "      <th>36</th>\n",
       "      <td>must</td>\n",
       "      <td>301</td>\n",
       "    </tr>\n",
       "    <tr>\n",
       "      <th>37</th>\n",
       "      <td>win</td>\n",
       "      <td>300</td>\n",
       "    </tr>\n",
       "    <tr>\n",
       "      <th>38</th>\n",
       "      <td>makeamericagreatagain</td>\n",
       "      <td>292</td>\n",
       "    </tr>\n",
       "    <tr>\n",
       "      <th>39</th>\n",
       "      <td>bad</td>\n",
       "      <td>284</td>\n",
       "    </tr>\n",
       "    <tr>\n",
       "      <th>40</th>\n",
       "      <td>election</td>\n",
       "      <td>271</td>\n",
       "    </tr>\n",
       "    <tr>\n",
       "      <th>41</th>\n",
       "      <td>obama</td>\n",
       "      <td>258</td>\n",
       "    </tr>\n",
       "    <tr>\n",
       "      <th>42</th>\n",
       "      <td>deal</td>\n",
       "      <td>251</td>\n",
       "    </tr>\n",
       "    <tr>\n",
       "      <th>43</th>\n",
       "      <td>even</td>\n",
       "      <td>250</td>\n",
       "    </tr>\n",
       "    <tr>\n",
       "      <th>44</th>\n",
       "      <td>join</td>\n",
       "      <td>245</td>\n",
       "    </tr>\n",
       "    <tr>\n",
       "      <th>45</th>\n",
       "      <td>love</td>\n",
       "      <td>240</td>\n",
       "    </tr>\n",
       "    <tr>\n",
       "      <th>46</th>\n",
       "      <td>trade</td>\n",
       "      <td>237</td>\n",
       "    </tr>\n",
       "    <tr>\n",
       "      <th>47</th>\n",
       "      <td>first</td>\n",
       "      <td>237</td>\n",
       "    </tr>\n",
       "    <tr>\n",
       "      <th>48</th>\n",
       "      <td>campaign</td>\n",
       "      <td>235</td>\n",
       "    </tr>\n",
       "    <tr>\n",
       "      <th>49</th>\n",
       "      <td>poll</td>\n",
       "      <td>232</td>\n",
       "    </tr>\n",
       "  </tbody>\n",
       "</table>\n",
       "</div>"
      ],
      "text/plain": [
       "                    index  word\n",
       "0                   great  1742\n",
       "1                   thank  1014\n",
       "2                  people   821\n",
       "3                 america   638\n",
       "4               president   595\n",
       "5                 country   577\n",
       "6                     job   573\n",
       "7                     big   538\n",
       "8                    time   515\n",
       "9                    make   500\n",
       "10                    get   499\n",
       "11                  today   499\n",
       "12                    new   492\n",
       "13                   news   470\n",
       "14                  state   461\n",
       "15                   many   453\n",
       "16                   year   447\n",
       "17               american   446\n",
       "18                   vote   422\n",
       "19               democrat   394\n",
       "20                  would   390\n",
       "21                   want   384\n",
       "22                   fake   375\n",
       "23                    tax   363\n",
       "24                   much   344\n",
       "25                  never   344\n",
       "26             republican   344\n",
       "27                 medium   340\n",
       "28                    one   334\n",
       "29                crooked   331\n",
       "30                 border   329\n",
       "31                   good   325\n",
       "32                  going   319\n",
       "33                    day   310\n",
       "34                   back   309\n",
       "35                   like   302\n",
       "36                   must   301\n",
       "37                    win   300\n",
       "38  makeamericagreatagain   292\n",
       "39                    bad   284\n",
       "40               election   271\n",
       "41                  obama   258\n",
       "42                   deal   251\n",
       "43                   even   250\n",
       "44                   join   245\n",
       "45                   love   240\n",
       "46                  trade   237\n",
       "47                  first   237\n",
       "48               campaign   235\n",
       "49                   poll   232"
      ]
     },
     "execution_count": 42,
     "metadata": {},
     "output_type": "execute_result"
    }
   ],
   "source": [
    "## code to plot the first 10 rows of the matrix\n",
    "import nltk\n",
    "import nltk.corpus\n",
    "nltk.download('stopwords')\n",
    "nltk.download('wordnet')\n",
    "\n",
    "#create a dataframe called tmp to store all words appear in the tweets\n",
    "tmp = tidy_format.drop('num',axis=1)\n",
    "\n",
    "\n",
    "#remove stopwords\n",
    "stopwords = nltk.corpus.stopwords.words(\"english\")\n",
    "stopwords.extend(['rt','t','co','https','realdonaldtrump','amp',\"u\",'hillary','trump2016','trump','clinton','http','ha','wa'])\n",
    "tmp = tmp[~tmp['word'].isin(stopwords)]\n",
    "\n",
    "#deal with plurals\n",
    "from nltk.stem.wordnet import WordNetLemmatizer\n",
    "Lem = WordNetLemmatizer()\n",
    "def lem(x):\n",
    "    return Lem.lemmatize(x)\n",
    "tmp['word'] = tmp.word.apply(lem)\n",
    "\n",
    "# Remove numbers\n",
    "tmp = tmp[~(tmp['word'].str.isnumeric())]\n",
    "\n",
    "#Remove words with only 1 or 2 length\n",
    "tmp = tmp[(tmp['word'].str.len() > 2)]\n",
    "\n",
    "#get top50 words\n",
    "tmp = tmp.reset_index()\n",
    "top50 = tmp['word'].value_counts(ascending=False).nlargest(50).to_frame()\n",
    "\n",
    "tmp2 = tmp[tmp['word'].isin(top50.reset_index()['index'])]\n",
    "\n",
    "idlist = tmp2['id'].unique()\n",
    "idlist.sort()\n",
    "idlist = idlist[:5000]\n",
    "\n",
    "#create the tf-matrix\n",
    "matrix = np.zeros((5000,50))\n",
    "top50 = top50.reset_index()\n",
    "for a in range(5000):\n",
    "    for b in range(50):\n",
    "        if (top50['index'][b]) in df_trump['no_punc'].loc[idlist[a]]:\n",
    "            matrix[a][b] += 1\n",
    "\n",
    "print(matrix[:10])\n",
    "top50\n"
   ]
  },
  {
   "cell_type": "markdown",
   "metadata": {
    "id": "ArZki_hcapP_"
   },
   "source": [
    "### Task 5.2 Find the PCA's\n",
    "Write the code to find the first 50 PCA's for the document-frequency matrix. Pass the document-term-matrix to scikit-learn’s (https://scikit-learn.org/stable/modules/decomposition.html#decompositions) PCA method to obtain the components and loading factors."
   ]
  },
  {
   "cell_type": "code",
   "execution_count": 43,
   "metadata": {
    "id": "CRABWO6xapP_"
   },
   "outputs": [
    {
     "name": "stdout",
     "output_type": "stream",
     "text": [
      "[[ 5.86202159e-01  1.90323539e-01 -3.13832348e-02 ...  2.72474588e-02\n",
      "  -2.34567806e-02  1.00084346e-02]\n",
      " [ 1.67419684e-01 -4.62442070e-02  2.35474038e-02 ... -2.25009794e-02\n",
      "  -1.93098550e-02  7.01166980e-02]\n",
      " [ 3.27921786e-01 -7.65935661e-01  1.51732490e-01 ... -4.00623419e-02\n",
      "   2.19839319e-02 -3.48735538e-02]\n",
      " ...\n",
      " [ 6.46004476e-03 -6.81464741e-03 -3.11627241e-03 ... -2.47231379e-02\n",
      "   5.92864129e-03 -4.11446462e-03]\n",
      " [-3.59378314e-03 -6.20139865e-03  1.66215292e-03 ...  1.30722320e-02\n",
      "  -9.02984318e-03 -8.82346873e-04]\n",
      " [-6.77223679e-05 -1.12766459e-04  2.93629257e-04 ... -1.03159269e-04\n",
      "   1.94466948e-04  2.61386164e-04]]\n",
      "[1.17843907e-01 5.53401316e-02 5.13012657e-02 5.02862451e-02\n",
      " 4.09507541e-02 3.80763840e-02 3.49866058e-02 3.14276860e-02\n",
      " 2.65980980e-02 2.57400889e-02 2.45731500e-02 2.41845792e-02\n",
      " 2.33171627e-02 2.11963154e-02 1.99408471e-02 1.96404326e-02\n",
      " 1.90111807e-02 1.78039491e-02 1.76970574e-02 1.64636941e-02\n",
      " 1.61297064e-02 1.57383940e-02 1.53884194e-02 1.46465679e-02\n",
      " 1.43356157e-02 1.41498070e-02 1.38657396e-02 1.38297370e-02\n",
      " 1.34080351e-02 1.33203089e-02 1.27749310e-02 1.22960251e-02\n",
      " 1.18340782e-02 1.17389839e-02 1.12466146e-02 1.10997108e-02\n",
      " 1.09361693e-02 1.06793752e-02 9.96381830e-03 9.71862083e-03\n",
      " 9.25529706e-03 9.10810129e-03 8.85962386e-03 8.28355199e-03\n",
      " 8.06336871e-03 6.94262569e-03 5.70413029e-03 5.20430356e-03\n",
      " 5.03016017e-03 6.86446266e-05]\n"
     ]
    }
   ],
   "source": [
    "from sklearn.datasets import load_iris\n",
    "from sklearn.decomposition import PCA, IncrementalPCA\n",
    "### BEGIN ANSWER\n",
    "pca = PCA(n_components=50)\n",
    "pca.fit(matrix)\n",
    "print(pca.components_)\n",
    "print(pca.explained_variance_ratio_)\n",
    "### END ANSWER"
   ]
  },
  {
   "cell_type": "markdown",
   "metadata": {
    "id": "UCjL4BbYapQA"
   },
   "source": [
    "### Task 5.3 Examine the PCA\n",
    "We can examine the PCA results to look at the heatmap. Make a grid plot which shows the various principal component along the x-axis and the individual words along the y-axes. Each grid box should be color-coded based on the sign of the loading factor and how large the square of that value is. Looking at it vertically, you can see which words constitute your principal components. Looking at it horizontally, you can see how individual terms are shared between components. \n",
    "\n",
    "![title](images/pca.png)\n",
    "\n"
   ]
  },
  {
   "cell_type": "code",
   "execution_count": 44,
   "metadata": {
    "id": "FeF4AKiPapQA"
   },
   "outputs": [
    {
     "data": {
      "text/plain": [
       "<AxesSubplot:>"
      ]
     },
     "execution_count": 44,
     "metadata": {},
     "output_type": "execute_result"
    },
    {
     "data": {
      "image/png": "[encoded data removed]",
      "text/plain": [
       "<Figure size 1296x1008 with 2 Axes>"
      ]
     },
     "metadata": {},
     "output_type": "display_data"
    }
   ],
   "source": [
    "cmap = sns.diverging_palette(100, 400,as_cmap=True)\n",
    "### BEGIN ANSWER\n",
    "plt.rcParams['figure.figsize'] = (18, 14)\n",
    "xticklabels=[]\n",
    "for i in range(1,51):\n",
    "    xticklabels.append('PC'+str(i))\n",
    "sns.heatmap(data=pca.components_, cmap=cmap, yticklabels=top50['index'], xticklabels=xticklabels)\n",
    "### END ANSWER"
   ]
  },
  {
   "cell_type": "markdown",
   "metadata": {
    "id": "BASs-3ERapQA"
   },
   "source": [
    "### Task 5.4 PCA Compare\n",
    "We can determine how many words and how many components are needed to do a good visualization. Plot PC1 and PC2 in a 2D plot. The results should be similar to following scatter plot \n",
    "\n",
    "![title](images/PC1_PC2.png)\n",
    "\n",
    "This is a scatter plot of the values of the components, but with arrows indicating some of the prominent terms as indicated by their loading factors. The values of the loading factors are used to determine the length and direction of these arrows and as such they serve as a way of expressing direction. That is, tweets which use these terms will be moved along the length of those arrows. Shown are the most important parameters."
   ]
  },
  {
   "cell_type": "code",
   "execution_count": 45,
   "metadata": {
    "id": "Kw7mi75wapQA"
   },
   "outputs": [
    {
     "name": "stderr",
     "output_type": "stream",
     "text": [
      "/koko/system/anaconda/envs/python39/lib/python3.9/site-packages/seaborn/_decorators.py:36: FutureWarning: Pass the following variables as keyword args: x, y. From version 0.12, the only valid positional argument will be `data`, and passing other arguments without an explicit keyword will result in an error or misinterpretation.\n",
      "  warnings.warn(\n"
     ]
    },
    {
     "data": {
      "text/plain": [
       "<seaborn.axisgrid.JointGrid at 0x7f68b424de80>"
      ]
     },
     "execution_count": 45,
     "metadata": {},
     "output_type": "execute_result"
    },
    {
     "data": {
      "image/png": "[encoded data removed]",
      "text/plain": [
       "<Figure size 432x432 with 3 Axes>"
      ]
     },
     "metadata": {},
     "output_type": "display_data"
    }
   ],
   "source": [
    "### BEGIN ANSWER\n",
    "plt.rcParams['figure.figsize'] = (6, 6)\n",
    "# ax = sns.JointGrid(x=pca.components_[0], y=pca.components_[1])\n",
    "# ax.plot(sns.scatterplot, sns.histplot)\n",
    "h = sns.jointplot(pca.components_[0], pca.components_[1])\n",
    "h.set_axis_labels('PC1', 'PC2')\n",
    "### END ANSWER"
   ]
  },
  {
   "cell_type": "markdown",
   "metadata": {
    "id": "n2-oIKbeapQA"
   },
   "source": [
    "## PART 6 - Twitter Engagement\n",
    "\n",
    "In this problem, we'll explore which words led to a greater average number of retweets. For example, at the time of this writing, Donald Trump has two tweets that contain the word 'oakland' (tweets 932570628451954688 and 1016609920031117312) with 36757 and 10286 retweets respectively, for an average of 23,521.5.\n",
    "\n",
    "\n",
    "Your `top_20` table should have this format:\n",
    "\n",
    "<table border=\"1\" class=\"dataframe\">\n",
    "  <thead>\n",
    "    <tr style=\"text-align: right;\">\n",
    "      <th></th>\n",
    "      <th>retweet_count</th>\n",
    "    </tr>\n",
    "    <tr>\n",
    "      <th>word</th>\n",
    "      <th></th>\n",
    "    </tr>\n",
    "  </thead>\n",
    "  <tbody>\n",
    "    <tr>\n",
    "      <th>jong</th>\n",
    "      <td>40675.666667</td>\n",
    "    </tr>\n",
    "    <tr>\n",
    "      <th>try</th>\n",
    "      <td>33937.800000</td>\n",
    "    </tr>\n",
    "    <tr>\n",
    "      <th>kim</th>\n",
    "      <td>32849.595745</td>\n",
    "    </tr>\n",
    "    <tr>\n",
    "      <th>un</th>\n",
    "      <td>32741.731707</td>\n",
    "    </tr>\n",
    "    <tr>\n",
    "      <th>maybe</th>\n",
    "      <td>30473.192308</td>\n",
    "    </tr>\n",
    "  </tbody>\n",
    "</table>"
   ]
  },
  {
   "cell_type": "markdown",
   "metadata": {
    "id": "3MzFQJDUapQA"
   },
   "source": [
    "### Task 6.1\n",
    "Find the top 20 most retweeted words. Include only words that appear in at least 25 tweets. As usual, try to do this without any for loops. You can string together ~5-7 pandas commands and get everything done on one line."
   ]
  },
  {
   "cell_type": "code",
   "execution_count": 46,
   "metadata": {
    "id": "LIiOKJjuapQA"
   },
   "outputs": [
    {
     "data": {
      "text/html": [
       "<div>\n",
       "<style scoped>\n",
       "    .dataframe tbody tr th:only-of-type {\n",
       "        vertical-align: middle;\n",
       "    }\n",
       "\n",
       "    .dataframe tbody tr th {\n",
       "        vertical-align: top;\n",
       "    }\n",
       "\n",
       "    .dataframe thead th {\n",
       "        text-align: right;\n",
       "    }\n",
       "</style>\n",
       "<table border=\"1\" class=\"dataframe\">\n",
       "  <thead>\n",
       "    <tr style=\"text-align: right;\">\n",
       "      <th></th>\n",
       "      <th>retweet_count</th>\n",
       "    </tr>\n",
       "    <tr>\n",
       "      <th>word</th>\n",
       "      <th></th>\n",
       "    </tr>\n",
       "  </thead>\n",
       "  <tbody>\n",
       "    <tr>\n",
       "      <th>jong</th>\n",
       "      <td>40874.071429</td>\n",
       "    </tr>\n",
       "    <tr>\n",
       "      <th>kim</th>\n",
       "      <td>32706.818182</td>\n",
       "    </tr>\n",
       "    <tr>\n",
       "      <th>maybe</th>\n",
       "      <td>30254.640000</td>\n",
       "    </tr>\n",
       "    <tr>\n",
       "      <th>kavanaugh</th>\n",
       "      <td>28651.962963</td>\n",
       "    </tr>\n",
       "    <tr>\n",
       "      <th>try</th>\n",
       "      <td>28150.125000</td>\n",
       "    </tr>\n",
       "    <tr>\n",
       "      <th>old</th>\n",
       "      <td>27613.151515</td>\n",
       "    </tr>\n",
       "    <tr>\n",
       "      <th>mccabe</th>\n",
       "      <td>27119.560000</td>\n",
       "    </tr>\n",
       "    <tr>\n",
       "      <th>illegally</th>\n",
       "      <td>26787.096774</td>\n",
       "    </tr>\n",
       "    <tr>\n",
       "      <th>lowest</th>\n",
       "      <td>26374.333333</td>\n",
       "    </tr>\n",
       "    <tr>\n",
       "      <th>flag</th>\n",
       "      <td>26258.200000</td>\n",
       "    </tr>\n",
       "    <tr>\n",
       "      <th>nfl</th>\n",
       "      <td>25967.939394</td>\n",
       "    </tr>\n",
       "    <tr>\n",
       "      <th>player</th>\n",
       "      <td>25852.764706</td>\n",
       "    </tr>\n",
       "    <tr>\n",
       "      <th>nuclear</th>\n",
       "      <td>25488.418605</td>\n",
       "    </tr>\n",
       "    <tr>\n",
       "      <th>enemy</th>\n",
       "      <td>25212.187500</td>\n",
       "    </tr>\n",
       "    <tr>\n",
       "      <th>obstruction</th>\n",
       "      <td>25027.571429</td>\n",
       "    </tr>\n",
       "    <tr>\n",
       "      <th>ban</th>\n",
       "      <td>25008.680000</td>\n",
       "    </tr>\n",
       "    <tr>\n",
       "      <th>fbi</th>\n",
       "      <td>24729.794286</td>\n",
       "    </tr>\n",
       "    <tr>\n",
       "      <th>longer</th>\n",
       "      <td>24666.830189</td>\n",
       "    </tr>\n",
       "    <tr>\n",
       "      <th>bless</th>\n",
       "      <td>24593.653846</td>\n",
       "    </tr>\n",
       "    <tr>\n",
       "      <th>strzok</th>\n",
       "      <td>24334.628571</td>\n",
       "    </tr>\n",
       "  </tbody>\n",
       "</table>\n",
       "</div>"
      ],
      "text/plain": [
       "             retweet_count\n",
       "word                      \n",
       "jong          40874.071429\n",
       "kim           32706.818182\n",
       "maybe         30254.640000\n",
       "kavanaugh     28651.962963\n",
       "try           28150.125000\n",
       "old           27613.151515\n",
       "mccabe        27119.560000\n",
       "illegally     26787.096774\n",
       "lowest        26374.333333\n",
       "flag          26258.200000\n",
       "nfl           25967.939394\n",
       "player        25852.764706\n",
       "nuclear       25488.418605\n",
       "enemy         25212.187500\n",
       "obstruction   25027.571429\n",
       "ban           25008.680000\n",
       "fbi           24729.794286\n",
       "longer        24666.830189\n",
       "bless         24593.653846\n",
       "strzok        24334.628571"
      ]
     },
     "execution_count": 46,
     "metadata": {},
     "output_type": "execute_result"
    }
   ],
   "source": [
    "### BEGIN ANSWER\n",
    "temp = tmp.value_counts().to_frame().reset_index()\n",
    "top_20 = pd.DataFrame({'word': temp['word'].drop_duplicates(), 'retweet_count': 0, 'tweet_count': 0}).set_index('word')\n",
    "for index, row in temp.iterrows():\n",
    "    top_20.loc[row['word']]['retweet_count'] += df_trump.loc[row['id']]['retweet_count']\n",
    "    top_20.loc[row['word']]['tweet_count'] += 1\n",
    "top_20 = top_20[top_20['tweet_count'] >= 25].apply(lambda x: x['retweet_count']/x['tweet_count'], axis=1).to_frame(name='retweet_count').sort_values(by='retweet_count',ascending=False).head(20)\n",
    "top_20\n",
    "### END ANSWER"
   ]
  },
  {
   "cell_type": "markdown",
   "metadata": {
    "id": "5lSh8NdyapQA"
   },
   "source": [
    "### Task 6.2\n",
    "Plot a bar chart of your results:"
   ]
  },
  {
   "cell_type": "code",
   "execution_count": 47,
   "metadata": {
    "id": "CPahzHsVapQA"
   },
   "outputs": [
    {
     "data": {
      "text/plain": [
       "<AxesSubplot:ylabel='word'>"
      ]
     },
     "execution_count": 47,
     "metadata": {},
     "output_type": "execute_result"
    },
    {
     "data": {
      "image/png": "[encoded data removed]",
      "text/plain": [
       "<Figure size 432x432 with 1 Axes>"
      ]
     },
     "metadata": {},
     "output_type": "display_data"
    }
   ],
   "source": [
    "### BEGIN ANSWER\n",
    "# sns.barplot(data=top_20, x='retweet_count', y=top_20.index)\n",
    "top_20 = top_20.sort_values(by='retweet_count', ascending = True)\n",
    "top_20.plot.barh()\n",
    "### END ANSWER"
   ]
  },
  {
   "cell_type": "markdown",
   "metadata": {
    "id": "3CzsT89dapQA"
   },
   "source": [
    "## PART 7 - Kim Jong Un and Musk Tweet Analysis (Optional for Individual)\n",
    "What else can we do? Let us ask some open ended questions."
   ]
  },
  {
   "cell_type": "markdown",
   "metadata": {
    "id": "00lj_c39apQA"
   },
   "source": [
    "### Task 7.1\n",
    "\"kim\", \"jong\" and \"un\" are apparently really popular in Trump's tweets! It seems like we can conclude that his tweets involving jong are more popular than his other tweets. Or can we?\n",
    "\n",
    "Consider each of the statements about possible confounding factors below. State whether each statement is true or false and explain. If the statement is true, state whether the confounding factor could have made kim jong un related tweets higher in the list than they should be.\n",
    "\n",
    "1. We didn't restrict our word list to nouns, so we have unhelpful words like \"let\" and \"any\" in our result.\n",
    "      - That might be why 'un' is the most popular.\n",
    "1. We didn't remove hashtags in our text, so we have duplicate words (eg. #great and great).\n",
    "      - Some may only have '#great' not 'great' which make the average lower\n",
    "1. We didn't account for the fact that Trump's follower count has increased over time.\n",
    "      - This can affect a lot. As Trump's follower count has increased, the more popular every word be"
   ]
  },
  {
   "cell_type": "code",
   "execution_count": 48,
   "metadata": {
    "id": "dShu7ypuapQB"
   },
   "outputs": [],
   "source": [
    "#plt.figure(figsize=(20,20))\n",
    "\n",
    "### BEGIN ANSWER\n",
    "   \n",
    "# your solution here\n",
    "\n",
    "### END ANSWER"
   ]
  },
  {
   "cell_type": "markdown",
   "metadata": {
    "id": "b6SBTwpsapQB"
   },
   "source": [
    "### Task 7.2\n",
    "Using the `df_trump` tweets construct an interesting plot describing a property of the data and discuss what you found below.\n",
    "\n",
    "**Ideas:**\n",
    "\n",
    "1. How has the sentiment changed with length of the tweets?\n",
    "1. Does sentiment affect retweet count?\n",
    "1. Are retweets more negative than regular tweets?\n",
    "1. Are there any spikes in the number of retweets and do the correspond to world events? \n",
    "1. What terms have an especially positive or negative sentiment?\n",
    "\n",
    "You can look at other data sources and even tweets. Do some plots and discuss. You can add more cells here as needed.\n"
   ]
  },
  {
   "cell_type": "code",
   "execution_count": 49,
   "metadata": {
    "id": "qqshSSqVapQB"
   },
   "outputs": [],
   "source": [
    "### BEGIN ANSWER\n",
    "   \n",
    "# your solution here\n",
    "\n",
    "### END ANSWER"
   ]
  },
  {
   "cell_type": "markdown",
   "metadata": {
    "id": "Cs8GlQj2apQB"
   },
   "source": [
    "#### BEGIN ANSWER\n",
    "Discussion: \"Enter question you tried answering\"\n",
    "\n",
    "Answer:\n",
    "#### END ANSWER"
   ]
  },
  {
   "cell_type": "markdown",
   "metadata": {
    "id": "mdfBoczTapQB"
   },
   "source": [
    "### Task 7.3 - Elon Musk and Twitter\n",
    "Elon Musk purchased Twitter in October 2022. In November, 2022, he laid off over 50% of the employees. In this task, extract the tweets from 2022 (where the conversation about twitter purchase began."
   ]
  },
  {
   "cell_type": "code",
   "execution_count": 50,
   "metadata": {},
   "outputs": [],
   "source": [
    "### BEGIN ANSWER\n",
    "   \n",
    "# your solution here\n",
    "\n",
    "### END ANSWER"
   ]
  },
  {
   "cell_type": "markdown",
   "metadata": {},
   "source": [
    "### Task 7.4 - Elon Musk and PCA\n",
    "Using a heatmap similar to Task 5.3, find the most dominant principal components of his tweets. "
   ]
  },
  {
   "cell_type": "code",
   "execution_count": 51,
   "metadata": {},
   "outputs": [],
   "source": [
    "### BEGIN ANSWER\n",
    "   \n",
    "# your solution here\n",
    "\n",
    "### END ANSWER"
   ]
  },
  {
   "cell_type": "markdown",
   "metadata": {},
   "source": [
    "### Task 7.5 - Elon Musk Twitter Analysis\n",
    "Do a thorough analysis of how Elon Musk tweets emphasized why he want to buy twitter. This is an open ended question and be as detailed as possible."
   ]
  },
  {
   "cell_type": "markdown",
   "metadata": {},
   "source": [
    "### BEGIN ANSWER\n",
    "   \n",
    "# your analysis here\n",
    "\n",
    "### END ANSWER"
   ]
  },
  {
   "cell_type": "markdown",
   "metadata": {
    "id": "WHDvFI8bapQB"
   },
   "source": [
    "<div class=\"alert alert-block alert-info\">\n",
    "<h2>Submission Instructions</h2> \n",
    "<b> File Name:</b> Please name the file as yourSection_yourNetID_midsemester.jpynb<br>\n",
    "<b> Group Projects:</b> Each person in the group must submit a copy with both names listed and your partners contribution answered. If you are doing a group project, you must inform your TA prior to 11/10/22 that you intend to work as a group and submit your name and your partner name via the form. We will <b>not accept group work</b> if your TA has not been notified.<br>\n",
    "<b> Submit To: </b> Codebench (remove all output. Do not submit data files<br>\n",
    "<b>Warning:</b> Failure to follow directions may result in loss points.<br>\n",
    "</div>"
   ]
  },
  {
   "cell_type": "markdown",
   "metadata": {
    "id": "gjF3QW2tapQB"
   },
   "source": [
    "Created by Andy Guna @2019-2022 Credits: Josh Hug, and Berkeley Data Science Group, Steve Skiena, David Rodreguez"
   ]
  },
  {
   "cell_type": "markdown",
   "metadata": {},
   "source": [
    "@ Copyrighted Material. DO NOT post online."
   ]
  }
 ],
 "metadata": {
  "colab": {
   "name": "MidSemester Project - F21.ipynb",
   "provenance": []
  },
  "kernelspec": {
   "display_name": "Python 3",
   "language": "python",
   "name": "python3"
  },
  "language_info": {
   "codemirror_mode": {
    "name": "ipython",
    "version": 3
   },
   "file_extension": ".py",
   "mimetype": "text/x-python",
   "name": "python",
   "nbconvert_exporter": "python",
   "pygments_lexer": "ipython3",
   "version": "3.9.5"
  }
 },
 "nbformat": 4,
 "nbformat_minor": 4
}
