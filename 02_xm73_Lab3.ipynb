{
 "cells": [
  {
   "cell_type": "markdown",
   "metadata": {},
   "source": [
    "Before you turn this problem in, make sure everything runs as expected. First, **restart the kernel** (in the menubar, select Kernel$\\rightarrow$Restart) and then **run all cells** (in the menubar, select Cell$\\rightarrow$Run All).\n",
    "\n",
    "Make sure you fill in any place that says `YOUR CODE HERE` or \"YOUR ANSWER HERE\", as well as your name and collaborators below:"
   ]
  },
  {
   "cell_type": "code",
   "execution_count": null,
   "metadata": {},
   "outputs": [],
   "source": [
    "NAME = \"Xinyu Meng\"\n",
    "COLLABORATORS = \"\""
   ]
  },
  {
   "cell_type": "markdown",
   "metadata": {},
   "source": [
    "---"
   ]
  },
  {
   "cell_type": "markdown",
   "metadata": {},
   "source": [
    "<div class=\"alert alert-block alert-info\">\n",
    "<h3>Student Information</h3> Please provide information about yourself. We will NOT grade this submissing w/o all the information<br>\n",
    "<b>Name</b>:Xinyu<br>\n",
    "<b>NetID</b>:xm73<br>\n",
    "<b>Recitation (01,02)</b>:02<br>\n",
    "<b>Notes to Grader</b> (optional):<br>\n",
    "<br><br>\n",
    "<b>IMPORTANT</b>\n",
    "Your work will not be graded withour your initials below<br>\n",
    "I certify that this lab represents my own work and I have read the RU academic intergrity policies at<br>\n",
    "<a href=\"https://www.cs.rutgers.edu/academic-integrity/introduction\">https://www.cs.rutgers.edu/academic-integrity/introduction </a><br>\n",
    "<b>Initials</b>:X.M      \n",
    "\n",
    "\n",
    "<h3>Grader Notes</h3>\n",
    "<b>Your Grade<b>:<br>\n",
    "<b>Grader Initials</b>:<br>\n",
    "<b>Grader Comments</b> (optional):<br>\n",
    "</div>"
   ]
  },
  {
   "cell_type": "markdown",
   "metadata": {
    "deletable": false,
    "editable": false,
    "nbgrader": {
     "cell_type": "markdown",
     "checksum": "288e4e4807f8c2cfb48040d9a7a058d4",
     "grade": false,
     "grade_id": "intro",
     "locked": true,
     "schema_version": 3,
     "solution": false
    }
   },
   "source": [
    "## CS 439 - Introduction to Data Science\n",
    "### Fall 2022\n",
    "\n",
    "# Lab 3: Exploratary Data Analysis\n",
    "\n",
    "### Due Date: Sunday October 23, 2022 by 11:59 PM ###\n",
    "#### 60 points ####\n",
    "\n",
    "### Instructions\n",
    "This lab is presented as a notebook. Please execute the cells that are already completed and your task is to fill in the code\n",
    "between ### START SOLUTION ### and ### END_OF SOLUTION ###. \n",
    "\n",
    "#### Important: Please do not add any new cells or change the order of cells. If you have questions, please contact the courseS staff.\n",
    "\n",
    "In this lab, you will be working with a dataset from NYPD containing data on calls to the New York Police Department. Information about the datasets can be found at https://opendata.cityofnewyork.us/"
   ]
  },
  {
   "cell_type": "markdown",
   "metadata": {
    "deletable": false,
    "editable": false,
    "nbgrader": {
     "cell_type": "markdown",
     "checksum": "6cdf46556b79f738e0fd959c0c6a9b82",
     "grade": false,
     "grade_id": "setup",
     "locked": true,
     "schema_version": 3,
     "solution": false
    }
   },
   "source": [
    "## Setup\n",
    "\n",
    "Note that after activating matplotlib to display figures inline via the IPython magic `%matplotlib inline`, we configure a custom default figure size. Virtually every default aspect of matplotlib [can be customized](https://matplotlib.org/users/customizing.html)."
   ]
  },
  {
   "cell_type": "code",
   "execution_count": null,
   "metadata": {
    "deletable": false,
    "editable": false,
    "nbgrader": {
     "cell_type": "code",
     "checksum": "b9433ca247b62abb396a90a1e1bb6ff3",
     "grade": false,
     "grade_id": "imports",
     "locked": true,
     "schema_version": 3,
     "solution": false
    }
   },
   "outputs": [],
   "source": [
    "import pandas as pd\n",
    "import numpy as np\n",
    "import zipfile\n",
    "import matplotlib.pyplot as plt\n",
    "import seaborn as sns\n",
    "\n",
    "%matplotlib inline\n",
    "plt.rcParams['figure.figsize'] = (12, 9)"
   ]
  },
  {
   "cell_type": "markdown",
   "metadata": {
    "deletable": false,
    "editable": false,
    "nbgrader": {
     "cell_type": "markdown",
     "checksum": "f155622744aa685dcf2ed27c79fff02a",
     "grade": false,
     "grade_id": "part1",
     "locked": true,
     "schema_version": 3,
     "solution": false
    }
   },
   "source": [
    "# Part 1 : Getting Data (15 pts)\n",
    "\n",
    "We will work with the NYPD Historic complaint data set. Our first task is to estimate the size of this download by looking at the number of rows, columns and using an estimated size for a column (use a reasonable value). The site metadata is available from the page\n",
    "https://data.cityofnewyork.us/Public-Safety/NYPD-Complaint-Data-Historic/qgea-i56i"
   ]
  },
  {
   "cell_type": "code",
   "execution_count": null,
   "metadata": {},
   "outputs": [],
   "source": [
    "### START SOLUTION\n",
    "#estimated size of the download (based on metadata information from the site) = 1824.39 mb\n",
    "# please explain how you reached the answer\n",
    "#We assume the numbers are int32 each takes 4 bytes and each text takes 10 bytes, datetime takes 8 bytes, the location are variables\n",
    "#we assume it to be 8 byte each.\n",
    "#There are 7.83m rows, each row has 10 int, 21 text, 3 datetime and 1 location so 7.83*(4*10+10*21+8*3+8*1) = 2160.25mb\n",
    "### END_OF SOLUTION"
   ]
  },
  {
   "cell_type": "markdown",
   "metadata": {},
   "source": [
    "### 1.1 Download the data\n",
    "This file is large (use the estimate you did above). If it takes too long to download, you may want to interrupt and download the file using a browser and URL https://data.cityofnewyork.us/Public-Safety/NYPD-Complaint-Data-Historic/qgea-i56i"
   ]
  },
  {
   "cell_type": "code",
   "execution_count": null,
   "metadata": {
    "deletable": false,
    "nbgrader": {
     "cell_type": "code",
     "checksum": "c52e6fdd90a6a097515bf3715273b2fa",
     "grade": false,
     "grade_id": "download-data",
     "locked": false,
     "schema_version": 3,
     "solution": false
    },
    "tags": []
   },
   "outputs": [],
   "source": [
    "import utils\n",
    "data_dir = 'data'\n",
    "data_url = 'https://data.cityofnewyork.us/Public-Safety/NYPD-Complaint-Data-Historic/qgea-i56i'\n",
    "\n",
    "file_name = 'NYPD_Complaint_Data_Historic.csv'\n",
    "\n",
    "# To retrieve the dataset, we will use the `utils.fetch_and_cache` utility from utils library. \n",
    "dest_path = utils.fetch_and_cache(data_url, file_name, data_dir)\n",
    "print(f'Located at {dest_path}')"
   ]
  },
  {
   "cell_type": "markdown",
   "metadata": {},
   "source": [
    "### 1.2 Inspect the size of the file\n",
    "It is helpful to get an idea of the size of the file. This can be done using functions in the utils library."
   ]
  },
  {
   "cell_type": "code",
   "execution_count": null,
   "metadata": {
    "deletable": false,
    "nbgrader": {
     "cell_type": "code",
     "checksum": "b6301bea810a7a84af13593803de982a",
     "grade": false,
     "grade_id": "q0",
     "locked": false,
     "schema_version": 3,
     "solution": false
    },
    "tags": []
   },
   "outputs": [],
   "source": [
    "# look at the size of the file w/o opening it using OS (https://docs.python.org/3/library/os.html). You can perform\n",
    "# variety of operating system related functions from this package.\n",
    "import os\n",
    "### START SOLUTION\n",
    "size = os.path.getsize('data/NYPD_Complaint_Data_Historic.csv')\n",
    "print(size)\n",
    "### END_OF SOLUTION"
   ]
  },
  {
   "cell_type": "markdown",
   "metadata": {},
   "source": [
    "### 1.3 Split the large file\n",
    "This data file NYPD_Complaint_Data_Historic.csv is too big to load into a single DataFrame. Let us split the large file into smaller files.  Let us find out the number of lines in the NYPD_Complaint_Data_Historic.csv file using utils."
   ]
  },
  {
   "cell_type": "code",
   "execution_count": null,
   "metadata": {},
   "outputs": [],
   "source": [
    "# Using utils library, find the number of lines in the file\n",
    "\n",
    "### START SOLUTION\n",
    "number_of_lines = utils.line_count('data/NYPD_Complaint_Data_Historic.csv')\n",
    "print(number_of_lines)\n",
    "### END_OF SOLUTION"
   ]
  },
  {
   "cell_type": "code",
   "execution_count": null,
   "metadata": {},
   "outputs": [],
   "source": [
    "# Split the file into 10 smaller files. Estimate the number of lines in each file using the count above\n",
    "# files should be created in the data folder and named NYPD_Complaint_Data_Historic_1.csv, \n",
    "# NYPD_Complaint_Data_Historic_2.csv, ... NYPD_Complaint_Data_Historic_10.csv etc\n",
    "# It is possible that few lines from the original file may not be saved due to rounding errors.\n",
    "\n",
    "### START SOLUTION\n",
    "\n",
    "source_path = \"data/NYPD_Complaint_Data_Historic.csv\"\n",
    "for i,chunk in enumerate(pd.read_csv(source_path, chunksize=177315), 1):\n",
    "    chunk.to_csv('data/NYPD_Complaint_Data_Historic_{}.csv'.format(i), index=False)\n",
    "    print(utils.line_count('data/NYPD_Complaint_Data_Historic_{}.csv'.format(i)))\n",
    "\n",
    "### END_OF SOLUTION"
   ]
  },
  {
   "cell_type": "markdown",
   "metadata": {},
   "source": [
    "### 1.4 Check the files in the data folder\n",
    "Now, we'll use a method of the `Pathlib.Path` class called `glob` to list all files in the `data` directory. You will find useful information in pathlib [docs](https://docs.python.org/3/library/pathlib.html).\n",
    "\n",
    "Below, we use pathlib's `glob` method to store the list of all files' names from the `data_dir` directory in the variable `file_names`. These names should be strings that contain only the file name (e.g. `dummy.txt` not `data/dummy.txt`). The asterisk (*) character is used with the `glob` method to match any string."
   ]
  },
  {
   "cell_type": "code",
   "execution_count": null,
   "metadata": {},
   "outputs": [],
   "source": [
    "from pathlib import Path\n",
    "data_dir_path = Path('data') # creates a Path object that points to the data directory\n",
    "file_names = [x.name for x in data_dir_path.glob('*') if x.is_file()]\n",
    "file_names"
   ]
  },
  {
   "cell_type": "markdown",
   "metadata": {},
   "source": [
    "### 1.5 Pre-processing of data\n",
    "It is good to pre-process the data to see if the file can be opened in a Jupyter notebook. We need to avoid large files that can crash notebooks. Typically, files of size around 200 MB is ok to open into a DataFrame. In the following activities we will inspect the file w/o opening it as a DataFrame. Using utils.head "
   ]
  },
  {
   "cell_type": "code",
   "execution_count": null,
   "metadata": {},
   "outputs": [],
   "source": [
    "# Use the util.head() to read up to 5 lines from the original file (w/o opening it)\n",
    "from utils import head\n",
    "head('data/NYPD_Complaint_Data_Historic.csv')\n",
    "allDF = pd.read_csv(\"data/NYPD_Complaint_Data_Historic.csv\")"
   ]
  },
  {
   "cell_type": "markdown",
   "metadata": {},
   "source": [
    "### 1.6 Inspecting and describing data columns\n",
    "There should be 35 columns in each record. Using header information and data types, describe the type of data in each\n",
    "column. If you are unable to determine, just state so.\n",
    "##### START SOLUTION\n",
    "* CMPLNT_NUM : int64\n",
    "* CMPLNT_FR_DT: object\n",
    "* CMPLNT_FR_TM: object \n",
    "* CMPLNT_TO_DT: object\n",
    "* CMPLNT_TO_TM: object\n",
    "* ADDR_PCT_CD: float64\n",
    "* RPT_DT: object\n",
    "* KY_CD: int64\n",
    "* OFNS_DESC: object\n",
    "* PD_CD: float64\n",
    "* PD_DESC: object\n",
    "* CRM_ATPT_CPTD_CD: object\n",
    "* LAW_CAT_CD: object\n",
    "* BORO_NM: object\n",
    "* LOC_OF_OCCUR_DESC: object\n",
    "* PREM_TYP_DESC: object\n",
    "* JURIS_DESC: object\n",
    "* JURISDICTION_CODE: float64\n",
    "* PARKS_NM: object\n",
    "* HADEVELOPT: object\n",
    "* HOUSING_PSA: object\n",
    "* X_COORD_CD: float64\n",
    "* Y_COORD_CD: float64\n",
    "* SUSP_AGE_GROUP: object\n",
    "* SUSP_RACE: object\n",
    "* SUSP_SEX: object\n",
    "* TRANSIT_DISTRICT: float64\n",
    "* Latitude: float64\n",
    "* Longitude: float64\n",
    "* Lat_Lon: object\n",
    "* PATROL_BORO: object\n",
    "* STATION_NAME: object\n",
    "* VIC_AGE_GROUP: object\n",
    "* VIC_RACE: object\n",
    "* VIC_SEX: object\n",
    "##### END_OF SOLUTION"
   ]
  },
  {
   "cell_type": "markdown",
   "metadata": {
    "deletable": false,
    "editable": false,
    "nbgrader": {
     "cell_type": "markdown",
     "checksum": "ba3eceb72620291b92d0de685519024e",
     "grade": false,
     "grade_id": "explore-0",
     "locked": true,
     "schema_version": 3,
     "solution": false
    }
   },
   "source": [
    "# Part 2 - Exploratory Data Analysis  (20 points)\n",
    "Exploratory data analysis (EDA) is the process of examining a subest of a large data set to see what we can know about the data. First we will explore one file NYPD_Complaint_Data_Historic_1.csv to see what we can find out.\n",
    "\n",
    "### 2.1 Time to load data into a DataFrame\n",
    "Load the first CSV file, NYPD_Complaint_Data_Historic_1.csv into a `pandas.DataFrame` object. Also do a time analysis to see how long it took to load the data into a DataFrame. Time should be printed in seconds. The time libraries https://docs.python.org/3/library/time.html can help."
   ]
  },
  {
   "cell_type": "code",
   "execution_count": null,
   "metadata": {
    "deletable": false,
    "editable": true,
    "nbgrader": {
     "cell_type": "code",
     "checksum": "dcbcbfd8efd7d0413c4ceb2d59292cc0",
     "grade": false,
     "grade_id": "explore-1",
     "locked": false,
     "schema_version": 3,
     "solution": false
    },
    "tags": []
   },
   "outputs": [],
   "source": [
    "### START SOLUTION\n",
    "import pandas as pd\n",
    "from time import perf_counter\n",
    "start = perf_counter()\n",
    "calls = pd.read_csv(\"data/NYPD_Complaint_Data_Historic_USE_THIS.csv\")\n",
    "print(f\"{perf_counter()-start:0.2f} s elapsed\")\n",
    "### END_OF SOLUTION"
   ]
  },
  {
   "cell_type": "markdown",
   "metadata": {
    "deletable": false,
    "editable": false,
    "nbgrader": {
     "cell_type": "markdown",
     "checksum": "2900cdc99d9fb2ed07a0f535c55f2dce",
     "grade": false,
     "grade_id": "explore-2",
     "locked": true,
     "schema_version": 3,
     "solution": false
    }
   },
   "source": [
    "### 2.2 Description of Fields\n",
    "Let's also check some basic information about these files using the `DataFrame.describe` and `DataFrame.info` methods. Describe columns that can be removed based on the information."
   ]
  },
  {
   "cell_type": "code",
   "execution_count": null,
   "metadata": {
    "deletable": false,
    "nbgrader": {
     "cell_type": "code",
     "checksum": "f2a88f8265a08c5e4eac14c1f56035a9",
     "grade": false,
     "grade_id": "explore-3",
     "locked": false,
     "schema_version": 3,
     "solution": false
    },
    "tags": []
   },
   "outputs": [],
   "source": [
    "### START SOLUTION\n",
    "calls.info()\n",
    "calls.describe()\n",
    "\n",
    "# What columns can be removed from the DataFrame? A reasonable rule of thumb is that if a column is missing more than \n",
    "# 50% of the data then it should be removed\n",
    "# PARKS_NM, HADEVELOPT, HOUSING_PSA, TRANSIT_DISTRICT, STATION_NAME can be removed from the dataframe.\n",
    "### END_OF SOLUTION"
   ]
  },
  {
   "cell_type": "markdown",
   "metadata": {
    "deletable": false,
    "editable": false,
    "nbgrader": {
     "cell_type": "markdown",
     "checksum": "0c5b760473deadb7edca63f2042fd6f4",
     "grade": false,
     "grade_id": "explore-4",
     "locked": true,
     "schema_version": 3,
     "solution": false
    }
   },
   "source": [
    "### 2.2 Finding Uniques\n",
    "\n",
    "Notice that the functions above reveal type information for the columns, as well as some basic statistics about the numerical columns found in the DataFrame. However, we still need more information about what each column represents. Let's explore the data further.\n",
    "\n",
    "find the number of unique values in each DataFrame column and answer the questions below."
   ]
  },
  {
   "cell_type": "code",
   "execution_count": null,
   "metadata": {
    "deletable": false,
    "nbgrader": {
     "cell_type": "code",
     "checksum": "f4b40bf6c8d378418b756ab6133b7241",
     "grade": false,
     "grade_id": "explore-5",
     "locked": false,
     "schema_version": 3,
     "solution": false
    },
    "tags": []
   },
   "outputs": [],
   "source": [
    "### START SOLUTION\n",
    "calls.nunique()\n",
    "\n",
    "# Questions\n",
    "# 1. How many distinct locations where the complaints have come from?\n",
    "# 49146\n",
    "# 2. How many age groups are represented in the data set?\n",
    "# 17\n",
    "# 3. How many boroughs are included in the data set?\n",
    "# 5\n",
    "# 4. How many offense types are listed in this data set?\n",
    "# 62\n",
    "\n",
    "### END_OF SOLUTION"
   ]
  },
  {
   "cell_type": "markdown",
   "metadata": {},
   "source": [
    "### 2.3 Offense by Boro\n",
    "Using GroupBy operation, create a DataFrame that groups offenses by Boro. call the DataFrame calls_by_Boro_and_offense"
   ]
  },
  {
   "cell_type": "code",
   "execution_count": null,
   "metadata": {
    "deletable": false,
    "nbgrader": {
     "cell_type": "code",
     "checksum": "50c3e9b512d250e17bc531a333210397",
     "grade": false,
     "grade_id": "q1a-answer",
     "locked": false,
     "schema_version": 3,
     "solution": true
    }
   },
   "outputs": [],
   "source": [
    "# YOUR CODE HERE\n",
    "calls_by_Boro_and_offense = calls.groupby(['BORO_NM'])\n",
    "calls_by_Boro_and_offense.groups"
   ]
  },
  {
   "cell_type": "markdown",
   "metadata": {
    "deletable": false,
    "editable": false,
    "nbgrader": {
     "cell_type": "markdown",
     "checksum": "268b405fa29051cc2a9375e703a2826b",
     "grade": false,
     "grade_id": "q1b",
     "locked": true,
     "schema_version": 3,
     "solution": false
    }
   },
   "source": [
    "### 2.4 Offenses in Bronx\n",
    "\n",
    "In the cell below, find a list of strings corresponding to the possible values for `OFNS_DESC` when `BORO` is \"BRONX\". Create an expression that automatically extracts the names of the offenses."
   ]
  },
  {
   "cell_type": "code",
   "execution_count": null,
   "metadata": {
    "deletable": false,
    "nbgrader": {
     "cell_type": "code",
     "checksum": "7acb88833af037c9d1c8a477342c1464",
     "grade": false,
     "grade_id": "q1b-answer",
     "locked": false,
     "schema_version": 3,
     "solution": true
    },
    "tags": [
     "student"
    ]
   },
   "outputs": [],
   "source": [
    "# YOUR CODE HERE\n",
    "calls_by_Boro_and_offense.get_group('BRONX').OFNS_DESC.unique()"
   ]
  },
  {
   "cell_type": "markdown",
   "metadata": {},
   "source": [
    "##### Question: How many offenses were committed in Bronx during the analysis period? Write the answer below.\n",
    "\n",
    "There are 38506 offenses cases commited in Bronx"
   ]
  },
  {
   "cell_type": "markdown",
   "metadata": {
    "deletable": false,
    "editable": false,
    "nbgrader": {
     "cell_type": "markdown",
     "checksum": "6637e952e5de9cac684b5f575c207d14",
     "grade": false,
     "grade_id": "q2",
     "locked": true,
     "schema_version": 3,
     "solution": false
    }
   },
   "source": [
    "### 2.5 Most Common Crimes in NYC\n",
    "\n",
    "What are the five crime types of OFNS_DESC that have the most crime events in Bronx? You may need to use `value_counts` to find the answer. Save your results as a list of strings.\n",
    "\n",
    "**Hint:** *The `keys` method of the Series class might be useful.*"
   ]
  },
  {
   "cell_type": "code",
   "execution_count": null,
   "metadata": {
    "deletable": false,
    "nbgrader": {
     "cell_type": "code",
     "checksum": "95bde43f7eb42486a7876b79adf4da7e",
     "grade": false,
     "grade_id": "q2-answer",
     "locked": false,
     "schema_version": 3,
     "solution": true
    }
   },
   "outputs": [],
   "source": [
    "# YOUR CODE HERE\n",
    "Most_Common_Crimes = calls_by_Boro_and_offense.get_group('BRONX')['OFNS_DESC'].value_counts().head().keys()\n",
    "Most_Common_Crimes"
   ]
  },
  {
   "cell_type": "markdown",
   "metadata": {},
   "source": [
    "### 2.6 Probability of a Crime in Bronx\n",
    "What is the probability that a the crime \"Arson\" can happen in Bronx?"
   ]
  },
  {
   "cell_type": "code",
   "execution_count": null,
   "metadata": {
    "deletable": false,
    "nbgrader": {
     "cell_type": "code",
     "checksum": "7ffc6399af206aa6503c058b8862cd6a",
     "grade": true,
     "grade_id": "q2-tests",
     "locked": false,
     "points": 1,
     "schema_version": 3,
     "solution": false
    },
    "tags": []
   },
   "outputs": [],
   "source": [
    "### START SOLUTION\n",
    "Bronx = calls_by_Boro_and_offense.get_group('BRONX')\n",
    "probability = len(Bronx[Bronx['OFNS_DESC'] == 'Arson'])/len(Bronx['OFNS_DESC'])\n",
    "probability\n",
    "### END_OF SOLUTION"
   ]
  },
  {
   "cell_type": "markdown",
   "metadata": {
    "deletable": false,
    "editable": false,
    "nbgrader": {
     "cell_type": "markdown",
     "checksum": "0d48e56ef9c63389713223b3571b4a12",
     "grade": false,
     "grade_id": "part2",
     "locked": true,
     "schema_version": 3,
     "solution": false
    }
   },
   "source": [
    "---\n",
    "# Part 3: Visualizing the Data (20 pts)\n",
    "\n",
    "## Pandas vs. Seaborn Plotting\n",
    "\n",
    "Pandas offers basic functionality for plotting. For example, the `DataFrame` and `Series` classes both have a `plot` method. However, the basic plots generated by pandas are not particularly pretty. While it's possible to manually use matplotlib commands to make pandas plots look better, we'll instead use a high level plotting library called Seaborn that will take care of most of this for us.\n",
    "\n",
    "As you learn to do data visualization, you may find the [pandas documentation](https://pandas.pydata.org/pandas-docs/stable/generated/pandas.DataFrame.plot.html) and [Seaborn documentation](https://seaborn.pydata.org/api.html) helpful!\n",
    "\n",
    "We will continue use EDA for examining a subest of a large data set to see what we can know about the data. Continue to explore one file NYPD_Complaint_Data_Historic_1.csv to see what we can find out."
   ]
  },
  {
   "cell_type": "markdown",
   "metadata": {
    "deletable": false,
    "editable": false,
    "nbgrader": {
     "cell_type": "markdown",
     "checksum": "a058e864caedec1a4c6f78bdccf81570",
     "grade": false,
     "grade_id": "plot-demo",
     "locked": true,
     "schema_version": 3,
     "solution": false
    }
   },
   "source": [
    "### 3.1 Plotting a Series\n",
    "Using the built-in plotting functionality of pandas, such as `plot` method of the `Series` class to generate a `barh` plot type,  display the value counts for `OFNS_DESC` visually as a barh chart."
   ]
  },
  {
   "cell_type": "code",
   "execution_count": null,
   "metadata": {
    "deletable": false,
    "nbgrader": {
     "cell_type": "code",
     "checksum": "2634bdbbc66d11ffe18202c408c5bb22",
     "grade": false,
     "grade_id": "plot-demo1",
     "locked": false,
     "schema_version": 3,
     "solution": false
    },
    "tags": []
   },
   "outputs": [],
   "source": [
    "### START SOLUTION\n",
    "calls_by_Boro_and_offense.get_group('BRONX')['OFNS_DESC'].value_counts().plot.barh();\n",
    "\n",
    "### END_OF SOLUTION"
   ]
  },
  {
   "cell_type": "markdown",
   "metadata": {},
   "source": [
    "### 3.2 Getting a Better Plot\n",
    "The plot above can be messy as it plots all offenses. Plot only the offenses that has more than 10000 calls"
   ]
  },
  {
   "cell_type": "code",
   "execution_count": null,
   "metadata": {},
   "outputs": [],
   "source": [
    "### START SOLUTION\n",
    "temp = calls_by_Boro_and_offense.get_group('BRONX')['OFNS_DESC'].value_counts().to_frame()\n",
    "ax = temp.loc[temp['OFNS_DESC'] > 10000].squeeze().plot.barh()\n",
    "ax.set(xlabel = \"Number of Calls\", ylabel = \"Crime Category\", title = \"Number of Calls By Crime Type\");\n",
    "### END_OF SOLUTION"
   ]
  },
  {
   "cell_type": "markdown",
   "metadata": {
    "deletable": false,
    "editable": false,
    "nbgrader": {
     "cell_type": "markdown",
     "checksum": "be3117edbc562d453f2830a953e830a8",
     "grade": false,
     "grade_id": "plot-demo2",
     "locked": true,
     "schema_version": 3,
     "solution": false
    }
   },
   "source": [
    "By contrast, the Seaborn library provides a specific function `countplot` built for plotting counts. It operates directly on the DataFrame itself i.e. there's no need to call `value_counts()` at all. This higher level approach makes it easier to work with. Use the y-label (\"Crime Category\"), x-label(\"Number of Calls\") and title_of_plot(\"Number of Calls By Crime Type\""
   ]
  },
  {
   "cell_type": "code",
   "execution_count": null,
   "metadata": {
    "deletable": false,
    "nbgrader": {
     "cell_type": "code",
     "checksum": "c63a68280b0ea2bd7341ec72aa67c980",
     "grade": false,
     "grade_id": "plot-demo3",
     "locked": false,
     "schema_version": 3,
     "solution": false
    },
    "tags": []
   },
   "outputs": [],
   "source": [
    "### START SOLUTION\n",
    "ax = sns.countplot(y = 'OFNS_DESC', data = calls['OFNS_DESC'].to_frame())\n",
    "ax.set(xlabel = \"Number of Calls\", ylabel = \"Crime Category\", title = \"Number of Calls By Crime Type\")\n",
    "plt.show();\n",
    "### END_OF SOLUTION"
   ]
  },
  {
   "cell_type": "markdown",
   "metadata": {
    "deletable": false,
    "editable": false,
    "nbgrader": {
     "cell_type": "markdown",
     "checksum": "e67084333c7e4cbed2fb4e3dddb5bdf0",
     "grade": false,
     "grade_id": "plot-demo4",
     "locked": true,
     "schema_version": 3,
     "solution": false
    }
   },
   "source": [
    "You may note that the ordering might be different for the seaborn plot (as compared to pandas plot). If we want the same ordering that we had in the pandas plot, we can use the order parameter of the `countplot` method. It takes a list of strings corresponding to the axis to be ordered. By passing the index of the `value_counts`, you can get the order you want."
   ]
  },
  {
   "cell_type": "code",
   "execution_count": null,
   "metadata": {
    "deletable": false,
    "nbgrader": {
     "cell_type": "code",
     "checksum": "044ec93b407b237471b533cc0c8a8693",
     "grade": false,
     "grade_id": "plot-demo5",
     "locked": false,
     "schema_version": 3,
     "solution": false
    },
    "tags": []
   },
   "outputs": [],
   "source": [
    "### START SOLUTION\n",
    "ind = calls_by_Boro_and_offense.get_group('BRONX')['OFNS_DESC'].value_counts(ascending = True).index\n",
    "ax = sns.countplot(y = 'OFNS_DESC', \n",
    "                   data = calls_by_Boro_and_offense.get_group('BRONX')['OFNS_DESC'].to_frame(), \n",
    "                   order = list(ind))\n",
    "ax.set(xlabel = \"Number of Calls\", ylabel = \"Crime Category\", title = \"Number of Calls By Crime Type\")\n",
    "plt.show();\n",
    "### END_OF SOLUTION"
   ]
  },
  {
   "cell_type": "markdown",
   "metadata": {
    "deletable": false,
    "editable": false,
    "nbgrader": {
     "cell_type": "markdown",
     "checksum": "ee0015aee60df1dcb7747d23daf479a5",
     "grade": false,
     "grade_id": "plot-demo6",
     "locked": true,
     "schema_version": 3,
     "solution": false
    }
   },
   "source": [
    "Now we have a pretty bar plot with the bars ordered by size. Though `seaborn` appears to provide a superior plot from a aesthetic point of view, the `pandas` plotting library is also good to understand. You'll get practice using both libraries in the following questions.\n",
    "\n",
    "## An Additional Note on Plotting in Jupyter Notebooks\n",
    "\n",
    "You may have noticed that many of our code cells involving plotting end with a semicolon (;). This prevents any extra output from the last line of the cell that we may not want to see. Try adding this to your own code in the following questions!"
   ]
  },
  {
   "cell_type": "markdown",
   "metadata": {
    "deletable": false,
    "editable": false,
    "nbgrader": {
     "cell_type": "markdown",
     "checksum": "9341af6b77dcae9fab42756457682665",
     "grade": false,
     "grade_id": "q3",
     "locked": true,
     "schema_version": 3,
     "solution": false
    }
   },
   "source": [
    "### 3.3 making more plots\n",
    "\n",
    "Now it is your turn to make some more plots using `pandas` and `seaborn`. Let's start by looking at the distribution of calls over days of the week.\n",
    "\n",
    "The CMPLNT_FR_DT field contains the date of the event. We would like to add a new column to the DataFrame that includes Day of the week (DAY_OF_WEEK) that indicates the day of the week. This can help us analyze the crimes on a specific day of the week. For example, we can answer questions such as \"what day of the week that a LARSON is likely to happen in NYC?\"\n",
    "\n",
    "\n",
    "Add a new column `DAY_OF_WEEK` into the `calls` dataframe that has the day string (eg. 'Sunday') for the corresponding value in CMPLNT_FR_DT. For example, if the first 3 values of `CMPLNT_FR_DT` are `['01/27/2006, '01/28/2006, '01/29/2006]`, then the first 3 values of the `DAY_OF_WEEK` column should be `[\"Friday\", \"Saturday\", \"Sunday\"]`.\n",
    "\n",
    "**Hint:** *Try using the [Series.map](https://pandas.pydata.org/pandas-docs/stable/generated/pandas.Series.map.html) function on `calls[\"OFNS_DESC\"]`.  Can you assign this to the new column `calls[\"DAY_OF_WEEK\"]`?*"
   ]
  },
  {
   "cell_type": "code",
   "execution_count": null,
   "metadata": {
    "deletable": false,
    "nbgrader": {
     "cell_type": "code",
     "checksum": "f8d8ba045be80306f797d2b0fce54d61",
     "grade": false,
     "grade_id": "q3a-answer",
     "locked": false,
     "schema_version": 3,
     "solution": true
    }
   },
   "outputs": [],
   "source": [
    "# YOUR CODE HERE\n",
    "from datetime import datetime\n",
    "from dateutil import parser\n",
    "import calendar\n",
    "\n",
    "temp = calls.copy()\n",
    "temp['DAY_OF_WEEK'] = temp.apply(lambda x: calendar.day_name[parser.parse(x['CMPLNT_FR_DT']).weekday()] if type(x['CMPLNT_FR_DT']) == str else x['CMPLNT_FR_DT'], axis = 1)\n",
    "calls = temp\n",
    "calls "
   ]
  },
  {
   "cell_type": "markdown",
   "metadata": {
    "deletable": false,
    "editable": false,
    "nbgrader": {
     "cell_type": "markdown",
     "checksum": "732209392e3a05f61db1486321bede6d",
     "grade": false,
     "grade_id": "q3b",
     "locked": true,
     "schema_version": 3,
     "solution": false
    }
   },
   "source": [
    "### 3.4 Seaborn plots\n",
    "\n",
    "Create a `seaborn` plot that shows the number of calls for each day of the week. You may want to use of the `rotation` argument in `ax.set_xticklabels`, which rotates the labels by 90 degrees."
   ]
  },
  {
   "cell_type": "code",
   "execution_count": null,
   "metadata": {
    "deletable": false,
    "nbgrader": {
     "cell_type": "code",
     "checksum": "27af16e10fb960c88e8cd444c15b44e7",
     "grade": false,
     "grade_id": "q3b-ex",
     "locked": false,
     "schema_version": 3,
     "solution": false
    },
    "tags": []
   },
   "outputs": [],
   "source": [
    "### START SOLUTION\n",
    "days_sequence = ['Sunday', 'Monday', 'Tuesday', 'Wednesday', 'Thursday', \n",
    "                 'Friday', 'Saturday']\n",
    "ax = sns.countplot(x = 'DAY_OF_WEEK', \n",
    "                   data = calls['DAY_OF_WEEK'].to_frame(), order = days_sequence)\n",
    "ax.set(ylabel = \"Number of Calls\", \n",
    "       title = \"Number of Calls For Each Day of the Week\")\n",
    "plt.xticks(rotation=90)\n",
    "plt.show();\n",
    "### END_OF SOLUTION"
   ]
  },
  {
   "cell_type": "markdown",
   "metadata": {
    "deletable": false,
    "editable": false,
    "nbgrader": {
     "cell_type": "markdown",
     "checksum": "5ff5ec8ddb699d728821f88189ac6699",
     "grade": false,
     "grade_id": "q3b-instructions",
     "locked": true,
     "schema_version": 3,
     "solution": false
    }
   },
   "source": [
    "Now, let's make the same plot using `pandas`. Construct a vertical bar plot with the count of the number of calls (entries in the table) for each day of the week **ordered by the day of the week** (eg. `Sunday`, `Monday`, ...). Do not use `sns` for this plot. Be sure that your axes are labeled and that your plot is titled.\n",
    "\n",
    "**Hint:** *Given a series `s`, and an array `coolIndex` that has the same entries as in `s.index`, `s[coolIndex]` will return a copy of the series in the same order as `coolIndex`.*"
   ]
  },
  {
   "cell_type": "code",
   "execution_count": null,
   "metadata": {
    "deletable": false,
    "nbgrader": {
     "cell_type": "code",
     "checksum": "0c34fe8c6ea8282076174c22ba1d0cc7",
     "grade": false,
     "grade_id": "q3b-answer",
     "locked": false,
     "schema_version": 3,
     "solution": true
    }
   },
   "outputs": [],
   "source": [
    "# YOUR CODE HERE\n",
    "ax = calls['DAY_OF_WEEK'].value_counts()[days_sequence].plot.bar()\n",
    "ax.set(ylabel = \"Number of Calls\", \n",
    "       title = \"Number of Calls For Each Day of the Week\", xlabel = \"Day\")\n",
    "plt.show()"
   ]
  },
  {
   "cell_type": "markdown",
   "metadata": {
    "deletable": false,
    "nbgrader": {
     "cell_type": "markdown",
     "checksum": "d141b46ef86f3f43902b246b34bd512a",
     "grade": false,
     "grade_id": "q4",
     "locked": false,
     "schema_version": 3,
     "solution": false
    },
    "tags": []
   },
   "source": [
    "### 3.5 What Day of the Week is more calls?\n",
    "\n",
    "Is it true that weekdays generally have slightly more calls than Saturday or Sunday? What can you say about the difference?\n",
    "\n",
    "##### START SOLUTION\n",
    "Yes, it's true that weekdays generally have more calls than Saturday or Sunday but the difference would be very small. Since in weekdays, people will have more commuting activities in the neighborhood, and in the process, people will experience more crime and result in generally more calls to the police.\n",
    "##### END_OF SOLUTION\n",
    "\n",
    "We can break down into some particular types of events to see their distribution. For example, let's make a bar plot for the OFNS_DESC \"HARRASSMENT 2\". Which day is the peak for \"HARRASSMENT 2\"?\n",
    "\n",
    "This time, use `seaborn` to create a vertical bar plot of the number of total noise violations reported on each day of the week, again ordered by the days of the week starting with Sunday. Do not use `pandas` to plot.\n",
    "\n",
    "**Hint:** *If you're stuck, use the code for the seaborn plot in above question as a starting point.*"
   ]
  },
  {
   "cell_type": "code",
   "execution_count": null,
   "metadata": {
    "deletable": false,
    "nbgrader": {
     "cell_type": "code",
     "checksum": "3c877a2a3241bd02edb941b53c9b96a4",
     "grade": false,
     "grade_id": "q4a-answer",
     "locked": false,
     "schema_version": 3,
     "solution": true
    }
   },
   "outputs": [],
   "source": [
    "# YOUR CODE HERE\n",
    "ax = sns.countplot(x = 'DAY_OF_WEEK', \n",
    "                   data = calls[calls['OFNS_DESC'] == 'HARRASSMENT 2']['DAY_OF_WEEK'].to_frame(), order = days_sequence)\n",
    "ax.set(ylabel = \"Number of Calls\", \n",
    "       title = \"Number of Harrassment-2 Calls For Each Day of the Week\")\n",
    "plt.xticks(rotation=90)\n",
    "plt.show();"
   ]
  },
  {
   "cell_type": "markdown",
   "metadata": {
    "deletable": false,
    "nbgrader": {
     "cell_type": "markdown",
     "checksum": "8e66b9f62240330c69e8be5a19829a0a",
     "grade": false,
     "grade_id": "q4b",
     "locked": false,
     "schema_version": 3,
     "solution": false
    },
    "tags": []
   },
   "source": [
    "### 3.6 Distribution\n",
    "\n",
    "Do you see anything interesting about the distribution of HARRASSMENT 2 calls over a week? Type a short answer below.\n",
    "##### START SOLUTION\n",
    "The number of cases of harrassment2 in Saturday is the least over a week, the number of calls keeps increasing from Sunday to Wednesday, and the number reaches its max value at Wednesday.\n",
    "##### END_OF SOLUTION"
   ]
  },
  {
   "cell_type": "markdown",
   "metadata": {
    "deletable": false,
    "editable": false,
    "nbgrader": {
     "cell_type": "markdown",
     "checksum": "51c91220690437b0b6d3a9f36046112a",
     "grade": false,
     "grade_id": "q5",
     "locked": true,
     "schema_version": 3,
     "solution": false
    }
   },
   "source": [
    "### 3.7 More Plots\n",
    "\n",
    "Let's look at a similar distribution but for a crime we have much more calls data about. In the cell below, create the same plot as you did in previous questions, but now looking at instances of the OFNS_DESC \"BURGLARY\" (instead of \"HARRASSMENT 2\"). Use either `pandas` or `seaborn` plotting as you desire."
   ]
  },
  {
   "cell_type": "code",
   "execution_count": null,
   "metadata": {
    "deletable": false,
    "nbgrader": {
     "cell_type": "code",
     "checksum": "32c13b7b7bc11ae9e2e86c595b41b6b8",
     "grade": false,
     "grade_id": "q5-answer",
     "locked": false,
     "schema_version": 3,
     "solution": true
    }
   },
   "outputs": [],
   "source": [
    "# YOUR CODE HERE\n",
    "ax = sns.countplot(x = 'DAY_OF_WEEK', \n",
    "                   data = calls[calls['OFNS_DESC'] == 'BURGLARY']['DAY_OF_WEEK'].to_frame(), order = days_sequence)\n",
    "ax.set(ylabel = \"Number of Calls\", \n",
    "       title = \"Number of BURGLARY Calls For Each Day of the Week\")\n",
    "plt.xticks(rotation=90)\n",
    "plt.show();"
   ]
  },
  {
   "cell_type": "markdown",
   "metadata": {
    "deletable": false,
    "editable": false,
    "nbgrader": {
     "cell_type": "markdown",
     "checksum": "1e212d6c33fe05f0b838c327ff0a04e7",
     "grade": false,
     "grade_id": "q6",
     "locked": true,
     "schema_version": 3,
     "solution": false
    }
   },
   "source": [
    "### 3.8 time of events\n",
    "\n",
    "Now let's look at the CMPLNT_TO_TM column which indicates the time for events. Since it contains hour and minute information, let's extract the hour info and create a new column named `Hour` in the `calls` dataframe. You should save the hour as an `int`. Then plot the frequency of each hour in the table (i.e., `value_counts()`) sorted by the hour of the day (i.e., `sort_index()`).\n",
    "\n",
    "You will want to look into how to use:\n",
    "\n",
    "* [Series.str.slice](https://pandas.pydata.org/pandas-docs/stable/generated/pandas.Series.str.slice.html#pandas.Series.str.slice) to select the substring.\n",
    "* [Series.astype](https://pandas.pydata.org/pandas-docs/stable/generated/pandas.Series.astype.html) to change the type.\n",
    "\n",
    "**Hint:** *The `str` helper member of a series can be used to grab substrings.  For example, `calls[\"CMPLNT_TO_TM\"].str.slice(3,5)` returns the minute of each hour of the `CMPLNT_TO_TM`.*"
   ]
  },
  {
   "cell_type": "code",
   "execution_count": null,
   "metadata": {
    "deletable": false,
    "nbgrader": {
     "cell_type": "code",
     "checksum": "f92348f9c819fb329bf2127c8c344ee7",
     "grade": false,
     "grade_id": "q6a-answer",
     "locked": false,
     "schema_version": 3,
     "solution": true
    },
    "tags": [
     "solution"
    ]
   },
   "outputs": [],
   "source": [
    "# YOUR CODE HERE\n",
    "#astype not working?\n",
    "calls['Hour'] = calls[\"CMPLNT_TO_TM\"].str.slice(0,2)\n",
    "calls['Hour'] = calls['Hour'].replace(np.NaN, 0).astype(float).astype(int)\n",
    "hour_sequence = [x for x in range(24)]\n",
    "ax = calls['Hour'].value_counts()[hour_sequence].plot.bar()\n",
    "ax.set(ylabel = \"Number of Calls\", \n",
    "       title = \"Number of Calls per Hour\", \n",
    "       xlabel = \"Hour\")\n",
    "plt.show();"
   ]
  },
  {
   "cell_type": "markdown",
   "metadata": {
    "deletable": false,
    "editable": false,
    "nbgrader": {
     "cell_type": "markdown",
     "checksum": "5bcc791520ae997b17d5b2c0df3e2d37",
     "grade": false,
     "grade_id": "pandas-fraud-plot",
     "locked": true,
     "schema_version": 3,
     "solution": false
    }
   },
   "source": [
    "Create a pandas bar plot showing the number of BURGLARY crimes committed at each hour of the day. Use the labels\n",
    "* ax.set_xlabel(\"Hour of the Day\")\n",
    "* ax.set_ylabel(\"Number of Calls\")\n",
    "* ax.set_title(\"Number of Calls Reporting Fraud For Each Day of the Week\");"
   ]
  },
  {
   "cell_type": "code",
   "execution_count": null,
   "metadata": {
    "deletable": false,
    "nbgrader": {
     "cell_type": "code",
     "checksum": "25466f24342e03769a4863c3293147cd",
     "grade": false,
     "grade_id": "pandas-fraud-plot-code",
     "locked": false,
     "schema_version": 3,
     "solution": false
    },
    "tags": []
   },
   "outputs": [],
   "source": [
    "### START SOLUTION\n",
    "ax = calls[calls['OFNS_DESC'] == 'BURGLARY']['Hour'].value_counts()[hour_sequence].plot.bar()\n",
    "ax.set_xlabel(\"Hour of the Day\")\n",
    "ax.set_ylabel(\"Number of Calls\")\n",
    "ax.set_title(\"Number of Calls Reporting Burglary For Each Day of the Week\");\n",
    "### END_OF SOLUTION"
   ]
  },
  {
   "cell_type": "markdown",
   "metadata": {
    "deletable": false,
    "editable": false,
    "nbgrader": {
     "cell_type": "markdown",
     "checksum": "215bf745ca4bb841d31f7572205731ea",
     "grade": false,
     "grade_id": "q6b",
     "locked": true,
     "schema_version": 3,
     "solution": false
    }
   },
   "source": [
    "### 3.9 More plots\n",
    "\n",
    "In the cell below, create a seaborn plot of the same data. Again, make sure you provide axes labels and a title for your plot."
   ]
  },
  {
   "cell_type": "code",
   "execution_count": null,
   "metadata": {
    "deletable": false,
    "nbgrader": {
     "cell_type": "code",
     "checksum": "a8bb2469a666ad8f1388abb6ad808881",
     "grade": false,
     "grade_id": "q6b-answer",
     "locked": false,
     "schema_version": 3,
     "solution": true
    }
   },
   "outputs": [],
   "source": [
    "# YOUR CODE HERE\n",
    "ax = sns.countplot(x = 'Hour', \n",
    "                   data = calls[calls['OFNS_DESC'] == 'BURGLARY']['Hour'].to_frame())\n",
    "ax.set_xlabel(\"Hour of the Day\")\n",
    "ax.set_ylabel(\"Number of Calls\")\n",
    "ax.set_title(\"Number of Calls Reporting Burglary For Each Day of the Week\");"
   ]
  },
  {
   "cell_type": "markdown",
   "metadata": {
    "deletable": false,
    "nbgrader": {
     "cell_type": "markdown",
     "checksum": "30286e27217f652b1088011686cf6f7b",
     "grade": false,
     "grade_id": "q6c",
     "locked": false,
     "schema_version": 3,
     "solution": false
    },
    "tags": []
   },
   "source": [
    "### 3.10 Spike in burglary?\n",
    "\n",
    "According to your plots, is there a spike in calls reporting BURGLARY at any particular time? If so, Do you trust that this spike is legitimate, or could there be an issue with our data? Explain your reasoning in 1-2 sentences below.\n",
    "\n",
    "#### START SOLUTION\n",
    "There is a spike in calls reporting Burglary at around 8 am. This spike is legitimate because this situation is probably due to that from general knowledge, 8am is when many people wake up, and burglaries that occur during the long period of the night are more likely to be discovered by people when they wake up, which leads to a higher number of calls in the morning.\n",
    "\n",
    "#### END_OF SOLUTION"
   ]
  },
  {
   "cell_type": "markdown",
   "metadata": {
    "deletable": false,
    "editable": false,
    "nbgrader": {
     "cell_type": "markdown",
     "checksum": "dce78057ca0266def7ab44af6ecdf1b7",
     "grade": false,
     "grade_id": "q7",
     "locked": true,
     "schema_version": 3,
     "solution": false
    }
   },
   "source": [
    "In the cell below, we generate a boxplot which examines the hour of day of each crime broken down by the `OFNS_DESC` value.  To construct this plot we used the [DataFrame.boxplot](https://pandas.pydata.org/pandas-docs/stable/generated/pandas.DataFrame.boxplot.html) documentation."
   ]
  },
  {
   "cell_type": "code",
   "execution_count": null,
   "metadata": {
    "deletable": false,
    "editable": false,
    "nbgrader": {
     "cell_type": "code",
     "checksum": "87c673ffd37a6265817045894040386f",
     "grade": false,
     "grade_id": "q7-pandas-boxplot",
     "locked": true,
     "schema_version": 3,
     "solution": false
    },
    "tags": [
     "student"
    ]
   },
   "outputs": [],
   "source": [
    "calls.boxplot(column=\"Hour\", by='OFNS_DESC', rot=90);"
   ]
  },
  {
   "cell_type": "markdown",
   "metadata": {
    "deletable": false,
    "editable": false,
    "nbgrader": {
     "cell_type": "markdown",
     "checksum": "f422e3dffc55219d7040261159df5231",
     "grade": false,
     "grade_id": "q7-instructions",
     "locked": true,
     "schema_version": 3,
     "solution": false
    }
   },
   "source": [
    "While the pandas boxplot is informative, we can use seaborn to create a more visually-appealing plot. Using seaborn, regenerate a better box plot. See either the textbook (https://www.textbook.ds100.org/ch/06/viz_quantitative.html) or the [seaborn boxplot documentation](https://seaborn.pydata.org/generated/seaborn.boxplot.html).\n",
    "\n",
    "Looking at your plot, which crime type appears to have the largest interquartile range? Put your results into `answer` as a string."
   ]
  },
  {
   "cell_type": "code",
   "execution_count": null,
   "metadata": {
    "deletable": false,
    "nbgrader": {
     "cell_type": "code",
     "checksum": "4b8488bb1e736d557901161c2c9896aa",
     "grade": false,
     "grade_id": "q7-answer",
     "locked": false,
     "schema_version": 3,
     "solution": true
    }
   },
   "outputs": [],
   "source": [
    "# YOUR CODE HERE\n",
    "ax = sns.boxplot(data = calls, x = 'OFNS_DESC', y = 'Hour')\n",
    "ax.set(title = 'Distributions of Calls Over Hours in a Day, Grouped by Crime')\n",
    "plt.xticks(rotation=90)\n",
    "plt.show()\n",
    "answer = 'OFFENSES RELATED TO CHILDREN'"
   ]
  },
  {
   "cell_type": "markdown",
   "metadata": {},
   "source": [
    "### 3.11a Explore Suspect and Victim Age Relationships\n",
    "In this activity we explore relations between SUSP_AGE_GROUP and VIC_AGE_GROUP\n",
    "1. create a matrix of where rows are SUSP_AGE_GROUPS and Columns are VIC_AGE_GROUPs\n",
    "2. Fill in the matrix with all probabilities (eg. \"the probability that <18 susp_group target <18 victim_group). "
   ]
  },
  {
   "cell_type": "code",
   "execution_count": null,
   "metadata": {},
   "outputs": [],
   "source": [
    "### START SOLUTION\n",
    "pd.crosstab(calls['SUSP_AGE_GROUP'], calls['VIC_AGE_GROUP'], normalize='index')\n",
    "#matrix = pd.DataFrame(index = calls['SUSP_AGE_GROUP'].value_counts().index, \n",
    "#                      columns = calls['VIC_AGE_GROUP'].value_counts().index)\n",
    "#for index, row in matrix.iterrows():\n",
    "#    for i in row.index:\n",
    "#        matrix[i][index] = len(calls[(calls['VIC_AGE_GROUP'] == i) & (calls['SUSP_AGE_GROUP'] == index)]) / len(calls)\n",
    "#matrix\n",
    "### END_OF SOLUTION"
   ]
  },
  {
   "cell_type": "markdown",
   "metadata": {},
   "source": [
    "### 3.11b Explore Suspect and Victim Sex Relationships\n",
    "In this activity we explore relations between SUSP_SEX and VIC_SEX \n",
    "1. create a matrix of where rows are SUSP_SEX and Columns are VIC_SEX\n",
    "2. Fill in the matrix with all probabilities (eg. \"the probability that Males target other Males?\")"
   ]
  },
  {
   "cell_type": "code",
   "execution_count": null,
   "metadata": {},
   "outputs": [],
   "source": [
    "### START SOLUTION\n",
    "pd.crosstab(calls['SUSP_SEX'], columns = calls['VIC_SEX'], normalize='index')\n",
    "\n",
    "#matrix = pd.DataFrame(index = calls['SUSP_SEX'].value_counts().index, \n",
    "#                      columns = calls['VIC_SEX'].value_counts().index)\n",
    "#for index, row in matrix.iterrows():\n",
    "#    for i in row.index:\n",
    "#        matrix[i][index] = len(calls[(calls['VIC_SEX'] == i) & (calls['SUSP_SEX'] == index)]) / len(calls)\n",
    "#matrix\n",
    "### END_OF SOLUTION"
   ]
  },
  {
   "cell_type": "markdown",
   "metadata": {},
   "source": [
    "### 3.11c Observations \n",
    "Based on what was calculated in 3.11a and 3.11b, state at least important observations.\n",
    "##### START SOLUTION\n",
    "Seems like there are people with negative ages. Women targeting women have the highest probability. Also, female has the highest probability to be targeted for a crime.\n",
    "##### END_OF SOLUTION"
   ]
  },
  {
   "cell_type": "markdown",
   "metadata": {},
   "source": [
    "### 3.12 - Visualization of crimes on a Map of NYC\n",
    "Finally we attempt to visualize the crimes committed in NYC on a Map. For this activity, use all data, not just the First set,  NYPD_Complaint_Data_Historic_1. \n",
    "First we need to install some mapping software. RSun the cell below to install folium package for mapping software."
   ]
  },
  {
   "cell_type": "code",
   "execution_count": null,
   "metadata": {},
   "outputs": [],
   "source": [
    "!/koko/system/anaconda/envs/python39/bin/pip install --user --upgrade folium"
   ]
  },
  {
   "cell_type": "code",
   "execution_count": null,
   "metadata": {},
   "outputs": [],
   "source": [
    "### Plot the maps for BURGLARY in NYC\n",
    "### if it takes too much time or map does not show up, try plotting a subset of the data set of for a specific crime\n",
    "\n",
    "### START SOLUTION\n",
    "import folium\n",
    "\n",
    "temp = calls.loc[(calls['OFNS_DESC'] == 'BURGLARY') & (calls['SUSP_SEX'] == 'U') & (calls['DAY_OF_WEEK'] == 'Sunday')]\n",
    "m = folium.Map(zoom_start=10)\n",
    "locs = temp[['Latitude', 'Longitude']].astype('float').dropna()\n",
    "locs.apply(lambda x: folium.Marker([x['Latitude'], x['Longitude']]).add_to(m), axis = 1)\n",
    "m\n",
    "### END_OF SOLUTION"
   ]
  },
  {
   "cell_type": "markdown",
   "metadata": {},
   "source": [
    "# Part 4: Kernel Density Estimators (KDE) (5 pts)\n",
    "When compared with the commonly used histogram, the kernel density estimator shows several advantages.\n",
    "1. It is a smooth curve and thus it better exhibits the details of the probability density function.\n",
    "2. It uses all sample points' locations, so, therefore, it better reveal the information contained in the sample.\n",
    "\n",
    "In this activity, we will use KDE on CMPLNT_FR_DT data column from NYPD data set. Work with the column labled CMPLNT_FR_DT. The goal is to plot this one dimensional time data using KDE to see the distribution of time in a density map. You may have to convert time objects seconds."
   ]
  },
  {
   "cell_type": "markdown",
   "metadata": {},
   "source": [
    "### 4.1 - Using Seaborn kdeplot, plot the KDE graph"
   ]
  },
  {
   "cell_type": "code",
   "execution_count": null,
   "metadata": {},
   "outputs": [],
   "source": [
    "### START SOLUTION\n",
    "ax = sns.kdeplot(x = 'CMPLNT_FR_DT', \n",
    "                   data = pd.to_datetime(calls['CMPLNT_FR_DT'], errors = 'coerce').to_frame())\n",
    "ax.set(xlabel = \"CMPLNT_FR_DT\")\n",
    "plt.show()\n",
    "### END_OF SOLUTION"
   ]
  },
  {
   "cell_type": "markdown",
   "metadata": {},
   "source": [
    "### 4.2 - What can you deduce from the KDE plot? Write your responses here\n",
    "##### START RESPONSE\n",
    "The alarm calls in the data are all mainly concentrated around 2019-2020, while the data from 2010-2018 are more sparse, and the alarm calls data before 2010 are not recorded.\n",
    "\n",
    "##### END_OF RESPONSE"
   ]
  },
  {
   "cell_type": "markdown",
   "metadata": {
    "tags": []
   },
   "source": [
    "### 4.3 (OPTIONAL - bonus - 5 pts) - Implement your own kernel function for KDE\n",
    "Implement 3 Kernel functions from scratch from the following list.<br>\n",
    "<img src='KDE.jpg' width=\"400\" height=\"400\"><br>\n",
    "plot the KDE using your own code. Do not use kdeplot. Compare with Seaborn KDE plot. Do research to find out what kernel function that kdeplot is using and discuss advantages and disadvantages of each function compared to ."
   ]
  },
  {
   "cell_type": "code",
   "execution_count": null,
   "metadata": {},
   "outputs": [],
   "source": [
    "### START SOLUTION\n",
    "import math\n",
    "def Biweight(t):\n",
    "    if abs(t) >= 1:\n",
    "        return 0\n",
    "    else:\n",
    "        return ((15/16) * (1-t**2))**2\n",
    "\n",
    "def Triangular(t):\n",
    "    if abs(t) < 1:\n",
    "        return 1 - abs(t)\n",
    "    else:\n",
    "        return 0\n",
    "\n",
    "def Gaussian(t):\n",
    "    return (1/math.sqrt(2*math.pi)) * (math.e)**(-(t**2)/2)\n",
    "### END_OF SOLUTION"
   ]
  },
  {
   "cell_type": "markdown",
   "metadata": {},
   "source": [
    "<b> 4.3.1 </b> Plot the KDE using your own code. Do not use kdeplot. "
   ]
  },
  {
   "cell_type": "code",
   "execution_count": null,
   "metadata": {},
   "outputs": [],
   "source": [
    "### STAT SOLUTION\n",
    "t = pd.to_datetime(calls['CMPLNT_FR_DT'], errors = 'coerce').dropna()\n",
    "t = t.apply(lambda x: Gaussian(x.timestamp()))\n",
    "sns.lineplot(data = t.to_frame())\n",
    "\n",
    "### END_OF SOLUTION"
   ]
  },
  {
   "cell_type": "markdown",
   "metadata": {},
   "source": [
    "Do your research to find what kernel function that kdeplot is using. Compare kdeplot density graph with your own.\n",
    "### write your comments below\n",
    "##### START RESPONSE\n",
    "\n",
    "\n",
    "##### ENDOF RESPONSE"
   ]
  },
  {
   "cell_type": "markdown",
   "metadata": {},
   "source": [
    " ## Congratulations !!!\n",
    "\n",
    "<div class=\"alert alert-block alert-info\">\n",
    "<h2>Submission Instructions</h2> \n",
    "<b> Output:</b> Please **remove all output** from your notebook prior to submission<br>\n",
    "<b> File Name:</b> Please name the file as your_section_your_netID_Lab3.ipynb (eg. 01_adg133_Lab3.ipynb<br>\n",
    "<b> Submit To: </b>CodeBench <br>\n",
    "<b>Warning:</b> Failure to follow directions may result in loss of points.<br>\n",
    "</div>"
   ]
  },
  {
   "cell_type": "markdown",
   "metadata": {
    "deletable": false,
    "editable": false,
    "nbgrader": {
     "cell_type": "markdown",
     "checksum": "d08603bc5599c28f7c0a9ddca5b33b6f",
     "grade": false,
     "grade_id": "finish",
     "locked": true,
     "schema_version": 3,
     "solution": false
    }
   },
   "source": [
    "pd.crosstab(df['Product Type'], df['Lead'], normalize='all')@2022 A.D. Gunawardena. Many people contributed to this lab including TA Liqin Long (now at Google). Credits go to Josh Hug, and Berkeley Data Science Group for their contributions to the original version. Please DO NOT share this lab and/or post them on public sites such as github and others."
   ]
  }
 ],
 "metadata": {
  "kernelspec": {
   "display_name": "Python 3",
   "language": "python",
   "name": "python3"
  },
  "language_info": {
   "codemirror_mode": {
    "name": "ipython",
    "version": 3
   },
   "file_extension": ".py",
   "mimetype": "text/x-python",
   "name": "python",
   "nbconvert_exporter": "python",
   "pygments_lexer": "ipython3",
   "version": "3.9.5"
  }
 },
 "nbformat": 4,
 "nbformat_minor": 4
}
