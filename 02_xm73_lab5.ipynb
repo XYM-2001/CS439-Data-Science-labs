{
 "cells": [
  {
   "cell_type": "markdown",
   "metadata": {},
   "source": [
    "Before you turn this problem in, make sure everything runs as expected. First, **restart the kernel** (in the menubar, select Kernel$\\rightarrow$Restart) and then **run all cells** (in the menubar, select Cell$\\rightarrow$Run All).\n",
    "\n",
    "Make sure you fill in any place that says `YOUR CODE HERE` or \"YOUR ANSWER HERE\", as well as your name and collaborators below:"
   ]
  },
  {
   "cell_type": "code",
   "execution_count": 1,
   "metadata": {},
   "outputs": [],
   "source": [
    "NAME = \"Xinyu Meng\"\n",
    "COLLABORATORS = \"\""
   ]
  },
  {
   "cell_type": "markdown",
   "metadata": {},
   "source": [
    "---"
   ]
  },
  {
   "cell_type": "markdown",
   "metadata": {},
   "source": [
    "<div class=\"alert alert-block alert-info\">\n",
    "<h3>Student Information</h3> Please provide information about yourself.<br>\n",
    "<b>Name</b>:Xinyu Meng<br>\n",
    "<b>NetID</b>:xm73<br>\n",
    "<b>Notes to Grader</b> (optional):<br>\n",
    "<br><br>\n",
    "<b>IMPORTANT</b>\n",
    "Your work will not be graded withour your initials below<br>\n",
    "I certify that this lab represents my own work and I have read the RU academic intergrity policies at<br>\n",
    "<a href=\"https://www.cs.rutgers.edu/academic-integrity/introduction\">https://www.cs.rutgers.edu/academic-integrity/introduction </a><br>\n",
    "<b>Initials</b>:     \n",
    "X.M\n",
    "\n",
    "<h3>Grader Notes</h3>\n",
    "<b>Your Grade<b>:<br>\n",
    "<b>Grader Initials</b>:<br>\n",
    "<b>Grader Comments</b> (optional):<br>\n",
    "</div>"
   ]
  },
  {
   "cell_type": "markdown",
   "metadata": {},
   "source": [
    "# Lab 5: Multivariate Linear Regression\n",
    "\n",
    "### Due Date: Wednesday December 14, 2022 on or before 11:59 PM\n",
    "\n",
    "In this lab we will work through the process of:\n",
    "1. implementing a linear regression model\n",
    "2. defining, implementing and testing multiple loss functions \n",
    "3. minimizing loss functions using gradient descent\n",
    "4. comparing with python library functions\n",
    "5. Using the model to predict on test data \n"
   ]
  },
  {
   "cell_type": "markdown",
   "metadata": {},
   "source": [
    "## Initialize"
   ]
  },
  {
   "cell_type": "code",
   "execution_count": 2,
   "metadata": {},
   "outputs": [],
   "source": [
    "import pandas as pd\n",
    "import numpy as np\n",
    "import seaborn as sns\n",
    "import matplotlib.pyplot as plt\n",
    "np.random.seed(42)\n",
    "plt.style.use('fivethirtyeight')\n",
    "sns.set()\n",
    "sns.set_context(\"talk\")\n",
    "%matplotlib inline"
   ]
  },
  {
   "cell_type": "markdown",
   "metadata": {},
   "source": [
    "# Univariate Linear Regression\n",
    "In the first task of the lab, we will model linear regression based on a data set that contains housing data (data/USA_Housing.csv). \n",
    "\n",
    "# Task 1 - Initialization\n",
    "Read the file into a dataframe and keep only the features you need. We will be doing univariate and multivariate regression on housing data.The goal is to find a model that will allow us to predict hosuing prices given certain values."
   ]
  },
  {
   "cell_type": "markdown",
   "metadata": {},
   "source": [
    "### Activity 1.1  Read Data"
   ]
  },
  {
   "cell_type": "code",
   "execution_count": 3,
   "metadata": {},
   "outputs": [
    {
     "data": {
      "text/html": [
       "<div>\n",
       "<style scoped>\n",
       "    .dataframe tbody tr th:only-of-type {\n",
       "        vertical-align: middle;\n",
       "    }\n",
       "\n",
       "    .dataframe tbody tr th {\n",
       "        vertical-align: top;\n",
       "    }\n",
       "\n",
       "    .dataframe thead th {\n",
       "        text-align: right;\n",
       "    }\n",
       "</style>\n",
       "<table border=\"1\" class=\"dataframe\">\n",
       "  <thead>\n",
       "    <tr style=\"text-align: right;\">\n",
       "      <th></th>\n",
       "      <th>Avg. Area House Age</th>\n",
       "      <th>Avg. Area Number of Rooms</th>\n",
       "      <th>Price</th>\n",
       "    </tr>\n",
       "  </thead>\n",
       "  <tbody>\n",
       "    <tr>\n",
       "      <th>1</th>\n",
       "      <td>5.682861322</td>\n",
       "      <td>7.009188143</td>\n",
       "      <td>1059033.558</td>\n",
       "    </tr>\n",
       "    <tr>\n",
       "      <th>2</th>\n",
       "      <td>6.002899808</td>\n",
       "      <td>6.730821019</td>\n",
       "      <td>1505890.915</td>\n",
       "    </tr>\n",
       "    <tr>\n",
       "      <th>3</th>\n",
       "      <td>5.86588984</td>\n",
       "      <td>8.51272743</td>\n",
       "      <td>1058987.988</td>\n",
       "    </tr>\n",
       "    <tr>\n",
       "      <th>4</th>\n",
       "      <td>7.188236095</td>\n",
       "      <td>5.586728665</td>\n",
       "      <td>1260616.807</td>\n",
       "    </tr>\n",
       "    <tr>\n",
       "      <th>5</th>\n",
       "      <td>5.040554523</td>\n",
       "      <td>7.839387785</td>\n",
       "      <td>630943.4893</td>\n",
       "    </tr>\n",
       "    <tr>\n",
       "      <th>...</th>\n",
       "      <td>...</td>\n",
       "      <td>...</td>\n",
       "      <td>...</td>\n",
       "    </tr>\n",
       "    <tr>\n",
       "      <th>4996</th>\n",
       "      <td>7.830362444</td>\n",
       "      <td>6.137356228</td>\n",
       "      <td>1060193.786</td>\n",
       "    </tr>\n",
       "    <tr>\n",
       "      <th>4997</th>\n",
       "      <td>6.999134987</td>\n",
       "      <td>6.576762661</td>\n",
       "      <td>1482617.729</td>\n",
       "    </tr>\n",
       "    <tr>\n",
       "      <th>4998</th>\n",
       "      <td>7.250590615</td>\n",
       "      <td>4.80508098</td>\n",
       "      <td>1030729.583</td>\n",
       "    </tr>\n",
       "    <tr>\n",
       "      <th>4999</th>\n",
       "      <td>5.534388416</td>\n",
       "      <td>7.130143864</td>\n",
       "      <td>1198656.872</td>\n",
       "    </tr>\n",
       "    <tr>\n",
       "      <th>5000</th>\n",
       "      <td>5.992305307</td>\n",
       "      <td>6.792336104</td>\n",
       "      <td>1298950.48</td>\n",
       "    </tr>\n",
       "  </tbody>\n",
       "</table>\n",
       "<p>5000 rows × 3 columns</p>\n",
       "</div>"
      ],
      "text/plain": [
       "0    Avg. Area House Age Avg. Area Number of Rooms        Price\n",
       "1            5.682861322               7.009188143  1059033.558\n",
       "2            6.002899808               6.730821019  1505890.915\n",
       "3             5.86588984                8.51272743  1058987.988\n",
       "4            7.188236095               5.586728665  1260616.807\n",
       "5            5.040554523               7.839387785  630943.4893\n",
       "...                  ...                       ...          ...\n",
       "4996         7.830362444               6.137356228  1060193.786\n",
       "4997         6.999134987               6.576762661  1482617.729\n",
       "4998         7.250590615                4.80508098  1030729.583\n",
       "4999         5.534388416               7.130143864  1198656.872\n",
       "5000         5.992305307               6.792336104   1298950.48\n",
       "\n",
       "[5000 rows x 3 columns]"
      ]
     },
     "execution_count": 3,
     "metadata": {},
     "output_type": "execute_result"
    }
   ],
   "source": [
    "import pandas as pd\n",
    "df=pd.read_csv('data/USA_Housing.csv', sep=',',header=None)\n",
    "df = df[[1,2,5]]\n",
    "df.columns = df.iloc[0]\n",
    "df = df[1:]\n",
    "df_adjusted = df\n",
    "df_adjusted"
   ]
  },
  {
   "cell_type": "code",
   "execution_count": 4,
   "metadata": {},
   "outputs": [
    {
     "name": "stdout",
     "output_type": "stream",
     "text": [
      "0    Avg. Area House Age Avg. Area Number of Rooms        Price\n",
      "4057         6.099807764               5.548363334  1116680.146\n",
      "2285         4.607793092               5.763787958  440585.0294\n",
      "2558         5.152322989               6.732551727  1115721.687\n",
      "1031         6.232921557               6.396693318  1384466.437\n",
      "284          6.446181952               8.274063584  1912825.285\n",
      "...                  ...                       ...          ...\n",
      "3331         7.721908811                 7.6219751  1521141.345\n",
      "71           4.764499308               7.168662411  1146532.455\n",
      "133          8.137214471               5.650900286  1246246.828\n",
      "2015         5.356907402               5.906375023  1155681.867\n",
      "1932         4.473606695               5.924214538  1276987.492\n",
      "\n",
      "[4500 rows x 3 columns]\n",
      "0    Avg. Area House Age Avg. Area Number of Rooms        Price\n",
      "3432         5.828142871                4.85142302  612938.7145\n",
      "2043         6.918945345               6.245655683   1347083.07\n",
      "80           6.954422126               8.516160048  1492011.496\n",
      "4664         5.195406378               8.368912846  1223915.253\n",
      "3641         7.271422215               5.685407675  1368692.297\n",
      "...                  ...                       ...          ...\n",
      "4927         5.367789514               7.287303779  980049.3901\n",
      "3700         5.128212246               7.247375951  1578141.053\n",
      "3302         7.398134291               7.517188956  1890056.385\n",
      "3325         6.901876796                7.58807521  1689690.754\n",
      "2766         7.358643507               6.219018194  1730084.479\n",
      "\n",
      "[500 rows x 3 columns]\n"
     ]
    }
   ],
   "source": [
    "## Split the data, df_adjusted into training (90%) and testing (10%) using sklearn\n",
    "from sklearn.model_selection import train_test_split\n",
    "df_training, df_testing = train_test_split(df_adjusted, test_size=0.1, train_size=0.9, random_state=50)\n",
    "print(df_training)\n",
    "print(df_testing)"
   ]
  },
  {
   "cell_type": "markdown",
   "metadata": {},
   "source": [
    "### Activity 1.2 Normalize Data\n",
    "In this task, you need to normalize df_training data using MinMaxScaler from sklearn.preprocessing. Normalize all df_training data columns to be between 0 and 1. X_scaled_values are the normalized x values of housing data and Y_scaled_values are the scaled values of prices."
   ]
  },
  {
   "cell_type": "code",
   "execution_count": 5,
   "metadata": {},
   "outputs": [
    {
     "name": "stdout",
     "output_type": "stream",
     "text": [
      "[[0.5026345 ]\n",
      " [0.28560736]\n",
      " [0.3648142 ]\n",
      " ...\n",
      " [0.79899389]\n",
      " [0.39457287]\n",
      " [0.26608873]]\n",
      "[[0.3073306 ]\n",
      " [0.33596457]\n",
      " [0.46473142]\n",
      " ...\n",
      " [0.32095968]\n",
      " [0.35491706]\n",
      " [0.35728827]]\n",
      "[[0.44870955]\n",
      " [0.17310412]\n",
      " [0.44831884]\n",
      " ...\n",
      " [0.5015265 ]\n",
      " [0.46460833]\n",
      " [0.51405772]]\n"
     ]
    }
   ],
   "source": [
    "from sklearn.preprocessing import MinMaxScaler\n",
    "### BEGIN ANSWER\n",
    "scaler = MinMaxScaler()\n",
    "temp = scaler.fit_transform(df_training)\n",
    "X_scaled_values = temp[:,[[0],[1]]]\n",
    "Y_scaled_values = temp[:,[2]]\n",
    "### END ANSWER\n",
    "# call the scaled vectors x and y\n",
    "x = X_scaled_values\n",
    "y = Y_scaled_values\n",
    "new_x = [x[:,0], x[:,1]]\n",
    "x = new_x\n",
    "print(x[0])\n",
    "print(x[1])\n",
    "print(y)"
   ]
  },
  {
   "cell_type": "markdown",
   "metadata": {},
   "source": [
    "### Activity 1.3 Plot the feature data to see if a linear regression line is a good fit\n",
    "It is helpful to understand if the data lends to a linear regression model. In this activity, we will plot the points to see if a line fit to data is reasonable. Plot housing prices vs \"Avg. Area House Age\" and \"Avg. Area Number of Rooms\""
   ]
  },
  {
   "cell_type": "code",
   "execution_count": 6,
   "metadata": {},
   "outputs": [
    {
     "data": {
      "text/plain": [
       "<matplotlib.collections.PathCollection at 0x7ff765c25ca0>"
      ]
     },
     "execution_count": 6,
     "metadata": {},
     "output_type": "execute_result"
    },
    {
     "data": {
      "image/png": "[encoded data removed]",
      "text/plain": [
       "<Figure size 432x288 with 1 Axes>"
      ]
     },
     "metadata": {
      "needs_background": "light"
     },
     "output_type": "display_data"
    }
   ],
   "source": [
    "import numpy as np\n",
    "import matplotlib.pyplot as plt\n",
    "# plot x = \"Avg. Area House Age\" and y = price\n",
    "### BEGIN ANSWER\n",
    "plt.scatter(x[0],y, alpha=0.5, s=20)\n",
    "\n",
    "### END ANSWER"
   ]
  },
  {
   "cell_type": "code",
   "execution_count": 7,
   "metadata": {},
   "outputs": [
    {
     "data": {
      "text/plain": [
       "<matplotlib.collections.PathCollection at 0x7ff765b61c10>"
      ]
     },
     "execution_count": 7,
     "metadata": {},
     "output_type": "execute_result"
    },
    {
     "data": {
      "image/png": "[encoded data removed]",
      "text/plain": [
       "<Figure size 432x288 with 1 Axes>"
      ]
     },
     "metadata": {
      "needs_background": "light"
     },
     "output_type": "display_data"
    }
   ],
   "source": [
    "import numpy as np\n",
    "import matplotlib.pyplot as plt\n",
    "# plot x = \"Avg. Area Number of Rooms\" and y = price\n",
    "### BEGIN ANSWER\n",
    "plt.scatter(x[1],y, alpha=0.5, s=20)\n",
    "\n",
    "\n",
    "### END ANSWER"
   ]
  },
  {
   "cell_type": "markdown",
   "metadata": {},
   "source": [
    "## Question 1.4\n",
    "##### BEGIN ANSWER\n",
    "question: Based on what you see in the plot, do you think it is fine to use linear regression to predict housing prices? Why?\n",
    "\n",
    "I think it's fine to use linear regression because I can clearly see the data points are rougly spreading across a line.\n",
    "\n",
    "##### END ANSWER"
   ]
  },
  {
   "cell_type": "markdown",
   "metadata": {},
   "source": [
    "# Task 2 Manual Exploration of Linear Regression Line\n",
    "In this task we will manually explore the linear regression line for the model x = \"Avg. Area House Age\" and y = price. This will give us a good intution about the process.\n",
    "The goal now is to fit a line \n",
    "$$\n",
    "h(\\theta) = \\theta_0 + \\theta_1*x \n",
    "$$\n",
    "to all data points (x,y), such that the L2 error \n",
    "$$\n",
    " E(\\theta) = \\sum(h(\\theta)-y)^2 $$ is minimized. In this task we will manually change the values of theta0 and theta1 such that we obtain the smallest possible error. \n"
   ]
  },
  {
   "cell_type": "code",
   "execution_count": 8,
   "metadata": {},
   "outputs": [],
   "source": [
    "# define the function h(theta)\n",
    "def h(theta0, theta1, x):\n",
    "    \"\"\"\n",
    "    Return the model theta0 + theta1*x\n",
    "    \n",
    "    \"\"\"\n",
    "    return theta0 + theta1*x"
   ]
  },
  {
   "cell_type": "markdown",
   "metadata": {},
   "source": [
    "### Activity 2.1 - Define the square loss (L2) function\n",
    "Define the function, sqerror that computes the error based on the arguments provided. The function h(theta) is as defined above. Assume that x and y are the observed vectors. We use the average square loss or L2 loss in this case. "
   ]
  },
  {
   "cell_type": "code",
   "execution_count": 9,
   "metadata": {},
   "outputs": [
    {
     "name": "stdout",
     "output_type": "stream",
     "text": [
      "0.018851448326533248\n",
      "0.021823815395622573\n"
     ]
    }
   ],
   "source": [
    "import numpy as np\n",
    "\n",
    "## BEGIN ASNWER\n",
    "def sqerror(x, y, theta0, theta1):\n",
    "    \"\"\"\n",
    "    Input: parameters theta0 and theta1 of the model\n",
    "    Input: x, y vectors\n",
    "    Returns: L2 square error\n",
    "    Assumptions: none\n",
    "    \"\"\"\n",
    "    return np.sum(np.power((h(theta0, theta1, x)-y), 2))/len(x)\n",
    "    \n",
    "## END ANSWER\n",
    "\n",
    "## testing\n",
    "print(sqerror(x[0], y, 0.29,0.52))\n",
    "print(sqerror(x[1], y, 0.29,0.52))"
   ]
  },
  {
   "cell_type": "markdown",
   "metadata": {},
   "source": [
    "### Activity 2.2 - Define the L1 Absolute error function\n",
    "Define the function, abserror that computes the avarega absolute error based on the arguments provided. The function h(theta) is as defined above. Assume that x and y are the observed vectors. We use the average abssolute error in this case."
   ]
  },
  {
   "cell_type": "code",
   "execution_count": 10,
   "metadata": {},
   "outputs": [
    {
     "name": "stdout",
     "output_type": "stream",
     "text": [
      "0.10961636709557822\n",
      "0.11777276790770351\n"
     ]
    }
   ],
   "source": [
    "import numpy as np\n",
    "import math\n",
    "\n",
    "## BEGIN ANSWER\n",
    "def abserror(x, y, theta0, theta1):\n",
    "    \"\"\"\n",
    "    Input: parameters theta0 and theta1 of the model \n",
    "    Input: x, y vectors\n",
    "    Returns: L1 error\n",
    "    Assumptions: none\n",
    "    \"\"\"\n",
    "    return np.sum(np.absolute(h(theta0, theta1, x)-y))/len(x)\n",
    "## END ANSWER\n",
    "\n",
    "## testing\n",
    "print(abserror(x[0], y, 0.29,0.52))\n",
    "print(abserror(x[1], y, 0.29,0.52))"
   ]
  },
  {
   "attachments": {
    "image.png": {
     "image/png": "[encoded data removed]"
    }
   },
   "cell_type": "markdown",
   "metadata": {},
   "source": [
    "### Activity 2.3 - Define the Pseudo Huber loss function\n",
    "Define the function, huberror that computes the pseudo huber error based on the two arguments provided. The function h(theta) is as defined above. Assume that x and y are the observed vectors. The equation for this function is given by \n",
    "![image.png](attachment:image.png)\n",
    "The following function finds the average huber error. In this equation, a  = |h(theta) - y| (see notes for details)"
   ]
  },
  {
   "cell_type": "code",
   "execution_count": 11,
   "metadata": {},
   "outputs": [
    {
     "name": "stdout",
     "output_type": "stream",
     "text": [
      "0.005791489779469562\n",
      "0.006458677517895609\n"
     ]
    }
   ],
   "source": [
    "import numpy as np\n",
    "import math\n",
    "\n",
    "## BEGIN ANSWER\n",
    "def huberror(x, y, theta0, theta1, delta):\n",
    "    \"\"\"\n",
    "    Input: parameters theta0, theta1 and delta of the model \n",
    "    Input: x, y vectors\n",
    "    Returns: psuedo huber error\n",
    "    Assumptions: none\n",
    "    \"\"\"\n",
    "    return np.sum(np.power(delta,2)*(np.sqrt(1+np.power((h(theta0, theta1, x)-y)/delta, 2)) - 1))/len(x)\n",
    "\n",
    "## END ANSWER\n",
    "\n",
    "## testing\n",
    "print(huberror(x[0], y, 0.29,0.52,0.1))\n",
    "print(huberror(x[1], y, 0.29,0.52,0.1))"
   ]
  },
  {
   "cell_type": "markdown",
   "metadata": {},
   "source": [
    "### Activity 2.4 Interactive Exploration.\n",
    "Let us initialize the interat widget to create sliders that allows us to change the values of theta0 and theta1 and see how things change. Complete the function f below. The function is expected to get two values theta0 and theta1 and plot both the observed points (x,y) and the regression line on the same plot. It also needs to compute the error and display and error."
   ]
  },
  {
   "cell_type": "code",
   "execution_count": 12,
   "metadata": {},
   "outputs": [
    {
     "name": "stdout",
     "output_type": "stream",
     "text": [
      "Enabling notebook extension jupyter-js-widgets/extension...\n",
      "      - Validating: \u001b[32mOK\u001b[0m\n"
     ]
    }
   ],
   "source": [
    "from ipywidgets import interact\n",
    "!jupyter nbextension enable --py widgetsnbextension"
   ]
  },
  {
   "cell_type": "code",
   "execution_count": 13,
   "metadata": {},
   "outputs": [
    {
     "data": {
      "application/vnd.jupyter.widget-view+json": {
       "model_id": "552d39926bdd4ad3b9c9a9c2a4b4e949",
       "version_major": 2,
       "version_minor": 0
      },
      "text/plain": [
       "interactive(children=(FloatSlider(value=0.0, description='theta0', max=1.0), FloatSlider(value=0.0, descriptio…"
      ]
     },
     "metadata": {},
     "output_type": "display_data"
    }
   ],
   "source": [
    "# interactive panel\n",
    "import pylab\n",
    "import numpy\n",
    "\n",
    "def f(theta0, theta1):\n",
    "    \"\"\"\n",
    "    Plot the line and points in an interactive panel\n",
    "    \"\"\"\n",
    "    # plot the line for theta0 and theta1\n",
    "    y1 = h(theta0, theta1, x[0]) \n",
    "    # compose plot\n",
    "    pylab.plot(x[0],y1) \n",
    "    \n",
    "    # compute the L2 error for theta0 and theta1 for 5 decimal places\n",
    "    sqerr = round(sqerror(x[0], y, theta0, theta1),6)\n",
    "    # compute the absolute or L1 error for theta0 and theta1\n",
    "    abserr = round(abserror(x[0], y, theta0, theta1),4)\n",
    "    # compute the phub error for theta0 and theta1\n",
    "    huberr = round(huberror(x[0], y, theta0, theta1, 0.01),4)\n",
    "    pylab.title('L1=' + str(abserr) + '  L2=' + str(sqerr) + '  hub=' + str(huberr))\n",
    "    \n",
    "    # plot the points\n",
    "    x1 = x[0]   \n",
    "    y1 = Y_scaled_values\n",
    "    pylab.scatter(x1, y1, alpha=0.5)\n",
    "    pylab.show() # show the plot  \n",
    "\n",
    "interact(f, theta1=(0,1,0.1), theta0=(0,1,0.1));\n"
   ]
  },
  {
   "cell_type": "markdown",
   "metadata": {},
   "source": [
    "### Activity 2.5 Record the best values for each error function\n",
    "Write the \"best\" values you found for theta0 (y-intercept) and theta1 (slope) and the error. \n",
    "This error is the minimum you have observed based on the manual exploration using the widget \n",
    "above."
   ]
  },
  {
   "cell_type": "code",
   "execution_count": 14,
   "metadata": {},
   "outputs": [],
   "source": [
    "# BEST VALUES FOR AVE SQUARE ERROR\n",
    "theta0 = 0.3\n",
    "theta1 = 0.4\n",
    "error = 0.016682\n",
    "# BEST VALUES FOR AVE ABS ERROR\n",
    "theta0 = 0.3\n",
    "theta1 = 0.4\n",
    "error = 0.1033\n",
    "\n",
    "# BEST VALUES FOR AVE HUBER ERROR\n",
    "theta0 = 0.3\n",
    "theta1 = 0.4\n",
    "error = 0.0009"
   ]
  },
  {
   "cell_type": "markdown",
   "metadata": {},
   "source": [
    "# Task 3 - Gradient Descent - Univariate\n",
    "In this task we use the Gradient descent methods to find a \"better\" values for theta0 and theta1 that minimizes the error. Gradient descent is an iterative algorithm. It computes values of theta0 and theta1 in the direction of reaching the minimum point in the error function. The iterative formulas using L2 loss function for theta0 and theta1 are given by:\n",
    "$$\n",
    "\\theta_0 = \\theta_0 - \\alpha*(\\sum(\\theta_1*x^j + \\theta_0)-y^j)\n",
    "$$\n",
    "$$\n",
    "\\theta_1 = \\theta_1 - \\alpha*(\\sum(\\theta_1*x^j + \\theta_0 - y^j)*x^j\n",
    "$$\n",
    "\n",
    "The alpha is called the \"learning rate\". $(x^j, y^j)$ is the j-th observation. It is important to pick a good value for alpha so that convergence is not too slow (small alpha) or be at the risk of over shooting the minimum point (large alpha). You may have to experiemnt with few alphas to find something that works."
   ]
  },
  {
   "cell_type": "markdown",
   "metadata": {},
   "source": [
    "### Activity 3.1 Compute Parameters using the Gradient Descent algorithm (L2 loss)\n",
    "\n",
    "Please print out the theta0 and theta1 values for each iteration in your function. You may get different output compare with the sample output depends on your initial theta0 and theta1 values. We will accept any answers which are close to the sample output."
   ]
  },
  {
   "cell_type": "code",
   "execution_count": 15,
   "metadata": {},
   "outputs": [
    {
     "name": "stdout",
     "output_type": "stream",
     "text": [
      "theta_0 = 0.004959119373723786 theta_1 = 0.0025013010404161297error = 0.2607337704370098\n",
      "theta_0 = 0.009856509125999335 theta_1 = 0.004972126799942467 error = 0.2547531824310392\n",
      "theta_0 = 0.01469293444487345 theta_1 = 0.007412854934057798 error = 0.2489199241748822\n",
      "theta_0 = 0.019469151033808745 theta_1 = 0.009823858417180992 error = 0.24323036597595735\n",
      "theta_0 = 0.02418590522924594 theta_1 = 0.012205505600693167 error = 0.2376809675647754\n",
      "theta_0 = 0.02884393411670898 theta_1 = 0.014558160270240669 error = 0.23226827589186277\n",
      "theta_0 = 0.033443965645471 theta_1 = 0.01688218170232778 error = 0.22698892297896148\n",
      "theta_0 = 0.037986718741799014 theta_1 = 0.01917792472020794 error = 0.22183962382316819\n",
      "theta_0 = 0.04247290342079489 theta_1 = 0.02144573974908222 error = 0.21681717435270792\n",
      "theta_0 = 0.046903220896850104 theta_1 = 0.023685972870613574 error = 0.21191844943307048\n",
      "theta_0 = 0.05127836369273134 theta_1 = 0.02589896587676539 error = 0.20714040092226876\n",
      "theta_0 = 0.05559901574731399 theta_1 = 0.028085056322972726 error = 0.20248005577400888\n",
      "theta_0 = 0.0598658525219803 theta_1 = 0.03024457758065446 error = 0.1979345141875915\n",
      "theta_0 = 0.06407954110569868 theta_1 = 0.03237785888907456 error = 0.1935009478033934\n",
      "theta_0 = 0.06824074031880051 theta_1 = 0.03448522540656053 error = 0.18917659794280572\n",
      "theta_0 = 0.07235010081547075 theta_1 = 0.03656699826108698 error = 0.1849587738915348\n",
      "theta_0 = 0.076408265184968 theta_1 = 0.03862349460023223 error = 0.18084485122519567\n",
      "theta_0 = 0.08041586805159008 theta_1 = 0.040655027640515706 error = 0.17683227017615788\n",
      "theta_0 = 0.0843735361734004 theta_1 = 0.042661906716123736 error = 0.17291853404062613\n",
      "theta_0 = 0.08828188853973072 theta_1 = 0.044644437327031467 error = 0.16910120762496517\n",
      "theta_0 = 0.09214153646747526 theta_1 = 0.04660292118652825 error = 0.16537791573030194\n",
      "theta_0 = 0.09595308369619131 theta_1 = 0.048537656268153956 error = 0.1617463416744615\n",
      "theta_0 = 0.09971712648202097 theta_1 = 0.050448936852053525 error = 0.15820422585031788\n",
      "theta_0 = 0.10343425369044887 theta_1 = 0.05233705357075692 error = 0.15474936431966185\n",
      "theta_0 = 0.10710504688790996 theta_1 = 0.05420229345439168 error = 0.151379607441711\n",
      "theta_0 = 0.110730080432262 theta_1 = 0.05604493997533501 error = 0.1480928585354086\n",
      "theta_0 = 0.11430992156213644 theta_1 = 0.0578652730923124 error = 0.14488707257467875\n",
      "theta_0 = 0.117845130485182 theta_1 = 0.05966356929394973 error = 0.1417602549158263\n",
      "theta_0 = 0.12133626046521427 theta_1 = 0.0614401016417854 error = 0.13871046005628845\n",
      "theta_0 = 0.12478385790828524 theta_1 = 0.06319513981274943 error = 0.1357357904239674\n",
      "theta_0 = 0.12818846244768584 theta_1 = 0.06492895014111602 error = 0.13283439519638884\n",
      "theta_0 = 0.131550607027895 theta_1 = 0.06664179565993603 error = 0.1300044691489528\n",
      "theta_0 = 0.13487081798748812 theta_1 = 0.06833393614195593 error = 0.1272442515315594\n",
      "theta_0 = 0.13814961514101776 theta_1 = 0.07000562814002967 error = 0.12455202497291079\n",
      "theta_0 = 0.14138751185987958 theta_1 = 0.07165712502702944 error = 0.12192611441180715\n",
      "theta_0 = 0.1445850151521759 theta_1 = 0.07328867703526189 error = 0.11936488605477201\n",
      "theta_0 = 0.14774262574158925 theta_1 = 0.07490053129539571 error = 0.11686674635935801\n",
      "theta_0 = 0.15086083814527834 theta_1 = 0.07649293187490676 error = 0.11443014104250053\n",
      "theta_0 = 0.15394014075080853 theta_1 = 0.07806611981604655 error = 0.11205355411330205\n",
      "theta_0 = 0.15698101589212873 theta_1 = 0.07962033317334023 error = 0.10973550692964533\n",
      "theta_0 = 0.15998393992460647 theta_1 = 0.08115580705061973 error = 0.10747455727804847\n",
      "theta_0 = 0.16294938329913303 theta_1 = 0.08267277363759785 error = 0.10526929847618906\n",
      "theta_0 = 0.16587781063530996 theta_1 = 0.08417146224598908 error = 0.1031183584975391\n",
      "theta_0 = 0.16876968079372845 theta_1 = 0.08565209934518257 error = 0.10102039911756587\n",
      "theta_0 = 0.1716254469473528 theta_1 = 0.08711490859747312 error = 0.09897411508096755\n",
      "theta_0 = 0.17444555665201908 theta_1 = 0.08856011089285529 error = 0.09697823328942506\n",
      "theta_0 = 0.17723045191605996 theta_1 = 0.08998792438338635 error = 0.09503151200936522\n",
      "theta_0 = 0.17998056926906655 theta_1 = 0.09139856451712326 error = 0.09313274009924144\n",
      "theta_0 = 0.1826963398297979 theta_1 = 0.09279224407163901 error = 0.09128073625585213\n",
      "theta_0 = 0.18537818937324876 theta_1 = 0.09416917318712349 error = 0.08947434827922664\n",
      "theta_0 = 0.18802653839688604 theta_1 = 0.09552955939907413 error = 0.0877124523556222\n",
      "theta_0 = 0.19064180218606425 theta_1 = 0.0968736076705813 error = 0.08599395235818535\n",
      "theta_0 = 0.1932243908786301 theta_1 = 0.09820152042421347 error = 0.08431777916484255\n",
      "theta_0 = 0.19577470952872644 theta_1 = 0.0995134975735073 error = 0.0826828899929956\n",
      "theta_0 = 0.1982931581698051 theta_1 = 0.10080973655406728 error = 0.08108826775060787\n",
      "theta_0 = 0.20078013187685895 theta_1 = 0.10209043235427988 error = 0.07953292040327771\n",
      "theta_0 = 0.2032360208278823 theta_1 = 0.10335577754564715 error = 0.0780158803569047\n",
      "theta_0 = 0.20566121036456989 theta_1 = 0.10460596231274412 error = 0.07653620385556505\n",
      "theta_0 = 0.208056081052263 theta_1 = 0.10584117448280504 error = 0.07509297039422132\n",
      "theta_0 = 0.21042100873915306 theta_1 = 0.10706159955494281 error = 0.07368528214590071\n",
      "theta_0 = 0.21275636461475095 theta_1 = 0.10826742072900628 error = 0.07231226340298597\n",
      "theta_0 = 0.21506251526763187 theta_1 = 0.1094588189340798 error = 0.07097306003227073\n",
      "theta_0 = 0.21733982274246438 theta_1 = 0.1106359728566296 error = 0.06966683894344068\n",
      "theta_0 = 0.21958864459633254 theta_1 = 0.11179905896830122 error = 0.06839278757064918\n",
      "theta_0 = 0.2218093339543599 theta_1 = 0.11294825155337242 error = 0.06715011336686533\n",
      "theta_0 = 0.22400223956464407 theta_1 = 0.1140837227358658 error = 0.06593804331067946\n",
      "theta_0 = 0.22616770585251045 theta_1 = 0.11520564250632538 error = 0.06475582342525926\n",
      "theta_0 = 0.22830607297409325 theta_1 = 0.11631417874826123 error = 0.06360271830915708\n",
      "theta_0 = 0.2304176768692526 theta_1 = 0.1174094972642664 error = 0.06247801067867671\n",
      "theta_0 = 0.2325028493138357 theta_1 = 0.11849176180181002 error = 0.061381000921514356\n",
      "theta_0 = 0.23456191797129 theta_1 = 0.11956113407871079 error = 0.06031100666139672\n",
      "theta_0 = 0.236595206443637 theta_1 = 0.12061777380829464 error = 0.0592673623334446\n",
      "theta_0 = 0.23860303432181376 theta_1 = 0.12166183872424066 error = 0.05824941876999828\n",
      "theta_0 = 0.24058571723539085 theta_1 = 0.12269348460511897 error = 0.05725654279664655\n",
      "theta_0 = 0.24254356690167375 theta_1 = 0.12371286529862448 error = 0.05628811683820839\n",
      "theta_0 = 0.2444768911741958 theta_1 = 0.12472013274551023 error = 0.0553435385344217\n",
      "theta_0 = 0.24638599409061 theta_1 = 0.12571543700322418 error = 0.0544222203651003\n",
      "theta_0 = 0.24827117591998715 theta_1 = 0.12669892626925292 error = 0.05352358928452565\n",
      "theta_0 = 0.2501327332095279 theta_1 = 0.12767074690417599 error = 0.05264708636484599\n",
      "theta_0 = 0.25197095883069554 theta_1 = 0.12863104345443463 error = 0.05179216644826081\n",
      "theta_0 = 0.2537861420247772 theta_1 = 0.12957995867481814 error = 0.050958297807774326\n",
      "theta_0 = 0.25557856844788013 theta_1 = 0.13051763355067153 error = 0.05014496181630686\n",
      "theta_0 = 0.2573485202153705 theta_1 = 0.131444207319828 error = 0.04935165262395809\n",
      "theta_0 = 0.25909627594576107 theta_1 = 0.13235981749426948 error = 0.04857787684322153\n",
      "theta_0 = 0.260822110804055 theta_1 = 0.1332645998815187 error = 0.047823153241954124\n",
      "theta_0 = 0.26252629654455256 theta_1 = 0.13415868860576616 error = 0.04708701244391002\n",
      "theta_0 = 0.264209101553127 theta_1 = 0.13504221612873515 error = 0.04636899663665233\n",
      "theta_0 = 0.2658707908889765 theta_1 = 0.13591531327028825 error = 0.04566865928666066\n",
      "theta_0 = 0.2675116263258588 theta_1 = 0.13677810922877823 error = 0.04498556486145766\n",
      "theta_0 = 0.2691318663928142 theta_1 = 0.13763073160114686 error = 0.044319288558581214\n",
      "theta_0 = 0.2707317664143846 theta_1 = 0.13847330640277464 error = 0.04366941604123397\n",
      "theta_0 = 0.2723115785503331 theta_1 = 0.13930595808708424 error = 0.043035543180445515\n",
      "theta_0 = 0.273871551834872 theta_1 = 0.14012880956490123 error = 0.042417275803586674\n",
      "theta_0 = 0.27541193221540416 theta_1 = 0.14094198222357465 error = 0.04181422944907973\n",
      "theta_0 = 0.2769329625907844 theta_1 = 0.14174559594586067 error = 0.041226029127151606\n",
      "theta_0 = 0.27843488284910656 theta_1 = 0.1425397691285721 error = 0.0406523090864813\n",
      "theta_0 = 0.27991792990502196 theta_1 = 0.14332461870099691 error = 0.040092712586596316\n",
      "theta_0 = 0.28138233773659566 theta_1 = 0.1441002601430882 error = 0.03954689167587651\n",
      "theta_0 = 0.28282833742170577 theta_1 = 0.1448668075034289 error = 0.039014506975027036\n",
      "theta_0 = 0.2842561571739914 theta_1 = 0.1456243734169738 error = 0.03849522746588593\n",
      "theta_0 = 0.28566602237835514 theta_1 = 0.14637306912257145 error = 0.03798873028543463\n",
      "theta_0 = 0.28705815562602577 theta_1 = 0.14711300448026915 error = 0.037494700524883406\n",
      "theta_0 = 0.2884327767491858 theta_1 = 0.14784428798840327 error = 0.037012831033706575\n",
      "theta_0 = 0.2897901028551704 theta_1 = 0.14856702680047779 error = 0.036542822228505745\n",
      "theta_0 = 0.2911303483602417 theta_1 = 0.1492813267418336 error = 0.03608438190658188\n",
      "theta_0 = 0.2924537250229455 theta_1 = 0.14998729232611122 error = 0.035637225064100345\n",
      "theta_0 = 0.2937604419770533 theta_1 = 0.15068502677150944 error = 0.03520107371873577\n",
      "theta_0 = 0.29505070576409714 theta_1 = 0.15137463201684248 error = 0.03477565673668626\n",
      "theta_0 = 0.2963247203655003 theta_1 = 0.15205620873739797 error = 0.03436070966394948\n",
      "theta_0 = 0.29758268723431014 theta_1 = 0.1527298563605986 error = 0.03395597456175543\n",
      "theta_0 = 0.2988248053265377 theta_1 = 0.15339567308146942 error = 0.033561199846053595\n",
      "theta_0 = 0.30005127113210867 theta_1 = 0.15405375587791362 error = 0.033176140130954615\n",
      "theta_0 = 0.30126227870543054 theta_1 = 0.15470420052579875 error = 0.032800556076029025\n",
      "theta_0 = 0.30245801969558134 theta_1 = 0.15534710161385618 error = 0.032434214237367955\n",
      "theta_0 = 0.3036386833761238 theta_1 = 0.15598255255839566 error = 0.032076886922313204\n",
      "theta_0 = 0.3048044566745501 theta_1 = 0.15661064561783766 error = 0.03172835204776637\n",
      "theta_0 = 0.3059555242013616 theta_1 = 0.1572314719070655 error = 0.031388393001988535\n",
      "theta_0 = 0.30709206827878816 theta_1 = 0.15784512141159954 error = 0.031056798509804986\n",
      "theta_0 = 0.30821426896915155 theta_1 = 0.15845168300159584 error = 0.030733362501130634\n",
      "theta_0 = 0.3093223041028772 theta_1 = 0.1590512444456711 error = 0.03041788398273456\n",
      "theta_0 = 0.31041634930615875 theta_1 = 0.15964389242455637 error = 0.03011016691316388\n",
      "theta_0 = 0.3114965780282796 theta_1 = 0.16022971254458157 error = 0.029810020080749077\n",
      "theta_0 = 0.31256316156859615 theta_1 = 0.16080878935099266 error = 0.029517256984614732\n",
      "theta_0 = 0.3136162691031861 theta_1 = 0.16138120634110395 error = 0.02923169571862188\n",
      "theta_0 = 0.31465606771116683 theta_1 = 0.16194704597728732 error = 0.028953158858169535\n",
      "theta_0 = 0.31568272240068745 theta_1 = 0.16250638969980036 error = 0.02868147334978509\n",
      "theta_0 = 0.3166963961345985 theta_1 = 0.16305931793945566 error = 0.028416470403434802\n",
      "theta_0 = 0.3176972498558037 theta_1 = 0.16360591013013287 error = 0.028157985387487386\n",
      "theta_0 = 0.3186854425122975 theta_1 = 0.16414624472113584 error = 0.0279058577262653\n",
      "theta_0 = 0.319661131081892 theta_1 = 0.1646803991893965 error = 0.027659930800120094\n",
      "theta_0 = 0.3206244705966374 theta_1 = 0.16520845005152754 error = 0.02742005184796949\n",
      "theta_0 = 0.32157561416694036 theta_1 = 0.1657304728757256 error = 0.02718607187223563\n",
      "theta_0 = 0.3225147130053826 theta_1 = 0.16624654229352698 error = 0.026957845546125323\n",
      "theta_0 = 0.3234419164502446 theta_1 = 0.16675673201141766 error = 0.02673523112319462\n",
      "theta_0 = 0.324357371988738 theta_1 = 0.16726111482229936 error = 0.02651809034914131\n",
      "theta_0 = 0.32526122527994944 theta_1 = 0.1677597626168135 error = 0.026306288375770658\n",
      "theta_0 = 0.32615362017750066 theta_1 = 0.1682527463945248 error = 0.026099693677080645\n",
      "theta_0 = 0.32703469875192714 theta_1 = 0.16874013627496628 error = 0.02589817796741463\n",
      "theta_0 = 0.3279046013127798 theta_1 = 0.1692220015085473 error = 0.025701616121630404\n",
      "theta_0 = 0.32876346643045257 theta_1 = 0.16969841048732642 error = 0.02550988609723606\n",
      "theta_0 = 0.32961143095773926 theta_1 = 0.17016943075565077 error = 0.02532286885844409\n",
      "theta_0 = 0.3304486300511234 theta_1 = 0.1706351290206635 error = 0.025140448302096628\n",
      "theta_0 = 0.33127519719180437 theta_1 = 0.17109557116268095 error = 0.024962511185415516\n",
      "theta_0 = 0.33209126420646246 theta_1 = 0.17155082224544133 error = 0.024788947055532484\n",
      "theta_0 = 0.33289696128776686 theta_1 = 0.1720009465262262 error = 0.024619648180755366\n",
      "theta_0 = 0.3336924170146295 theta_1 = 0.17244600746585662 error = 0.024454509483527717\n",
      "theta_0 = 0.3344777583722075 theta_1 = 0.17288606773856532 error = 0.024293428475040096\n",
      "theta_0 = 0.33525311077165815 theta_1 = 0.17332118924174658 error = 0.024136305191452254\n",
      "theta_0 = 0.33601859806964857 theta_1 = 0.17375143310558513 error = 0.023983042131686644\n",
      "theta_0 = 0.33677434258762395 theta_1 = 0.17417685970256588 error = 0.0238335441967544\n",
      "theta_0 = 0.3375204651308366 theta_1 = 0.1745975286568656 error = 0.02368771863057621\n",
      "theta_0 = 0.33825708500713947 theta_1 = 0.1750134988536283 error = 0.023545474962261104\n",
      "theta_0 = 0.3389843200455464 theta_1 = 0.1754248284481256 error = 0.023406724949807292\n",
      "theta_0 = 0.3397022866145626 theta_1 = 0.17583157487480355 error = 0.02327138252519004\n",
      "theta_0 = 0.34041109964028765 theta_1 = 0.17623379485621737 error = 0.023139363740802377\n",
      "theta_0 = 0.34111087262429446 theta_1 = 0.17663154441185536 error = 0.02301058671721532\n",
      "theta_0 = 0.34180171766128614 theta_1 = 0.17702487886685347 error = 0.02288497159222513\n",
      "theta_0 = 0.3424837454565345 theta_1 = 0.17741385286060193 error = 0.02276244047115583\n",
      "theta_0 = 0.3431570653431021 theta_1 = 0.17779852035524504 error = 0.0226429173783861\n",
      "theta_0 = 0.3438217852988509 theta_1 = 0.17817893464407575 error = 0.02252632821007042\n",
      "theta_0 = 0.3444780119632401 theta_1 = 0.1785551483598261 error = 0.02241260068802498\n",
      "theta_0 = 0.34512585065391593 theta_1 = 0.17892721348285498 error = 0.022301664314749656\n",
      "theta_0 = 0.3457654053830953 theta_1 = 0.17929518134923425 error = 0.022193450329558145\n",
      "theta_0 = 0.3463967788737471 theta_1 = 0.1796591026587349 error = 0.022087891665788815\n",
      "theta_0 = 0.3470200725755722 theta_1 = 0.18001902748271384 error = 0.021984922909069855\n",
      "theta_0 = 0.3476353866807861 theta_1 = 0.1803750052719034 error = 0.02188448025661251\n",
      "theta_0 = 0.34824282013970514 theta_1 = 0.18072708486410383 error = 0.021786501477507263\n",
      "Results\n",
      "167 0.021786501477507263\n"
     ]
    }
   ],
   "source": [
    "# given the observed data (obsX,obsY), learning rate (alpha), and desired error threshold, \n",
    "# the function returns theta0 and theta1 when it reaches the error threshold.\n",
    "# The convergence is reached when the abs(newError - oldError) is less than the threshold.\n",
    "\n",
    "# BEGIN ANSWER  \n",
    "def gd2(obsX, obsY, alpha, threshold):\n",
    "    \"\"\"\n",
    "    Input : observed vectors X, Y, alpha and threshold\n",
    "    Return theta0, theta1 from Gradient Descent L2 loss algorithm\n",
    "    Return: Iterations and L2 Error\n",
    "    \"\"\"\n",
    "    theta_0 = 0\n",
    "    theta_1 = 0\n",
    "    old_error = sqerror(obsX, obsY, theta_0, theta_1)\n",
    "    temp = theta_0\n",
    "    theta_0 = theta_0 - alpha*np.sum((theta_1*obsX+temp-obsY)/len(obsX))\n",
    "    theta_1 = theta_1 - alpha*np.sum((theta_1*obsX+temp-obsY)*obsX/len(obsX))\n",
    "    new_error = sqerror(obsX, obsY, theta_0, theta_1)\n",
    "    iterations = 1\n",
    "    print('theta_0 = '+str(theta_0)+' '+'theta_1 = '+str(theta_1)+'error = '+str(new_error))\n",
    "    while np.absolute(old_error-new_error) >= threshold:\n",
    "        old_error = new_error\n",
    "        temp = theta_0\n",
    "        theta_1\n",
    "        theta_0 = theta_0 - alpha*np.sum((theta_1*obsX+temp-obsY)/len(obsX))\n",
    "        theta_1 = theta_1 - alpha*np.sum((theta_1*obsX+temp-obsY)*obsX/len(obsX))\n",
    "        new_error = sqerror(obsX, obsY, theta_0, theta_1)\n",
    "        iterations += 1\n",
    "        print('theta_0 = '+str(theta_0)+' theta_1 = '+str(theta_1)+' error = '+str(new_error))\n",
    "    return [theta_0,theta_1,new_error,iterations]\n",
    "    \n",
    "# END ANSWER\n",
    "\n",
    "[theta0,theta1,newError,iterations] = gd2(x[0],y,0.01,0.0001)\n",
    "print(\"Results\")\n",
    "print(iterations, newError)"
   ]
  },
  {
   "cell_type": "code",
   "execution_count": 16,
   "metadata": {},
   "outputs": [
    {
     "data": {
      "text/plain": [
       "(0.34824282013970514, 0.18072708486410383)"
      ]
     },
     "execution_count": 16,
     "metadata": {},
     "output_type": "execute_result"
    }
   ],
   "source": [
    "# observe theta0 and theta1\n",
    "theta0, theta1"
   ]
  },
  {
   "cell_type": "markdown",
   "metadata": {},
   "source": [
    "### Activity 3.2 Compute Gradient Descent (Huber)\n",
    "First Compute a formula for Pseudo huber gradient descent using derivative methods discussed in class and recitation. Similar to L2 descent, use the new formulas (obtained from pseudo huber derivatives) to compute values of theta1, theta1, error. The pseudo huber loss function is provided in Activity 2.3. Use that to differentiate the huber function wrt to theta0 and theta1. \n",
    "\n",
    "Please print out the theta0 and theta1 values for each iteration in your function. You may get different output compared with the sample output depending on your initial theta0 and theta1 values. We will accept any answers which are close to the sample output."
   ]
  },
  {
   "cell_type": "code",
   "execution_count": 17,
   "metadata": {},
   "outputs": [
    {
     "name": "stdout",
     "output_type": "stream",
     "text": [
      "2246 0.0022133888687107433\n"
     ]
    }
   ],
   "source": [
    "# given the observed data (obsX,obsY), learning rate (alpha), and desired error, \n",
    "# the function returns theta0, theta1, error and iterations\n",
    "# that reaches a minimum error threshold\n",
    "\n",
    "## BEGIN ANSWER\n",
    "\n",
    "def gdh(obsX, obsY, alpha, threshold, delta):\n",
    "    \"\"\"\n",
    "    Input : observed vectors X, Y, alpha and threshold\n",
    "    Return theta0, theta1 from Gradient Descent huber loss algorithm\n",
    "    Return: Iterations and huber Error\n",
    "    \"\"\"\n",
    "    theta_0 = 0\n",
    "    theta_1 = 0\n",
    "    old_error = huberror(obsX, obsY, theta_0, theta_1, delta)\n",
    "    a = (theta_0+theta_1*obsX-obsY)/np.sqrt((1+((theta_0+theta_1*obsX-obsY)/delta)**2))\n",
    "    theta_0 = theta_0 - alpha*np.sum(a)/len(obsX)\n",
    "    theta_1 = theta_1 - alpha*np.sum(a*obsX)/len(obsX)\n",
    "    new_error = huberror(obsX, obsY, theta_0, theta_1, delta)\n",
    "    iterations = 1\n",
    "    # print('theta_0 = '+str(theta_0)+' '+'theta_1 = '+str(theta_1)+' error = '+str(new_error))\n",
    "    while np.absolute(old_error-new_error) >= threshold:\n",
    "        old_error = new_error\n",
    "        a = (theta_0+theta_1*obsX-obsY)/np.sqrt((1+((theta_0+theta_1*obsX-obsY)/delta)**2))\n",
    "        theta_0 = theta_0 - alpha*np.sum(a)/len(obsX)\n",
    "        theta_1 = theta_1 - alpha*np.sum(a*obsX)/len(obsX)\n",
    "        new_error = huberror(obsX, obsY, theta_0, theta_1, delta)\n",
    "        iterations += 1\n",
    "        # print('theta_0 = '+str(theta_0)+' theta_1 = '+str(theta_1)+' error = '+str(new_error))\n",
    "    return [theta_0,theta_1,new_error,iterations]\n",
    "## END ANSWER\n",
    "\n",
    "# testing    \n",
    "[theta0,theta1,error,iterations] = gdh(x[0], y, 0.01, 0.000001, 0.01)\n",
    "print(iterations, error)"
   ]
  },
  {
   "cell_type": "markdown",
   "metadata": {},
   "source": [
    "### Activity 3.2\n",
    "1. Write the values of theta0, theta1, alpha, error that provided the minimum value through gradient descent\n",
    "2. Experiment the new values of theta0, theta1 to see if the interactive widget shows similar things.\n",
    "\n",
    "##### BEGIN ANSWER\n",
    "1.\n",
    "theta0 = 0.21900868793517833\n",
    "theta1 = 0.10696486575778374\n",
    "alpha = 0.01\n",
    "error = 0.0022133888687107433\n",
    "\n",
    "2. The widget shows similar thing as the prior part\n",
    "##### END ANSWER"
   ]
  },
  {
   "cell_type": "code",
   "execution_count": 18,
   "metadata": {},
   "outputs": [
    {
     "data": {
      "application/vnd.jupyter.widget-view+json": {
       "model_id": "7f2a826688f84e78bcc0cb4d31908b03",
       "version_major": 2,
       "version_minor": 0
      },
      "text/plain": [
       "interactive(children=(FloatSlider(value=0.0, description='theta0', max=1.0), FloatSlider(value=0.0, descriptio…"
      ]
     },
     "metadata": {},
     "output_type": "display_data"
    }
   ],
   "source": [
    "# interactive panel\n",
    "import pylab\n",
    "import numpy\n",
    "\n",
    "def f(theta0, theta1):\n",
    "    \"\"\"\n",
    "    Plot the line and points in an interactive panel\n",
    "    \"\"\"\n",
    "    # plot the line for theta0 and theta1\n",
    "    y1 = h(theta0, theta1, x[0]) \n",
    "    # compose plot\n",
    "    pylab.plot(x[0],y1) \n",
    "    \n",
    "    # compute the L2 error for theta0 and theta1 for 5 decimal places\n",
    "    sqerr = round(sqerror(x[0], y, theta0, theta1),6)\n",
    "    # compute the absolute or L1 error for theta0 and theta1\n",
    "    abserr = round(abserror(x[0], y, theta0, theta1),4)\n",
    "    # compute the phub error for theta0 and theta1\n",
    "    huberr = round(huberror(x[0], y, theta0, theta1, 0.01),4)\n",
    "    pylab.title('L1=' + str(abserr) + '  L2=' + str(sqerr) + '  hub=' + str(huberr))\n",
    "    \n",
    "    # plot the points\n",
    "    x1 = x[0]   \n",
    "    y1 = Y_scaled_values\n",
    "    pylab.scatter(x1, y1, alpha=0.5)\n",
    "    pylab.show() # show the plot  \n",
    "\n",
    "interact(f, theta1=(0,1,0.1), theta0=(0,1,0.1));"
   ]
  },
  {
   "cell_type": "markdown",
   "metadata": {},
   "source": [
    "### Activity 3.3 Compare with Library Estimators\n",
    "Now use the sklearn LinearRegression module to automate this process. What coefficients do you get? Are they close to what you received from gradient descent? Find the error from sklearn package. Is that error smaller or bigger than the squared error you received?"
   ]
  },
  {
   "cell_type": "code",
   "execution_count": 19,
   "metadata": {},
   "outputs": [
    {
     "name": "stdout",
     "output_type": "stream",
     "text": [
      "[0.27432228]\n",
      "[[0.45661798]]\n"
     ]
    }
   ],
   "source": [
    "from sklearn.linear_model import LinearRegression\n",
    "lm = LinearRegression()\n",
    "result = lm.fit(x[0],y)\n",
    "print(result.intercept_)\n",
    "print(result.coef_)"
   ]
  },
  {
   "cell_type": "code",
   "execution_count": 20,
   "metadata": {},
   "outputs": [
    {
     "data": {
      "text/plain": [
       "0.016611812091141386"
      ]
     },
     "execution_count": 20,
     "metadata": {},
     "output_type": "execute_result"
    }
   ],
   "source": [
    "theta0 = result.intercept_\n",
    "theta1 = result.coef_\n",
    "sqerror(x[0],y,theta0,theta1)"
   ]
  },
  {
   "cell_type": "markdown",
   "metadata": {},
   "source": [
    "# Task 4 - Extending the Model to a Bivariate\n",
    "In this task we extend the model to predict housing price using two features \"$x_1 = $Avg. Area House Age\" and \"$x_2 = $Avg. Area Number of Rooms\". The regression model is then defined by  \n",
    "$$\n",
    "y = \\theta_2*x_2 + \\theta_1*x_1 + \\theta_0\n",
    "$$"
   ]
  },
  {
   "cell_type": "markdown",
   "metadata": {},
   "source": [
    "## Activity 4.1\n",
    "We need to estimate the values of $\\theta_2, \\theta_1, \\theta_0$. \n",
    "The $\\theta_0$ formula is given below (using L2 norm). Using the same formating write the formulas for $\\theta_1$ and $\\theta_2$. The alpha is called the \"learning rate\". It is important to pick a good value for alpha so that convergence is not too slow (small alpha) or be at the risk of over shooting the minimum point (large alpha). You may have to experiemnt with few alphas to find something that works. \n",
    "Refer to class lectures for more help. \n",
    "\n",
    "$$\n",
    "\\theta_0 = \\theta_0 - \\alpha*(\\sum(\\theta_2*x_2^j + \\theta_1*x_1^j + \\theta_0)-y^j)\n",
    "$$\n",
    "\n",
    "\n",
    "\n",
    "/* write equations for $\\theta_1$ and $\\theta_2$ here */\n",
    "$$\n",
    "\\theta_1 = \\theta_1 - \\alpha*(\\sum(\\theta_2*x_2^j + \\theta_1*x_1^j + \\theta_0)-y^j)*x_1^j\n",
    "$$\n",
    "$$\n",
    "\\theta_2 = \\theta_2 - \\alpha*(\\sum(\\theta_2*x_2^j + \\theta_1*x_1^j + \\theta_0)-y^j)*x_2^j\n",
    "$$"
   ]
  },
  {
   "cell_type": "markdown",
   "metadata": {},
   "source": [
    "## Activity 4.2 Compute Parameters using the Gradient Descent Algorithm (L2 loss)\n",
    "Print out the $\\theta_0$, $\\theta_1$ and $\\theta_2$ values for each iteration in your function. You may get different outputs depends on your initial choice of $\\theta_0$, $\\theta_1$ and $\\theta_2$ values. We will accept any answers which are close to the sample output."
   ]
  },
  {
   "cell_type": "code",
   "execution_count": 21,
   "metadata": {},
   "outputs": [
    {
     "name": "stdout",
     "output_type": "stream",
     "text": [
      "theta_0 = 0.004959119373723787 theta_1 = 0.0025013010404161297 theta_2 0.002539051820932272 error = 0.2594617686038213\n",
      "theta_0 = 0.00984384401000739 theta_1 = 0.004965981423473754 theta_2 0.005040542097256905 error = 0.25227718633717944\n",
      "theta_0 = 0.014655282932420532 theta_1 = 0.007394586925502351 theta_2 0.007505030718281583 error = 0.24530518067694573\n",
      "theta_0 = 0.01939452863292934 theta_1 = 0.00978765518726655 theta_2 0.00993306922735595 error = 0.2385394613422675\n",
      "theta_0 = 0.02406265731832373 theta_1 = 0.012145715835238446 theta_2 0.012325200946280144 error = 0.2319739241859856\n",
      "theta_0 = 0.028660729152971444 theta_1 = 0.014469290601062182 theta_2 0.014681961097858852 error = 0.22560264568681157\n",
      "theta_0 = 0.03318978849795347 theta_1 = 0.016758893439237737 theta_2 0.017003876926628504 error = 0.21941987760448542\n",
      "theta_0 = 0.03765086414663482 theta_1 = 0.019015030643050466 theta_2 0.019291467817784874 error = 0.21342004179309002\n",
      "theta_0 = 0.04204496955672378 theta_1 = 0.02123820095877255 theta_2 0.021545245414337878 error = 0.20759772516784422\n",
      "theta_0 = 0.04637310307887198 theta_1 = 0.023428895698162096 theta_2 0.02376571373252001 error = 0.20194767482083106\n",
      "theta_0 = 0.05063624818186685 theta_1 = 0.025587598849285294 theta_2 0.025953369275474467 error = 0.19646479328125527\n",
      "theta_0 = 0.05483537367446728 theta_1 = 0.027714787185686596 theta_2 0.028108701145248566 error = 0.19114413391595306\n",
      "theta_0 = 0.058971433923932455 theta_1 = 0.029810930373931552 theta_2 0.030232191153117757 error = 0.18598089646600385\n",
      "theta_0 = 0.06304536907129324 theta_1 = 0.03187649107954658 theta_2 0.03232431392826508 error = 0.18097042271541658\n",
      "theta_0 = 0.06705810524341461 theta_1 = 0.033911925071379544 theta_2 0.034385537024840616 error = 0.1761081922879829\n",
      "theta_0 = 0.07101055476189704 theta_1 = 0.035917681324404684 theta_2 0.03641632102742504 error = 0.17138981856850385\n",
      "theta_0 = 0.07490361634886379 theta_1 = 0.0378942021209951 theta_2 0.03841711965492112 error = 0.16681104474471056\n",
      "theta_0 = 0.07873817532968082 theta_1 = 0.0398419231506856 theta_2 0.04038837986289652 error = 0.16236773996630735\n",
      "theta_0 = 0.0825151038326547 theta_1 = 0.04176127360844848 theta_2 0.04233054194440109 error = 0.15805589561767078\n",
      "theta_0 = 0.08623526098575383 theta_1 = 0.043652676291504315 theta_2 0.04424403962928127 error = 0.15387162170084265\n",
      "theta_0 = 0.08989949311039724 theta_1 = 0.045516547694689685 theta_2 0.046129300182014124 error = 0.14981114332555248\n",
      "theta_0 = 0.09350863391235464 theta_1 = 0.04735329810440327 theta_2 0.047986744498082975 error = 0.14587079730310257\n",
      "theta_0 = 0.09706350466980086 theta_1 = 0.049163331691151606 theta_2 0.04981678719891644 error = 0.14204702884104234\n",
      "theta_0 = 0.10056491441856712 theta_1 = 0.0509470466007152 theta_2 0.051619836725412274 error = 0.13833638833564965\n",
      "theta_0 = 0.10401366013463072 theta_1 = 0.05270483504395584 theta_2 0.053396295430067076 error = 0.13473552825932464\n",
      "theta_0 = 0.10741052691388465 theta_1 = 0.05443708338528503 theta_2 0.0551465596677327 error = 0.13124120014008758\n",
      "theta_0 = 0.11075628814922732 theta_1 = 0.05614417222981382 theta_2 0.05687101988501979 error = 0.12785025163045588\n",
      "theta_0 = 0.11405170570501255 theta_1 = 0.05782647650920343 theta_2 0.05857006070836863 error = 0.12455962366305455\n",
      "theta_0 = 0.11729753008889919 theta_1 = 0.059484365566236236 theta_2 0.06024406103080718 error = 0.12136634769039423\n",
      "theta_0 = 0.12049450062113902 theta_1 = 0.061118203238126036 theta_2 0.061893394097415844 error = 0.11826754300632628\n",
      "theta_0 = 0.12364334560134115 theta_1 = 0.06272834793858649 theta_2 0.0635184275895183 error = 0.11526041414675758\n",
      "theta_0 = 0.12674478247275062 theta_1 = 0.0643151527386762 theta_2 0.06511952370761727 error = 0.11234224836728009\n",
      "theta_0 = 0.12979951798407816 theta_1 = 0.06587896544643872 theta_2 0.06669703925309409 error = 0.10951041319543886\n",
      "theta_0 = 0.13280824834891763 theta_1 = 0.0674201286853553 theta_2 0.0682513257086904 error = 0.10676235405543053\n",
      "theta_0 = 0.13577165940278713 theta_1 = 0.06893897997162833 theta_2 0.06978272931779012 error = 0.10409559196308814\n",
      "theta_0 = 0.13869042675782914 theta_1 = 0.07043585179031268 theta_2 0.07129159116251961 error = 0.1015077212890732\n",
      "theta_0 = 0.14156521595520477 theta_1 = 0.07191107167031217 theta_2 0.07277824724068373 error = 0.0989964075882563\n",
      "theta_0 = 0.14439668261521615 theta_1 = 0.07336496225825818 theta_2 0.0742430285415549 error = 0.09655938549332792\n",
      "theta_0 = 0.14718547258519124 theta_1 = 0.07479784139128692 theta_2 0.07568626112053255 error = 0.09419445667073868\n",
      "theta_0 = 0.149932222085164 theta_1 = 0.07621002216873192 theta_2 0.07710826617268958 error = 0.09189948783712469\n",
      "theta_0 = 0.15263755785138308 theta_1 = 0.07760181302274777 theta_2 0.07850936010522255 error = 0.0896724088344283\n",
      "theta_0 = 0.1553020972776815 theta_1 = 0.0789735177878812 theta_2 0.07988985460882189 error = 0.08751121076197718\n",
      "theta_0 = 0.15792644855473856 theta_1 = 0.08032543576960499 theta_2 0.08125005672797819 error = 0.08541394416383673\n",
      "theta_0 = 0.16051121080726632 theta_1 = 0.08165786181183038 theta_2 0.08259026893024053 error = 0.08337871726979963\n",
      "theta_0 = 0.1630569742291508 theta_1 = 0.08297108636341306 theta_2 0.08391078917444239 error = 0.081403694288426\n",
      "theta_0 = 0.16556432021657888 theta_1 = 0.08426539554366783 theta_2 0.08521191097791056 error = 0.07948709375059347\n",
      "theta_0 = 0.1680338214991806 theta_1 = 0.08554107120690659 theta_2 0.0864939234826722 error = 0.07762718690206281\n",
      "theta_0 = 0.17046604226921686 theta_1 = 0.08679839100601441 theta_2 0.08775711152067497 error = 0.07582229614360868\n",
      "theta_0 = 0.17286153830884096 theta_1 = 0.08803762845507784 theta_2 0.08900175567803502 error = 0.07407079351730783\n",
      "theta_0 = 0.17522085711546362 theta_1 = 0.08925905299107964 theta_2 0.09022813235832718 error = 0.0723710992376193\n",
      "theta_0 = 0.1775445380252489 theta_1 = 0.09046293003467389 theta_2 0.09143651384493179 error = 0.07072168026593063\n",
      "theta_0 = 0.17983311233476934 theta_1 = 0.09164952105005517 theta_2 0.09262716836245218 error = 0.06912104892728457\n",
      "theta_0 = 0.1820871034208477 theta_1 = 0.09281908360393529 theta_2 0.0938003601372165 error = 0.06756776156803751\n",
      "theta_0 = 0.18430702685861222 theta_1 = 0.0939718714236409 theta_2 0.09495634945687789 error = 0.06606041725323888\n",
      "theta_0 = 0.18649339053779215 theta_1 = 0.09510813445434502 theta_2 0.09609539272912601 error = 0.06459765650255596\n",
      "theta_0 = 0.1886466947772797 theta_1 = 0.0962281189154455 theta_2 0.09721774253952355 error = 0.06317816006360336\n",
      "theta_0 = 0.19076743243798422 theta_1 = 0.09733206735610309 theta_2 0.09832364770848051 error = 0.06180064772157084\n",
      "theta_0 = 0.19285608903400428 theta_1 = 0.09842021870995157 theta_2 0.09941335334737926 error = 0.06046387714407468\n",
      "theta_0 = 0.19491314284214245 theta_1 = 0.09949280834899248 theta_2 0.10048710091386291 error = 0.05916664276019107\n",
      "theta_0 = 0.1969390650097876 theta_1 = 0.10055006813668624 theta_2 0.1015451282662996 error = 0.05790777467265929\n",
      "theta_0 = 0.1989343196611891 theta_1 = 0.10159222648025212 theta_2 0.10258766971743485 error = 0.05668613760227387\n",
      "theta_0 = 0.20089936400214686 theta_1 = 0.10261950838218846 theta_2 0.10361495608724419 error = 0.05550062986351261\n",
      "theta_0 = 0.20283464842314075 theta_1 = 0.10363213549102493 theta_2 0.10462721475499795 error = 0.05435018237047678\n",
      "theta_0 = 0.20474061660092285 theta_1 = 0.10463032615131829 theta_2 0.10562466971054989 error = 0.05323375767224587\n",
      "theta_0 = 0.20661770559859516 theta_1 = 0.10561429545290282 theta_2 0.10660754160486137 error = 0.05215034901677719\n",
      "theta_0 = 0.2084663459641956 theta_1 = 0.10658425527940672 theta_2 0.10757604779977235 error = 0.051098979442505084\n",
      "theta_0 = 0.21028696182781456 theta_1 = 0.10754041435604515 theta_2 0.1085304024170305 error = 0.05007870089682041\n",
      "theta_0 = 0.21207997099726345 theta_1 = 0.10848297829670098 theta_2 0.10947081638658944 error = 0.04908859338063492\n",
      "theta_0 = 0.21384578505231752 theta_1 = 0.10941214965030366 theta_2 0.110397497494187 error = 0.04812776411825834\n",
      "theta_0 = 0.2155848094375537 theta_1 = 0.11032812794651678 theta_2 0.11131065042821432 error = 0.04719534675183957\n",
      "theta_0 = 0.2172974435538046 theta_1 = 0.11123110974074457 theta_2 0.1122104768258863 error = 0.046290500559644794\n",
      "theta_0 = 0.21898408084824914 theta_1 = 0.1121212886584675 theta_2 0.1130971753187237 error = 0.04541240969746733\n",
      "theta_0 = 0.22064510890316047 theta_1 = 0.11299885543891704 theta_2 0.1139709415773574 error = 0.04456028246248461\n",
      "theta_0 = 0.2222809095233307 theta_1 = 0.11386399797809935 theta_2 0.11483196835566477 error = 0.04373335057889824\n",
      "theta_0 = 0.22389185882219276 theta_1 = 0.11471690137117765 theta_2 0.11568044553424797 error = 0.04293086850471236\n",
      "theta_0 = 0.22547832730665812 theta_1 = 0.11555774795422283 theta_2 0.1165165601632644 error = 0.04215211275902493\n",
      "theta_0 = 0.22704067996069024 theta_1 = 0.11638671734534167 theta_2 0.1173404965046184 error = 0.04139638126922498\n",
      "theta_0 = 0.22857927632763198 theta_1 = 0.11720398648519204 theta_2 0.11815243607352438 error = 0.04066299273750667\n",
      "theta_0 = 0.2300944705913059 theta_1 = 0.11800972967689408 theta_2 0.11895255767945001 error = 0.03995128602612864\n",
      "theta_0 = 0.2315866116559057 theta_1 = 0.11880411862534657 theta_2 0.11974103746644937 error = 0.03926061956086401\n",
      "theta_0 = 0.23305604322469664 theta_1 = 0.11958732247595712 theta_2 0.12051804895289478 error = 0.0385903707521026\n",
      "theta_0 = 0.23450310387754295 theta_1 = 0.12035950785279508 theta_2 0.12128376307061633 error = 0.03793993543308326\n",
      "theta_0 = 0.23592812714727934 theta_1 = 0.12112083889617571 theta_2 0.12203834820345809 error = 0.03730872731474917\n",
      "theta_0 = 0.2373314415949445 theta_1 = 0.12187147729968414 theta_2 0.12278197022525943 error = 0.03669617745673442\n",
      "theta_0 = 0.23871337088389263 theta_1 = 0.12261158234664737 theta_2 0.12351479253727032 error = 0.03610173375400439\n",
      "theta_0 = 0.24007423385280072 theta_1 = 0.12334131094606265 theta_2 0.12423697610500885 error = 0.0355248604386869\n",
      "theta_0 = 0.24141434458758715 theta_1 = 0.12406081766799032 theta_2 0.12494867949456927 error = 0.03496503759664434\n",
      "theta_0 = 0.24273401249225848 theta_1 = 0.12477025477841897 theta_2 0.12565005890838887 error = 0.034421760698350984\n",
      "theta_0 = 0.24403354235870015 theta_1 = 0.125469772273611 theta_2 0.12634126822048178 error = 0.03389454014365176\n",
      "theta_0 = 0.24531323443542666 theta_1 = 0.12615951791393612 theta_2 0.12702245901114737 error = 0.033382900819992026\n",
      "theta_0 = 0.2465733844953072 theta_1 = 0.1268396372572006 theta_2 0.12769378060116143 error = 0.03288638167371961\n",
      "theta_0 = 0.2478142839022815 theta_1 = 0.12751027369147963 theta_2 0.1283553800854576 error = 0.03240453529407234\n",
      "theta_0 = 0.2490362196770813 theta_1 = 0.12817156846746022 theta_2 0.12900740236630678 error = 0.031936927509475556\n",
      "theta_0 = 0.25023947456197226 theta_1 = 0.12882366073030216 theta_2 0.12964999018600193 error = 0.031483136995785636\n",
      "theta_0 = 0.2514243270845304 theta_1 = 0.12946668755102383 theta_2 0.1302832841590556 error = 0.031042754896125655\n",
      "theta_0 = 0.25259105162046835 theta_1 = 0.1301007839574204 theta_2 0.13090742280391768 error = 0.030615384451970575\n",
      "theta_0 = 0.2537399184555248 theta_1 = 0.13072608296452082 theta_2 0.1315225425742201 error = 0.030200640645148685\n",
      "theta_0 = 0.2548711938464314 theta_1 = 0.13134271560459118 theta_2 0.13212877788955607 error = 0.029798149850436606\n",
      "theta_0 = 0.2559851400809711 theta_1 = 0.13195081095669056 theta_2 0.13272626116580022 error = 0.029407549498434143\n",
      "theta_0 = 0.2570820155371407 theta_1 = 0.13255049617578643 theta_2 0.13331512284497696 error = 0.02902848774841501\n",
      "theta_0 = 0.25816207474143227 theta_1 = 0.13314189652143593 theta_2 0.1338954914246836 error = 0.02866062317085799\n",
      "theta_0 = 0.25922556842624506 theta_1 = 0.13372513538603978 theta_2 0.13446749348707482 error = 0.02830362443937235\n",
      "theta_0 = 0.2602727435864421 theta_1 = 0.1343003343226749 theta_2 0.13503125372741506 error = 0.027957170031739267\n",
      "theta_0 = 0.2613038435350635 theta_1 = 0.1348676130725122 theta_2 0.13558689498220544 error = 0.027620947939799766\n",
      "theta_0 = 0.2623191079582093 theta_1 = 0.13542708959182556 theta_2 0.13613453825689123 error = 0.027294655387927143\n",
      "theta_0 = 0.26331877296910433 theta_1 = 0.1359788800785984 theta_2 0.13667430275315634 error = 0.026977998559830116\n",
      "theta_0 = 0.26430307116135704 theta_1 = 0.13652309899873352 theta_2 0.13720630589581112 error = 0.026670692333439928\n",
      "theta_0 = 0.2652722316614244 theta_1 = 0.13705985911187216 theta_2 0.13773066335927908 error = 0.026372460023642415\n",
      "theta_0 = 0.26622648018029477 theta_1 = 0.13758927149682837 theta_2 0.13824748909368903 error = 0.026083033132622765\n",
      "theta_0 = 0.26716603906440056 theta_1 = 0.13811144557664415 theta_2 0.13875689535057809 error = 0.025802151107597742\n",
      "theta_0 = 0.2680911273457716 theta_1 = 0.1386264891432711 theta_2 0.13925899270821177 error = 0.025529561105716803\n",
      "theta_0 = 0.26900196079144123 theta_1 = 0.1391345083818842 theta_2 0.13975389009652636 error = 0.02526501776591994\n",
      "theta_0 = 0.26989875195211566 theta_1 = 0.13963560789483304 theta_2 0.14024169482169976 error = 0.025008282987546385\n",
      "theta_0 = 0.270781710210118 theta_1 = 0.1401298907252362 theta_2 0.14072251259035587 error = 0.024759125715494476\n",
      "theta_0 = 0.27165104182661753 theta_1 = 0.14061745838022388 theta_2 0.1411964475334083 error = 0.024517321731738758\n",
      "theta_0 = 0.2725069499881552 theta_1 = 0.14109841085383382 theta_2 0.14166360222954857 error = 0.024282653453016223\n",
      "theta_0 = 0.27334963485247527 theta_1 = 0.14157284664956632 theta_2 0.14212407772838426 error = 0.024054909734499173\n",
      "theta_0 = 0.27417929359367377 theta_1 = 0.14204086280260278 theta_2 0.14257797357323215 error = 0.02383388567927755\n",
      "theta_0 = 0.2749961204466742 theta_1 = 0.14250255490169308 theta_2 0.1430253878235717 error = 0.02361938245347881\n",
      "theta_0 = 0.2758003067510402 theta_1 = 0.14295801711071673 theta_2 0.14346641707716376 error = 0.023411207106858473\n",
      "theta_0 = 0.276592040994135 theta_1 = 0.14340734218992265 theta_2 0.14390115649183963 error = 0.023209172398699594\n",
      "theta_0 = 0.2773715088536375 theta_1 = 0.14385062151685227 theta_2 0.14432969980696525 error = 0.023013096628863916\n",
      "theta_0 = 0.2781388932394247 theta_1 = 0.14428794510695078 theta_2 0.1447521393645855 error = 0.022822803473842444\n",
      "theta_0 = 0.27889437433483 theta_1 = 0.14471940163387118 theta_2 0.14516856613025325 error = 0.022638121827657245\n",
      "theta_0 = 0.2796381296372859 theta_1 = 0.14514507844947552 theta_2 0.145579069713548 error = 0.022458885647471196\n",
      "theta_0 = 0.2803703339983615 theta_1 = 0.14556506160353824 theta_2 0.14598373838828857 error = 0.02228493380376619\n",
      "theta_0 = 0.28109115966320275 theta_1 = 0.1459794358631555 theta_2 0.1463826591124446 error = 0.022116109934954664\n",
      "theta_0 = 0.2818007763093851 theta_1 = 0.14638828473186552 theta_2 0.14677591754775116 error = 0.02195226230629332\n",
      "theta_0 = 0.28249935108518665 theta_1 = 0.14679169046848353 theta_2 0.1471635980790309 error = 0.021793243672971623\n",
      "theta_0 = 0.28318704864729116 theta_1 = 0.14718973410565636 theta_2 0.14754578383322844 error = 0.021638911147251635\n",
      "theta_0 = 0.28386403119792875 theta_1 = 0.1475824954681401 theta_2 0.14792255669816076 error = 0.02148912606953928\n",
      "theta_0 = 0.2845304585214631 theta_1 = 0.14797005319080547 theta_2 0.14829399734098817 error = 0.021343753883270696\n",
      "theta_0 = 0.2851864880204331 theta_1 = 0.14835248473637488 theta_2 0.14866018522640995 error = 0.021202664013500752\n",
      "theta_0 = 0.28583227475105777 theta_1 = 0.14872986641289487 theta_2 0.14902119863458888 error = 0.021065729749084248\n",
      "theta_0 = 0.28646797145821107 theta_1 = 0.14910227339094825 theta_2 0.14937711467880832 error = 0.020932828128343454\n",
      "theta_0 = 0.2870937286098762 theta_1 = 0.14946977972060962 theta_2 0.1497280093228663 error = 0.020803839828118793\n",
      "theta_0 = 0.2877096944310856 theta_1 = 0.14983245834814823 theta_2 0.1500739573982103 error = 0.020678649056102644\n",
      "theta_0 = 0.28831601493735576 theta_1 = 0.15019038113248168 theta_2 0.15041503262081649 error = 0.02055714344635899\n",
      "theta_0 = 0.2889128339676229 theta_1 = 0.15054361886138454 theta_2 0.1507513076078174 error = 0.020439213957934778\n",
      "theta_0 = 0.2895002932166882 theta_1 = 0.15089224126745523 theta_2 0.15108285389388196 error = 0.02032475477647139\n",
      "theta_0 = 0.29007853226717917 theta_1 = 0.151236317043845 theta_2 0.15140974194735096 error = 0.02021366321872753\n",
      "theta_0 = 0.29064768862103474 theta_1 = 0.15157591385975228 theta_2 0.15173204118613234 error = 0.020105839639927313\n",
      "theta_0 = 0.2912078977305208 theta_1 = 0.1519110983756863 theta_2 0.1520498199933594 error = 0.020001187343850025\n",
      "theta_0 = 0.2917592930287837 theta_1 = 0.15224193625850296 theta_2 0.15236314573281554 error = 0.019899612495580355\n",
      "theta_0 = 0.29230200595994776 theta_1 = 0.1525684921962167 theta_2 0.1526720847641292 error = 0.01980102403684042\n",
      "145 0.01980102403684042\n"
     ]
    }
   ],
   "source": [
    "# given the observed data (obsX,obsY), learning rate (alpha), and desired error threshold, \n",
    "# the function returns theta0, theta1 and theta2 when it reaches the error threshold.\n",
    "# The convergence is reached when the abs(newError - oldError) is less than the threshold.\n",
    "# BEGIN ANSWER\n",
    "def sqerror2(x, y, theta0, theta1, theta2):\n",
    "    return np.sum(np.power((theta0+theta1*x[0]+theta2*x[1]-y), 2))/len(x[0])\n",
    "def gd22(obsX, obsY, alpha, threshold):\n",
    "    \"\"\"\n",
    "    Input : observed vectors X, Y, alpha and threshold\n",
    "    Return theta0, theta1, theta2 from Gradient Descent L2 loss algorithm\n",
    "    Return: Iterations and L2 Error\n",
    "    \"\"\"\n",
    "    theta_0 = 0.0\n",
    "    theta_1 = 0.0\n",
    "    theta_2 = 0.0\n",
    "    old_error = sqerror2(obsX, obsY, theta_0, theta_1, theta_2)\n",
    "    a = theta_0+theta_1*obsX[0]+theta_2*obsX[1]-obsY\n",
    "    theta_0 = theta_0 - alpha*np.sum(a)/len(obsX[0])\n",
    "    theta_1 = theta_1 - alpha*np.sum(a*obsX[0])/len(obsX[0])\n",
    "    theta_2 = theta_2 - alpha*np.sum(a*obsX[1])/len(obsX[0])\n",
    "    new_error = sqerror2(obsX, obsY, theta_0, theta_1, theta_2)\n",
    "    iterations = 1\n",
    "    print('theta_0 = '+str(theta_0)+' theta_1 = '+str(theta_1)+' theta_2 '+str(theta_2)+' error = '+str(new_error))\n",
    "    while np.absolute(old_error-new_error) >= threshold:\n",
    "        old_error = new_error\n",
    "        a = theta_0+theta_1*obsX[0]+theta_2*obsX[1]-obsY\n",
    "        theta_0 = theta_0 - alpha*np.sum(a)/len(obsX[0])\n",
    "        theta_1 = theta_1 - alpha*np.sum(a*obsX[0])/len(obsX[0])\n",
    "        theta_2 = theta_2 - alpha*np.sum(a*obsX[1])/len(obsX[0])\n",
    "        new_error = sqerror2(obsX, obsY, theta_0, theta_1, theta_2)\n",
    "        iterations += 1\n",
    "        print('theta_0 = '+str(theta_0)+' theta_1 = '+str(theta_1)+' theta_2 '+str(theta_2)+' error = '+str(new_error))\n",
    "    return [theta_0,theta_1,theta_2,new_error,iterations]\n",
    "    \n",
    "    \n",
    "# END ANSWER\n",
    "[theta0,theta1,theta2, newError,iterations] = gd22(x,y,0.01,0.0001)\n",
    "print(iterations, newError)"
   ]
  },
  {
   "cell_type": "markdown",
   "metadata": {},
   "source": [
    "Write the values of thetas obtained from function above.\n",
    "$$\\theta_0 = 0.29230200595994776$$\n",
    "$$\\theta_1 = 0.1525684921962167$$\n",
    "$$\\theta_2 = 0.1526720847641292$$\n",
    "and write the model \n",
    "$$\n",
    "y = \\theta_2*x_2 + \\theta_1*x_1 + \\theta_0\n",
    "$$\n",
    "$$\n",
    "\\theta_0 = \\theta_0 - \\alpha*(\\sum(\\theta_2*x_2^j + \\theta_1*x_1^j + \\theta_0)-y^j)\n",
    "$$\n",
    "$$\n",
    "\\theta_1 = \\theta_1 - \\alpha*(\\sum(\\theta_2*x_2^j + \\theta_1*x_1^j + \\theta_0)-y^j)*x_1^j\n",
    "$$\n",
    "$$\n",
    "\\theta_2 = \\theta_2 - \\alpha*(\\sum(\\theta_2*x_2^j + \\theta_1*x_1^j + \\theta_0)-y^j)*x_2^j\n",
    "$$\n",
    "$$\n",
    "y = 0.1526720847641292*x_2 + 0.1525684921962167*x_1 + 0.29230200595994776\n",
    "$$"
   ]
  },
  {
   "cell_type": "markdown",
   "metadata": {},
   "source": [
    "## Activity 4.3 Compare Coefficients with Library Estimators\n",
    "Now use the sklearn LinearRegression module to automate the process of finding coefficients. "
   ]
  },
  {
   "cell_type": "code",
   "execution_count": 22,
   "metadata": {},
   "outputs": [
    {
     "name": "stdout",
     "output_type": "stream",
     "text": [
      "[0.45718158 0.36702939]\n",
      "0.09096981082366068\n"
     ]
    }
   ],
   "source": [
    "# fit a regression model\n",
    "import pandas as pd\n",
    "import numpy as np\n",
    "from sklearn import metrics\n",
    "from sklearn.linear_model import LinearRegression\n",
    "from sklearn.metrics import r2_score\n",
    "# assume\n",
    "Y = y\n",
    "X = np.stack(x)\n",
    "X = X.reshape(2, -1).T\n",
    "Y = Y.reshape(-1)\n",
    "\n",
    "model = LinearRegression().fit(X, Y)\n",
    "\n",
    "print(model.coef_)\n",
    "print(model.intercept_)"
   ]
  },
  {
   "cell_type": "markdown",
   "metadata": {},
   "source": [
    "What coefficients do you get? Are they close to what you received from gradient descent? ]Is that error smaller or bigger than the squared error you received?\n",
    "\n",
    "##### Begin Answer\n",
    "I got [0.45718158 0.36702939] for the coefficients. They are not really close to what I receive from my gradient descent implementation. The error is bigger than I got.\n",
    "\n",
    "##### End Answer"
   ]
  },
  {
   "cell_type": "markdown",
   "metadata": {},
   "source": [
    "## Activity 4.4.1 - Predict the Housing Price using test set data - gradient descent\n",
    "Use the test set to find the estimated value of the home $y$ using coefficients received from gradient descent. Defined the average error as 1/m * $\\sum$ abs(predicted - actual) where m is the size of the test data set."
   ]
  },
  {
   "cell_type": "code",
   "execution_count": 39,
   "metadata": {},
   "outputs": [
    {
     "name": "stdout",
     "output_type": "stream",
     "text": [
      "0.1430866776467745\n"
     ]
    }
   ],
   "source": [
    "## Begin ANSWER\n",
    "scaler = MinMaxScaler()\n",
    "temp = scaler.fit_transform(df_testing)\n",
    "X_scaled_values = temp[:,[[0],[1]]]\n",
    "Y_scaled_values = temp[:,[2]]\n",
    "x = X_scaled_values\n",
    "y = Y_scaled_values\n",
    "new_x = [x[:,0], x[:,1]]\n",
    "x = new_x\n",
    "Y = y\n",
    "X = np.stack(x)\n",
    "X = X.reshape(2, -1).T\n",
    "Y = Y.reshape(-1)\n",
    "predicted = []\n",
    "for row in X:\n",
    "     predicted.append(theta0+theta1*row[0]+theta2*row[1])\n",
    "error_gs = np.sum(np.absolute(predicted-Y))/len(Y)\n",
    "## End ANSWER\n",
    "error_gd = print(np.absolute(error_gs))"
   ]
  },
  {
   "cell_type": "markdown",
   "metadata": {},
   "source": [
    "## Activity 4.4.2 - Predict the Housing Price using test set data - library estimator\n",
    "Use the test set to find the estimated value of the home $y$ using coefficients received from library estimators. Defined the averge error as 1/m * $\\sum$ abs(predicted - actual) where m is the size of the test data set."
   ]
  },
  {
   "cell_type": "code",
   "execution_count": 41,
   "metadata": {},
   "outputs": [
    {
     "name": "stdout",
     "output_type": "stream",
     "text": [
      "0.12166769680633199\n"
     ]
    }
   ],
   "source": [
    "## Begin ANSWER\n",
    "predicted = model.predict(X)\n",
    "error_lib = np.sum(np.absolute(predicted-Y))/len(Y)\n",
    "\n",
    "## End ANSWER\n",
    "error_lib = print(abs(error_lib))"
   ]
  },
  {
   "cell_type": "markdown",
   "metadata": {},
   "source": [
    "## Activity 4.4.3\n",
    "Compare the performance of Gradient Descent and Library Estimators. Briefly explain your observations and if there are significant descrepancies, explain them in your words. Do you think either model would be a reasonable model for predicting home prices for new homes on the market? Why or Why not.\n",
    "\n",
    "### begin answer\n",
    "\n",
    "The performance of Livrary Estimator is slightly better than gradient descent. I think both models are reasonable model for predicting home prices however, I still think that in industries, the model with libraries like sklearn are better than hard-coded gradient descent in terms of productivity.\n",
    "\n",
    "### end answer"
   ]
  },
  {
   "cell_type": "markdown",
   "metadata": {},
   "source": [
    "### Feedback\n",
    "Please provide feedback on this lab.\n",
    "* how would you rate this lab (from 1-lowest, 10-highest) : 7\n",
    "* how can we improve his lab? : The maths are a bit hard. Some of the questions might need more clear explanations."
   ]
  },
  {
   "cell_type": "markdown",
   "metadata": {},
   "source": [
    "<div class=\"alert alert-block alert-info\">\n",
    "<h2>Submission Instructions</h2> \n",
    "<b> File Name:</b> Please name the file as your_section_your_netID_lab5.jpynb<br>\n",
    "<b> Submit To: </b> codebench <br>\n",
    "<b>Warning:</b> Failure to follow directions may result in loss points.<br>\n",
    "</div>"
   ]
  },
  {
   "cell_type": "markdown",
   "metadata": {},
   "source": [
    "@2022 All Rights Reserved. Lab Developed by A.D. Gunawardena for CS 439. DO NOT post a copy of this lab or solutions in public space such as github or on commercial sites. "
   ]
  }
 ],
 "metadata": {
  "kernelspec": {
   "display_name": "Python 3",
   "language": "python",
   "name": "python3"
  },
  "language_info": {
   "codemirror_mode": {
    "name": "ipython",
    "version": 3
   },
   "file_extension": ".py",
   "mimetype": "text/x-python",
   "name": "python",
   "nbconvert_exporter": "python",
   "pygments_lexer": "ipython3",
   "version": "3.9.5"
  }
 },
 "nbformat": 4,
 "nbformat_minor": 4
}
